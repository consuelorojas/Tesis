{
 "cells": [
  {
   "cell_type": "code",
   "execution_count": 1,
   "metadata": {},
   "outputs": [
    {
<<<<<<< Updated upstream
     "name": "stderr",
     "output_type": "stream",
     "text": [
      "c:\\Users\\consu\\AppData\\Local\\Programs\\Python\\Python310\\lib\\site-packages\\scipy\\__init__.py:155: UserWarning: A NumPy version >=1.18.5 and <1.25.0 is required for this version of SciPy (detected version 1.26.3\n",
      "  warnings.warn(f\"A NumPy version >={np_minversion} and <{np_maxversion}\"\n"
     ]
    },
    {
     "data": {
      "text/plain": [
       "<torch._C.Generator at 0x20bbb848c70>"
=======
     "data": {
      "text/plain": [
       "<torch._C.Generator at 0x11b81fe30>"
>>>>>>> Stashed changes
      ]
     },
     "execution_count": 1,
     "metadata": {},
     "output_type": "execute_result"
    }
   ],
   "source": [
    "#files\n",
    "import sys\n",
    "#from os import listdir\n",
    "sys.path.append('../data')\n",
    "sys.path.append('../Librerias')\n",
    "#from os.path import isfile, join\n",
    "\n",
    "#own libs\n",
    "import utils\n",
    "import caract as dc\n",
    "import dataset as ds\n",
    "from models import SimpleRNN, LSTM, MLP\n",
    "#from lstm_models import LSTM\n",
    "import utils_2 as ut2\n",
    "from traindata import trainData\n",
    "import errores as er\n",
    "\n",
    "\n",
    "\n",
    "#data and visualization\n",
    "import numpy as np\n",
    "import pandas as pd\n",
    "import seaborn as sns\n",
    "import plotly.express as px\n",
    "import matplotlib.pyplot as plt\n",
    "import plotly.graph_objects as go\n",
    "from sklearn.preprocessing import MinMaxScaler\n",
    "from sklearn.metrics import mean_squared_error, mean_absolute_percentage_error, root_mean_squared_error, r2_score\n",
    "\n",
    "sns.set_style(\"darkgrid\")\n",
    "\n",
    "\n",
    "import numpy as np\n",
    "import random\n",
    "import os, errno\n",
    "from tqdm import tqdm\n",
    "\n",
    "import torch\n",
    "import torch.nn as nn\n",
    "from torch import optim\n",
    "import torch.nn.functional as F\n",
    "import torch.utils.data as data_utils\n",
    "\n",
    "\n",
    "np.random.seed(seed=77)\n",
    "torch.manual_seed(77)"
   ]
  },
  {
   "cell_type": "code",
   "execution_count": 2,
   "metadata": {},
   "outputs": [
    {
     "name": "stdout",
     "output_type": "stream",
     "text": [
<<<<<<< Updated upstream
      "0         0.001705\n",
      "1         0.001436\n",
      "2         0.001494\n",
      "3         0.001446\n",
      "4         0.001489\n",
      "            ...   \n",
      "599995    0.000679\n",
      "599996    0.000686\n",
      "599997    0.000843\n",
      "599998    0.000868\n",
      "599999    0.001361\n",
      "Name: Amplitude, Length: 600000, dtype: float64\n",
      "0         0.001705\n",
      "1         0.001436\n",
      "2         0.001494\n",
      "3         0.001446\n",
      "4         0.001489\n",
      "            ...   \n",
      "599995    0.000679\n",
      "599996    0.000686\n",
      "599997    0.000843\n",
      "599998    0.000868\n",
      "599999    0.001361\n",
      "Name: Amplitude, Length: 600000, dtype: float64\n",
      "0         0.001705\n",
      "1         0.001436\n",
      "2         0.001494\n",
      "3         0.001446\n",
      "4         0.001489\n",
      "            ...   \n",
      "599995    0.000679\n",
      "599996    0.000686\n",
      "599997    0.000843\n",
      "599998    0.000868\n",
      "599999    0.001361\n",
      "Name: Amplitude, Length: 600000, dtype: float64\n",
      "0         0.001705\n",
      "1         0.001436\n",
      "2         0.001494\n",
      "3         0.001446\n",
      "4         0.001489\n",
      "            ...   \n",
      "599995    0.000679\n",
      "599996    0.000686\n",
      "599997    0.000843\n",
      "599998    0.000868\n",
      "599999    0.001361\n",
=======
      "0         0.006094\n",
      "1         0.006132\n",
      "2         0.006056\n",
      "3         0.006018\n",
      "4         0.006170\n",
      "            ...   \n",
      "599995    0.007766\n",
      "599996    0.007741\n",
      "599997    0.007761\n",
      "599998    0.007748\n",
      "599999    0.007755\n",
      "Name: Amplitude, Length: 600000, dtype: float64\n",
      "0         0.006094\n",
      "1         0.006132\n",
      "2         0.006056\n",
      "3         0.006018\n",
      "4         0.006170\n",
      "            ...   \n",
      "599995    0.007766\n",
      "599996    0.007741\n",
      "599997    0.007761\n",
      "599998    0.007748\n",
      "599999    0.007755\n",
      "Name: Amplitude, Length: 600000, dtype: float64\n",
      "0         0.006094\n",
      "1         0.006132\n",
      "2         0.006056\n",
      "3         0.006018\n",
      "4         0.006170\n",
      "            ...   \n",
      "599995    0.007766\n",
      "599996    0.007741\n",
      "599997    0.007761\n",
      "599998    0.007748\n",
      "599999    0.007755\n",
      "Name: Amplitude, Length: 600000, dtype: float64\n",
      "0         0.006094\n",
      "1         0.006132\n",
      "2         0.006056\n",
      "3         0.006018\n",
      "4         0.006170\n",
      "            ...   \n",
      "599995    0.007766\n",
      "599996    0.007741\n",
      "599997    0.007761\n",
      "599998    0.007748\n",
      "599999    0.007755\n",
>>>>>>> Stashed changes
      "Name: Amplitude, Length: 600000, dtype: float64\n"
     ]
    }
   ],
   "source": [
    "import copy\n",
<<<<<<< Updated upstream
    "fpath = \"/Users/consu/OneDrive/Documentos/GitHub/Tesis/data/low/\"\n",
    "#fpath = \"/Users/granosftp/Documents/GitHub/Tesis/data/low/\"\n",
=======
    "#fpath = \"/Users/consu/OneDrive/Documentos/GitHub/Tesis/data/low/\"\n",
    "#fpath = \"/Users/granosftp/Documents/GitHub/Tesis/data/low/\"\n",
    "fpath = '/Users/falconlab/Documents/GitHub/Tesis/data/low/'\n",
>>>>>>> Stashed changes
    "fname = \"file1_080124.mat\"\n",
    "#cutoff = [8/1000, 11/1000]\n",
    "\n",
    "data = trainData(fpath, fname, 'Amplitude')\n",
    "train, val, test = data.split_data('Amplitude')\n",
    "\n",
    "\n",
    "import copy\n",
    "\n",
    "train = utils.subsample(train, 2)\n",
    "test = utils.subsample(test, 2)\n",
    "\n",
    "scaler = MinMaxScaler()\n",
    "train_scaled = scaler.fit_transform(train.reshape(-1, 1))\n",
    "test_scaled = scaler.transform(test.reshape(-1, 1))\n",
    "\n",
    "test = copy.deepcopy(test_scaled)\n",
    "\n",
    "x_train, y_train = ut2.create_sequences(train_scaled[:], 1000, 1)\n",
    "x_test, y_test = ut2.create_sequences(test_scaled, 1000, 1)\n",
    "\n",
    "x_train = torch.from_numpy(x_train.astype(np.float32)).squeeze()\n",
    "\n"
   ]
  },
  {
   "cell_type": "markdown",
   "metadata": {},
   "source": [
    "## **modelo**"
   ]
  },
  {
   "cell_type": "code",
   "execution_count": 3,
   "metadata": {},
   "outputs": [],
   "source": [
    "in_size = x_train.shape[-1]\n",
    "out_size = 1\n",
    "hid_size = x_train.shape[-1]//2\n",
    "num_layers = 2\n",
    "\n",
    "model = MLP(in_size, hid_size, out_size)\n",
    "optimizer = optim.Adam(model.parameters(), lr=0.001)\n",
    "criterion = nn.MSELoss()"
   ]
  },
  {
   "cell_type": "code",
   "execution_count": 4,
   "metadata": {},
   "outputs": [],
   "source": [
    "utils.resume(model, optimizer, 'earlystop_180.pth')"
   ]
  },
  {
   "cell_type": "code",
   "execution_count": 5,
   "metadata": {},
   "outputs": [],
   "source": [
    "def rollingWindowPrediction(model, x_test, steps = 50):\n",
    "    output = []\n",
    "    N = x_test.size()[-1]\n",
    "    print(N)\n",
    "\n",
    "    with torch.no_grad():\n",
    "        model.eval()\n",
    "        for elem in tqdm(x_test):\n",
    "            elem = elem.view(N).unsqueeze(0)\n",
    "            #print(elem.shape)\n",
    "            test_aux = []\n",
    "            count = 0\n",
    "            while count < steps:\n",
    "                    pred = model(elem)\n",
    "                    #print(pred.shape)\n",
    "                    test_aux.append(pred[0,0].item())\n",
    "                    elem = torch.cat((elem.squeeze(0)[1:], pred[0])).unsqueeze(0)\n",
    "                    count += 1\n",
    "\n",
    "            output.append(test_aux)\n",
    "    return output"
   ]
  },
  {
   "cell_type": "markdown",
   "metadata": {},
   "source": [
    "## **50 steps**"
   ]
  },
  {
   "cell_type": "code",
<<<<<<< Updated upstream
   "execution_count": 19,
=======
   "execution_count": 6,
>>>>>>> Stashed changes
   "metadata": {},
   "outputs": [],
   "source": [
    "steps = 50\n",
    "x_test , y_test = ut2.create_sequences(test, 1000, steps)\n",
    "x_test = torch.from_numpy(x_test.astype(np.float32)).squeeze()\n",
    "y_test = torch.from_numpy(y_test.astype(np.float32)).squeeze()\n"
   ]
  },
  {
   "cell_type": "code",
<<<<<<< Updated upstream
   "execution_count": 15,
=======
   "execution_count": 7,
>>>>>>> Stashed changes
   "metadata": {},
   "outputs": [
    {
     "name": "stderr",
     "output_type": "stream",
     "text": [
<<<<<<< Updated upstream
      "100%|██████████| 3951/3951 [01:26<00:00, 45.90it/s]\n"
=======
      "  0%|          | 0/43951 [00:00<?, ?it/s]"
     ]
    },
    {
     "name": "stderr",
     "output_type": "stream",
     "text": [
      "100%|██████████| 43951/43951 [15:30<00:00, 47.23it/s]\n"
>>>>>>> Stashed changes
     ]
    }
   ],
   "source": [
    "test50 = ut2.rollingWindowPrediction(model, x_test, steps)\n",
    "np.savetxt(\"test50_MLP.csv\", test50, delimiter=\",\")"
   ]
  },
  {
   "cell_type": "code",
<<<<<<< Updated upstream
   "execution_count": 16,
=======
   "execution_count": 8,
>>>>>>> Stashed changes
   "metadata": {},
   "outputs": [],
   "source": [
    "test50 = np.loadtxt(\"test50_MLP.csv\", delimiter=\",\")"
   ]
  },
  {
   "cell_type": "code",
<<<<<<< Updated upstream
   "execution_count": 17,
=======
   "execution_count": 9,
>>>>>>> Stashed changes
   "metadata": {},
   "outputs": [
    {
     "data": {
<<<<<<< Updated upstream
      "image/png": "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",
=======
      "image/png": "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",
>>>>>>> Stashed changes
      "text/plain": [
       "<Figure size 640x480 with 1 Axes>"
      ]
     },
     "metadata": {},
     "output_type": "display_data"
    }
   ],
   "source": [
    "i = 0\n",
    "plt.plot(y_test[i], 'o-',label='Real')\n",
    "plt.plot(test50[i], '*-',label='Prediction')\n",
    "plt.xlabel('Time')\n",
    "plt.ylabel('Amplitude')\n",
    "plt.legend()\n",
    "plt.show()"
   ]
  },
  {
   "cell_type": "code",
<<<<<<< Updated upstream
   "execution_count": 20,
=======
   "execution_count": 10,
>>>>>>> Stashed changes
   "metadata": {},
   "outputs": [
    {
     "name": "stdout",
     "output_type": "stream",
     "text": [
<<<<<<< Updated upstream
      "Mean Squared Error: 0.002104048301631961\n",
      "Mean Absolute Percentage Error: 0.3273101101809209\n",
      "R2 Score: 0.617397609740456\n",
      "Root Mean Squared Error: 0.04248271868862549\n"
=======
      "Mean Squared Error: 0.00993959700532156\n",
      "Mean Absolute Percentage Error: 0.2665032985091733\n",
      "R2 Score: 0.04875949525205783\n",
      "Root Mean Squared Error: 0.09262587824405165\n"
>>>>>>> Stashed changes
     ]
    }
   ],
   "source": [
    "mse, mape, r2, rmse = er.calculate_errors(test50, y_test)\n",
    "print(f'Mean Squared Error: {mse}')\n",
    "print(f'Mean Absolute Percentage Error: {mape}')\n",
    "print(f'R2 Score: {r2}')\n",
    "print(f'Root Mean Squared Error: {rmse}')"
   ]
  },
  {
   "cell_type": "markdown",
   "metadata": {},
   "source": [
    "## **100 steps**"
   ]
  },
  {
   "cell_type": "code",
<<<<<<< Updated upstream
   "execution_count": 9,
=======
   "execution_count": 11,
>>>>>>> Stashed changes
   "metadata": {},
   "outputs": [],
   "source": [
    "steps = 100\n",
    "x_test , y_test = ut2.create_sequences(test, 1000, steps)\n",
    "x_test = torch.from_numpy(x_test.astype(np.float32)).squeeze()\n",
    "y_test = torch.from_numpy(y_test.astype(np.float32)).squeeze()"
   ]
  },
  {
   "cell_type": "code",
<<<<<<< Updated upstream
   "execution_count": 10,
=======
   "execution_count": 12,
>>>>>>> Stashed changes
   "metadata": {},
   "outputs": [
    {
     "name": "stderr",
     "output_type": "stream",
     "text": [
<<<<<<< Updated upstream
      "100%|██████████| 43901/43901 [27:56<00:00, 26.18it/s]\n"
=======
      "  0%|          | 0/43901 [00:00<?, ?it/s]"
     ]
    },
    {
     "name": "stderr",
     "output_type": "stream",
     "text": [
      "100%|██████████| 43901/43901 [24:26<00:00, 29.93it/s]\n"
>>>>>>> Stashed changes
     ]
    }
   ],
   "source": [
    "test100 = ut2.rollingWindowPrediction(model, x_test, steps)\n",
    "np.savetxt(\"test100_MLP.csv\", test100, delimiter=\",\")"
   ]
  },
  {
   "cell_type": "code",
<<<<<<< Updated upstream
   "execution_count": 11,
=======
   "execution_count": 13,
>>>>>>> Stashed changes
   "metadata": {},
   "outputs": [
    {
     "name": "stdout",
     "output_type": "stream",
     "text": [
<<<<<<< Updated upstream
      "Mean Squared Error: 0.003941422406461579\n",
      "Mean Absolute Percentage Error: 97.3071375434775\n",
      "R2 Score: -11087.426167279122\n",
      "Root Mean Squared Error: 0.06249912415855117\n"
=======
      "Mean Squared Error: 0.017188949492498214\n",
      "Mean Absolute Percentage Error: 0.3710029140103145\n",
      "R2 Score: -0.702863483359091\n",
      "Root Mean Squared Error: 0.12431096850044915\n"
>>>>>>> Stashed changes
     ]
    }
   ],
   "source": [
    "mse, mape, r2, rmse = er.calculate_errors(test100, y_test)\n",
    "print(f'Mean Squared Error: {mse}')\n",
    "print(f'Mean Absolute Percentage Error: {mape}')\n",
    "print(f'R2 Score: {r2}')\n",
    "print(f'Root Mean Squared Error: {rmse}')"
   ]
  },
  {
   "cell_type": "markdown",
   "metadata": {},
   "source": [
    "## **500 steps**"
   ]
  },
  {
   "cell_type": "code",
<<<<<<< Updated upstream
   "execution_count": 12,
=======
   "execution_count": 14,
>>>>>>> Stashed changes
   "metadata": {},
   "outputs": [],
   "source": [
    "steps = 500\n",
    "x_test , y_test = ut2.create_sequences(test, 1000, steps)\n",
    "x_test = torch.from_numpy(x_test.astype(np.float32)).squeeze()\n",
    "y_test = torch.from_numpy(y_test.astype(np.float32)).squeeze()"
   ]
  },
  {
   "cell_type": "code",
<<<<<<< Updated upstream
   "execution_count": 13,
=======
   "execution_count": 15,
>>>>>>> Stashed changes
   "metadata": {},
   "outputs": [
    {
     "name": "stderr",
     "output_type": "stream",
     "text": [
<<<<<<< Updated upstream
      "100%|██████████| 43501/43501 [2:15:47<00:00,  5.34it/s]  \n"
=======
      "  0%|          | 0/43501 [00:00<?, ?it/s]"
     ]
    },
    {
     "name": "stderr",
     "output_type": "stream",
     "text": [
      "100%|██████████| 43501/43501 [2:00:03<00:00,  6.04it/s]  \n"
>>>>>>> Stashed changes
     ]
    }
   ],
   "source": [
    "test500 = ut2.rollingWindowPrediction(model, x_test, steps)\n",
    "np.savetxt(\"test500_MLP.csv\", test500, delimiter=\",\")"
   ]
  },
  {
   "cell_type": "code",
<<<<<<< Updated upstream
   "execution_count": 14,
=======
   "execution_count": 16,
>>>>>>> Stashed changes
   "metadata": {},
   "outputs": [
    {
     "name": "stdout",
     "output_type": "stream",
     "text": [
<<<<<<< Updated upstream
      "Mean Squared Error: 0.004955952832904671\n",
      "Mean Absolute Percentage Error: 108.83256898042552\n",
      "R2 Score: -13876.818195752341\n",
      "Root Mean Squared Error: 0.06980662207323801\n"
=======
      "Mean Squared Error: 0.03684242074110524\n",
      "Mean Absolute Percentage Error: 0.6143881334539718\n",
      "R2 Score: -3.25454691583079\n",
      "Root Mean Squared Error: 0.18721168440499789\n"
>>>>>>> Stashed changes
     ]
    }
   ],
   "source": [
    "mse, mape, r2, rmse = er.calculate_errors(test500, y_test)\n",
    "print(f'Mean Squared Error: {mse}')\n",
    "print(f'Mean Absolute Percentage Error: {mape}')\n",
    "print(f'R2 Score: {r2}')\n",
    "print(f'Root Mean Squared Error: {rmse}')"
   ]
  },
  {
   "cell_type": "markdown",
   "metadata": {},
   "source": [
    "## **1000 steps**"
   ]
  },
  {
   "cell_type": "code",
<<<<<<< Updated upstream
   "execution_count": 15,
=======
   "execution_count": 17,
>>>>>>> Stashed changes
   "metadata": {},
   "outputs": [],
   "source": [
    "steps = 1000\n",
    "x_test , y_test = ut2.create_sequences(test, 1000, steps)\n",
    "x_test = torch.from_numpy(x_test.astype(np.float32)).squeeze()\n",
    "y_test = torch.from_numpy(y_test.astype(np.float32)).squeeze()"
   ]
  },
  {
   "cell_type": "code",
<<<<<<< Updated upstream
   "execution_count": 16,
=======
   "execution_count": 18,
>>>>>>> Stashed changes
   "metadata": {},
   "outputs": [
    {
     "name": "stderr",
     "output_type": "stream",
     "text": [
<<<<<<< Updated upstream
      "100%|██████████| 43001/43001 [5:26:23<00:00,  2.20it/s]     \n"
=======
      "  0%|          | 0/43001 [00:00<?, ?it/s]"
     ]
    },
    {
     "name": "stderr",
     "output_type": "stream",
     "text": [
      "100%|██████████| 43001/43001 [2:56:58<00:00,  4.05it/s]  \n"
>>>>>>> Stashed changes
     ]
    }
   ],
   "source": [
    "test1000 = ut2.rollingWindowPrediction(model, x_test, steps)\n",
    "np.savetxt(\"test1000_MLP.csv\", test1000, delimiter=\",\")"
   ]
  },
  {
   "cell_type": "code",
<<<<<<< Updated upstream
   "execution_count": 17,
=======
   "execution_count": 19,
>>>>>>> Stashed changes
   "metadata": {},
   "outputs": [
    {
     "name": "stdout",
     "output_type": "stream",
     "text": [
<<<<<<< Updated upstream
      "Mean Squared Error: 0.003770648403513756\n",
      "Mean Absolute Percentage Error: 93.98867334537418\n",
      "R2 Score: -10518.919541323963\n",
      "Root Mean Squared Error: 0.06026523956957966\n"
=======
      "Mean Squared Error: 0.0420487173077316\n",
      "Mean Absolute Percentage Error: 0.6965755106160805\n",
      "R2 Score: -4.529487142226603\n",
      "Root Mean Squared Error: 0.20176828706025515\n"
>>>>>>> Stashed changes
     ]
    }
   ],
   "source": [
    "mse, mape, r2, rmse = er.calculate_errors(test1000, y_test)\n",
    "print(f'Mean Squared Error: {mse}')\n",
    "print(f'Mean Absolute Percentage Error: {mape}')\n",
    "print(f'R2 Score: {r2}')\n",
    "print(f'Root Mean Squared Error: {rmse}')"
   ]
  }
 ],
 "metadata": {
  "kernelspec": {
   "display_name": "Python 3",
   "language": "python",
   "name": "python3"
  },
  "language_info": {
   "codemirror_mode": {
    "name": "ipython",
    "version": 3
   },
   "file_extension": ".py",
   "mimetype": "text/x-python",
   "name": "python",
   "nbconvert_exporter": "python",
   "pygments_lexer": "ipython3",
<<<<<<< Updated upstream
   "version": "3.10.8"
=======
   "version": "3.12.2"
>>>>>>> Stashed changes
  }
 },
 "nbformat": 4,
 "nbformat_minor": 2
}
