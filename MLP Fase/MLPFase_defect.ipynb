{
 "cells": [
  {
   "cell_type": "code",
   "execution_count": 1,
   "metadata": {},
   "outputs": [
    {
     "data": {
      "text/plain": [
       "<torch._C.Generator at 0x7f8983c62f50>"
      ]
     },
     "execution_count": 1,
     "metadata": {},
     "output_type": "execute_result"
    }
   ],
   "source": [
    "#files\n",
    "import sys\n",
    "#from os import listdir\n",
    "sys.path.append('../data')\n",
    "sys.path.append('../Librerias')\n",
    "#from os.path import isfile, join\n",
    "\n",
    "#own libs\n",
    "import utils\n",
    "import caract as dc\n",
    "import dataset as ds\n",
    "from models import SimpleRNN, LSTM, MLP\n",
    "#from lstm_models import LSTM\n",
    "import utils_2 as ut2\n",
    "from traindata import trainData\n",
    "import errores as er\n",
    "\n",
    "\n",
    "\n",
    "#data and visualization\n",
    "import numpy as np\n",
    "import pandas as pd\n",
    "import seaborn as sns\n",
    "import plotly.express as px\n",
    "import matplotlib.pyplot as plt\n",
    "import plotly.graph_objects as go\n",
    "from sklearn.preprocessing import MinMaxScaler\n",
    "from sklearn.metrics import mean_squared_error, mean_absolute_percentage_error, root_mean_squared_error, r2_score\n",
    "\n",
    "sns.set_style(\"darkgrid\")\n",
    "\n",
    "\n",
    "import numpy as np\n",
    "import random\n",
    "import os, errno\n",
    "from tqdm import tqdm\n",
    "\n",
    "import torch\n",
    "import torch.nn as nn\n",
    "from torch import optim\n",
    "import torch.nn.functional as F\n",
    "import torch.utils.data as data_utils\n",
    "\n",
    "\n",
    "np.random.seed(seed=77)\n",
    "torch.manual_seed(77)"
   ]
  },
  {
   "cell_type": "code",
   "execution_count": 2,
   "metadata": {},
   "outputs": [
    {
     "name": "stdout",
     "output_type": "stream",
     "text": [
      "0        -0.049881\n",
      "1        -0.037877\n",
      "2        -0.026438\n",
      "3        -0.016091\n",
      "4        -0.007256\n",
      "            ...   \n",
      "599995   -0.122759\n",
      "599996   -0.131433\n",
      "599997   -0.140539\n",
      "599998   -0.149889\n",
      "599999   -0.159250\n",
      "Name: Gradient Phase, Length: 600000, dtype: float64\n",
      "0        -0.049881\n",
      "1        -0.037877\n",
      "2        -0.026438\n",
      "3        -0.016091\n",
      "4        -0.007256\n",
      "            ...   \n",
      "599995   -0.122759\n",
      "599996   -0.131433\n",
      "599997   -0.140539\n",
      "599998   -0.149889\n",
      "599999   -0.159250\n",
      "Name: Gradient Phase, Length: 600000, dtype: float64\n",
      "0        -0.049881\n",
      "1        -0.037877\n",
      "2        -0.026438\n",
      "3        -0.016091\n",
      "4        -0.007256\n",
      "            ...   \n",
      "599995   -0.122759\n",
      "599996   -0.131433\n",
      "599997   -0.140539\n",
      "599998   -0.149889\n",
      "599999   -0.159250\n",
      "Name: Gradient Phase, Length: 600000, dtype: float64\n",
      "0        -0.049881\n",
      "1        -0.037877\n",
      "2        -0.026438\n",
      "3        -0.016091\n",
      "4        -0.007256\n",
      "            ...   \n",
      "599995   -0.122759\n",
      "599996   -0.131433\n",
      "599997   -0.140539\n",
      "599998   -0.149889\n",
      "599999   -0.159250\n",
      "Name: Gradient Phase, Length: 600000, dtype: float64\n"
     ]
    }
   ],
   "source": [
    "#fpath = \"/Users/consu/OneDrive/Documentos/GitHub/Tesis/data/low/\"\n",
    "fpath = \"/Users/granosftp/Documents/GitHub/Tesis/data/low/\"\n",
    "fname = \"file1_080124.mat\"\n",
    "#cutoff = [8/1000, 11/1000]\n",
    "\n",
    "data = trainData(fpath, fname, 'Gradient Phase')\n",
    "train, val, test = data.split_data('Gradient Phase')\n"
   ]
  },
  {
   "cell_type": "code",
   "execution_count": 3,
   "metadata": {},
   "outputs": [],
   "source": [
    "import copy\n",
    "\n",
    "train = utils.subsample(train, 2)\n",
    "test = utils.subsample(test, 2)\n",
    "\n",
    "scaler = MinMaxScaler()\n",
    "train_scaled = scaler.fit_transform(train.reshape(-1, 1))\n",
    "#test = copy.deepcopy(test_scaled)"
   ]
  },
  {
   "cell_type": "code",
   "execution_count": 4,
   "metadata": {},
   "outputs": [],
   "source": [
    "amplitude = data.data['Gradient Phase'].values\n",
    "amplitude = scaler.transform(amplitude.reshape(-1, 1))\n",
    "defectos = data.defectos_set()"
   ]
  },
  {
   "cell_type": "code",
   "execution_count": 5,
   "metadata": {},
   "outputs": [],
   "source": [
    "in_size = 1000\n",
    "out_size = 1\n",
    "hid_size = 500\n",
    "num_layers = 2\n",
    "\n",
    "model = MLP(in_size, hid_size, out_size)\n",
    "optimizer = optim.Adam(model.parameters(), lr=0.001)\n",
    "criterion = nn.MSELoss()\n",
    "\n",
    "utils.resume(model, optimizer, 'earlystop_93.pth')"
   ]
  },
  {
   "cell_type": "markdown",
   "metadata": {},
   "source": [
    "## **50 steps**"
   ]
  },
  {
   "cell_type": "code",
   "execution_count": 6,
   "metadata": {},
   "outputs": [
    {
     "data": {
      "text/plain": [
       "(torch.Size([95, 1000]), torch.Size([95, 50]))"
      ]
     },
     "execution_count": 6,
     "metadata": {},
     "output_type": "execute_result"
    }
   ],
   "source": [
    "steps = 50 \n",
    "x_test, y_test = ut2.defectos_set(defectos, amplitude, steps*2, horizon = 2000)\n",
    "\n",
    "x_test = [utils.subsample(elem,2) for elem in x_test]\n",
    "x_test = np.array(x_test)\n",
    "\n",
    "y_test = [utils.subsample(elem,2) for elem in y_test]\n",
    "y_test = np.array(y_test)\n",
    "\n",
    "\n",
    "x_test = torch.from_numpy(x_test.astype(np.float32)).squeeze()\n",
    "y_test = torch.from_numpy(y_test.astype(np.float32)).squeeze()\n",
    "\n",
    "x_test.shape, y_test.shape"
   ]
  },
  {
   "cell_type": "code",
   "execution_count": 7,
   "metadata": {},
   "outputs": [
    {
     "name": "stderr",
     "output_type": "stream",
     "text": [
      "100%|██████████| 95/95 [00:01<00:00, 52.06it/s]\n"
     ]
    }
   ],
   "source": [
    "test50 = ut2.rollingWindowPrediction(model,x_test,steps)\n",
    "np.savetxt(\"test50_MLP_defectosFase.csv\", test50, delimiter=\",\")"
   ]
  },
  {
   "cell_type": "code",
   "execution_count": 8,
   "metadata": {},
   "outputs": [
    {
     "name": "stdout",
     "output_type": "stream",
     "text": [
      "Mean Squared Error: 0.015751096311272316\n",
      "Mean Absolute Percentage Error: 0.9284262089056974\n",
      "R2 Score: -0.9711466759605059\n",
      "Root Mean Squared Error: 0.056146913807183264\n"
     ]
    }
   ],
   "source": [
    "mse, mape, r2, rmse = er.calculate_errors(test50, y_test)\n",
    "print(f'Mean Squared Error: {mse}')\n",
    "print(f'Mean Absolute Percentage Error: {mape}')\n",
    "print(f'R2 Score: {r2}')\n",
    "print(f'Root Mean Squared Error: {rmse}')"
   ]
  },
  {
   "cell_type": "code",
   "execution_count": 9,
   "metadata": {},
   "outputs": [
    {
     "data": {
      "image/png": "[encoded data removed]",
      "text/plain": [
       "<Figure size 432x288 with 1 Axes>"
      ]
     },
     "metadata": {
      "needs_background": "light"
     },
     "output_type": "display_data"
    }
   ],
   "source": [
    "i = 10\n",
    "plt.plot(y_test[i], 'o-',label='Real')\n",
    "plt.plot(test50[i], '*-',label='Prediction')\n",
    "plt.xlabel('Time')\n",
    "plt.ylabel('Amplitude')\n",
    "plt.legend()\n",
    "plt.show()\n"
   ]
  },
  {
   "cell_type": "markdown",
   "metadata": {},
   "source": [
    "## **100 steps**"
   ]
  },
  {
   "cell_type": "code",
   "execution_count": 10,
   "metadata": {},
   "outputs": [
    {
     "data": {
      "text/plain": [
       "(torch.Size([95, 1000]), torch.Size([95, 100]))"
      ]
     },
     "execution_count": 10,
     "metadata": {},
     "output_type": "execute_result"
    }
   ],
   "source": [
    "steps = 100 \n",
    "x_test, y_test = ut2.defectos_set(defectos, amplitude, steps*2, horizon = 2000)\n",
    "\n",
    "x_test = [utils.subsample(elem,2) for elem in x_test]\n",
    "x_test = np.array(x_test)\n",
    "\n",
    "y_test = [utils.subsample(elem,2) for elem in y_test]\n",
    "y_test = np.array(y_test)\n",
    "\n",
    "\n",
    "x_test = torch.from_numpy(x_test.astype(np.float32)).squeeze()\n",
    "y_test = torch.from_numpy(y_test.astype(np.float32)).squeeze()\n",
    "\n",
    "x_test.shape, y_test.shape"
   ]
  },
  {
   "cell_type": "code",
   "execution_count": 11,
   "metadata": {},
   "outputs": [
    {
     "name": "stderr",
     "output_type": "stream",
     "text": [
      "100%|██████████| 95/95 [00:03<00:00, 24.26it/s]\n"
     ]
    }
   ],
   "source": [
    "test100 = ut2.rollingWindowPrediction(model,x_test,steps)\n",
    "np.savetxt(\"test100_MLP_defectosFase.csv\", test100, delimiter=\",\")"
   ]
  },
  {
   "cell_type": "code",
   "execution_count": 12,
   "metadata": {},
   "outputs": [
    {
     "name": "stdout",
     "output_type": "stream",
     "text": [
      "Mean Squared Error: 0.009704091882652536\n",
      "Mean Absolute Percentage Error: 0.5056958839790766\n",
      "R2 Score: -0.5253228162209773\n",
      "Root Mean Squared Error: 0.05704550034865592\n"
     ]
    }
   ],
   "source": [
    "mse, mape, r2, rmse = er.calculate_errors(test100, y_test)\n",
    "print(f'Mean Squared Error: {mse}')\n",
    "print(f'Mean Absolute Percentage Error: {mape}')\n",
    "print(f'R2 Score: {r2}')\n",
    "print(f'Root Mean Squared Error: {rmse}')"
   ]
  },
  {
   "cell_type": "code",
   "execution_count": 13,
   "metadata": {},
   "outputs": [
    {
     "data": {
      "image/png": "[encoded data removed]",
      "text/plain": [
       "<Figure size 432x288 with 1 Axes>"
      ]
     },
     "metadata": {
      "needs_background": "light"
     },
     "output_type": "display_data"
    }
   ],
   "source": [
    "i = -1\n",
    "plt.plot(y_test[i], 'o-',label='Real')\n",
    "plt.plot(test100[i], '*-',label='Prediction')\n",
    "plt.xlabel('Time')\n",
    "plt.ylabel('Amplitude')\n",
    "plt.legend()\n",
    "plt.show()"
   ]
  },
  {
   "cell_type": "markdown",
   "metadata": {},
   "source": [
    "## **500 steps**"
   ]
  },
  {
   "cell_type": "code",
   "execution_count": 14,
   "metadata": {},
   "outputs": [
    {
     "data": {
      "text/plain": [
       "(torch.Size([95, 1000]), torch.Size([95, 500]))"
      ]
     },
     "execution_count": 14,
     "metadata": {},
     "output_type": "execute_result"
    }
   ],
   "source": [
    "steps = 500 \n",
    "x_test, y_test = ut2.defectos_set(defectos, amplitude, steps*2, horizon = 2000)\n",
    "\n",
    "x_test = [utils.subsample(elem,2) for elem in x_test]\n",
    "x_test = np.array(x_test)\n",
    "\n",
    "y_test = [utils.subsample(elem,2) for elem in y_test]\n",
    "y_test = np.array(y_test)\n",
    "\n",
    "\n",
    "x_test = torch.from_numpy(x_test.astype(np.float32)).squeeze()\n",
    "y_test = torch.from_numpy(y_test.astype(np.float32)).squeeze()\n",
    "\n",
    "x_test.shape, y_test.shape"
   ]
  },
  {
   "cell_type": "code",
   "execution_count": 15,
   "metadata": {},
   "outputs": [
    {
     "name": "stderr",
     "output_type": "stream",
     "text": [
      "100%|██████████| 95/95 [00:19<00:00,  4.77it/s]\n"
     ]
    }
   ],
   "source": [
    "test500 = ut2.rollingWindowPrediction(model,x_test,steps)\n",
    "np.savetxt(\"test500_MLP_defectosFase.csv\", test500, delimiter=\",\")"
   ]
  },
  {
   "cell_type": "code",
   "execution_count": 16,
   "metadata": {},
   "outputs": [
    {
     "name": "stdout",
     "output_type": "stream",
     "text": [
      "Mean Squared Error: 0.004491089129033068\n",
      "Mean Absolute Percentage Error: 0.1688963591390604\n",
      "R2 Score: -0.12377716982902814\n",
      "Root Mean Squared Error: 0.05531865449892017\n"
     ]
    }
   ],
   "source": [
    "mse, mape, r2, rmse = er.calculate_errors(test500, y_test)\n",
    "print(f'Mean Squared Error: {mse}')\n",
    "print(f'Mean Absolute Percentage Error: {mape}')\n",
    "print(f'R2 Score: {r2}')\n",
    "print(f'Root Mean Squared Error: {rmse}')"
   ]
  },
  {
   "cell_type": "code",
   "execution_count": 17,
   "metadata": {},
   "outputs": [
    {
     "data": {
      "image/png": "[encoded data removed]",
      "text/plain": [
       "<Figure size 432x288 with 1 Axes>"
      ]
     },
     "metadata": {
      "needs_background": "light"
     },
     "output_type": "display_data"
    }
   ],
   "source": [
    "i = -1\n",
    "plt.plot(y_test[i], 'o-',label='Real')\n",
    "plt.plot(test500[i], '*-',label='Prediction')\n",
    "plt.xlabel('Time')\n",
    "plt.ylabel('Amplitude')\n",
    "plt.legend()\n",
    "plt.show()"
   ]
  },
  {
   "cell_type": "markdown",
   "metadata": {},
   "source": [
    "## **1000 steps**"
   ]
  },
  {
   "cell_type": "code",
   "execution_count": 18,
   "metadata": {},
   "outputs": [
    {
     "data": {
      "text/plain": [
       "(torch.Size([95, 1000]), torch.Size([95, 1000]))"
      ]
     },
     "execution_count": 18,
     "metadata": {},
     "output_type": "execute_result"
    }
   ],
   "source": [
    "steps = 1000 \n",
    "x_test, y_test = ut2.defectos_set(defectos, amplitude, steps*2, horizon = 2000)\n",
    "\n",
    "x_test = [utils.subsample(elem,2) for elem in x_test]\n",
    "x_test = np.array(x_test)\n",
    "\n",
    "y_test = [utils.subsample(elem,2) for elem in y_test]\n",
    "y_test = np.array(y_test)\n",
    "\n",
    "\n",
    "x_test = torch.from_numpy(x_test.astype(np.float32)).squeeze()\n",
    "y_test = torch.from_numpy(y_test.astype(np.float32)).squeeze()\n",
    "\n",
    "x_test.shape, y_test.shape"
   ]
  },
  {
   "cell_type": "code",
   "execution_count": 19,
   "metadata": {},
   "outputs": [
    {
     "name": "stderr",
     "output_type": "stream",
     "text": [
      "100%|██████████| 95/95 [00:50<00:00,  1.90it/s]\n"
     ]
    }
   ],
   "source": [
    "test1000 = ut2.rollingWindowPrediction(model,x_test,steps)\n",
    "np.savetxt(\"test1000_MLP_defectosFase.csv\", test1000, delimiter=\",\")"
   ]
  },
  {
   "cell_type": "code",
   "execution_count": 20,
   "metadata": {},
   "outputs": [
    {
     "name": "stdout",
     "output_type": "stream",
     "text": [
      "Mean Squared Error: 0.0034970854125963547\n",
      "Mean Absolute Percentage Error: 0.12048479451887933\n",
      "R2 Score: -0.09674515615128351\n",
      "Root Mean Squared Error: 0.05200881466206767\n"
     ]
    }
   ],
   "source": [
    "mse, mape, r2, rmse = er.calculate_errors(test1000, y_test)\n",
    "print(f'Mean Squared Error: {mse}')\n",
    "print(f'Mean Absolute Percentage Error: {mape}')\n",
    "print(f'R2 Score: {r2}')\n",
    "print(f'Root Mean Squared Error: {rmse}')"
   ]
  },
  {
   "cell_type": "code",
   "execution_count": 21,
   "metadata": {},
   "outputs": [
    {
     "data": {
      "image/png": "[encoded data removed]",
      "text/plain": [
       "<Figure size 432x288 with 1 Axes>"
      ]
     },
     "metadata": {
      "needs_background": "light"
     },
     "output_type": "display_data"
    }
   ],
   "source": [
    "i = -1\n",
    "plt.plot(y_test[i], 'o-',label='Real')\n",
    "plt.plot(test1000[i], '*-',label='Prediction')\n",
    "plt.xlabel('Time')\n",
    "plt.ylabel('Amplitude')\n",
    "plt.legend()\n",
    "plt.show()"
   ]
  }
 ],
 "metadata": {
  "kernelspec": {
   "display_name": "Python 3",
   "language": "python",
   "name": "python3"
  },
  "language_info": {
   "codemirror_mode": {
    "name": "ipython",
    "version": 3
   },
   "file_extension": ".py",
   "mimetype": "text/x-python",
   "name": "python",
   "nbconvert_exporter": "python",
   "pygments_lexer": "ipython3",
   "version": "3.9.12"
  }
 },
 "nbformat": 4,
 "nbformat_minor": 2
}
