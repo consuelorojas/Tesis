{
 "cells": [
  {
   "cell_type": "code",
   "execution_count": 1,
   "metadata": {},
   "outputs": [
    {
     "data": {
      "text/plain": [
       "<torch._C.Generator at 0x7fa955362f10>"
      ]
     },
     "execution_count": 1,
     "metadata": {},
     "output_type": "execute_result"
    }
   ],
   "source": [
    "#files\n",
    "import sys\n",
    "#from os import listdir\n",
    "sys.path.append('../data')\n",
    "sys.path.append('../Librerias')\n",
    "#from os.path import isfile, join\n",
    "\n",
    "#own libs\n",
    "import utils\n",
    "import caract as dc\n",
    "import dataset as ds\n",
    "from models import SimpleRNN, LSTM, MLP\n",
    "#from lstm_models import LSTM\n",
    "import utils_2 as ut2\n",
    "from traindata import trainData\n",
    "import errores as er\n",
    "\n",
    "\n",
    "\n",
    "#data and visualization\n",
    "import numpy as np\n",
    "import pandas as pd\n",
    "import seaborn as sns\n",
    "import plotly.express as px\n",
    "import matplotlib.pyplot as plt\n",
    "import plotly.graph_objects as go\n",
    "from sklearn.preprocessing import MinMaxScaler\n",
    "from sklearn.metrics import mean_squared_error, mean_absolute_percentage_error, root_mean_squared_error, r2_score\n",
    "\n",
    "sns.set_style(\"darkgrid\")\n",
    "\n",
    "\n",
    "import numpy as np\n",
    "import random\n",
    "import os, errno\n",
    "from tqdm import tqdm\n",
    "\n",
    "import torch\n",
    "import torch.nn as nn\n",
    "from torch import optim\n",
    "import torch.nn.functional as F\n",
    "import torch.utils.data as data_utils\n",
    "\n",
    "\n",
    "np.random.seed(seed=77)\n",
    "torch.manual_seed(77)"
   ]
  },
  {
   "cell_type": "code",
   "execution_count": 2,
   "metadata": {},
   "outputs": [
    {
     "name": "stdout",
     "output_type": "stream",
     "text": [
      "0        -0.049881\n",
      "1        -0.037877\n",
      "2        -0.026438\n",
      "3        -0.016091\n",
      "4        -0.007256\n",
      "            ...   \n",
      "599995   -0.122759\n",
      "599996   -0.131433\n",
      "599997   -0.140539\n",
      "599998   -0.149889\n",
      "599999   -0.159250\n",
      "Name: Gradient Phase, Length: 600000, dtype: float64\n",
      "0        -0.049881\n",
      "1        -0.037877\n",
      "2        -0.026438\n",
      "3        -0.016091\n",
      "4        -0.007256\n",
      "            ...   \n",
      "599995   -0.122759\n",
      "599996   -0.131433\n",
      "599997   -0.140539\n",
      "599998   -0.149889\n",
      "599999   -0.159250\n",
      "Name: Gradient Phase, Length: 600000, dtype: float64\n",
      "0        -0.049881\n",
      "1        -0.037877\n",
      "2        -0.026438\n",
      "3        -0.016091\n",
      "4        -0.007256\n",
      "            ...   \n",
      "599995   -0.122759\n",
      "599996   -0.131433\n",
      "599997   -0.140539\n",
      "599998   -0.149889\n",
      "599999   -0.159250\n",
      "Name: Gradient Phase, Length: 600000, dtype: float64\n",
      "0        -0.049881\n",
      "1        -0.037877\n",
      "2        -0.026438\n",
      "3        -0.016091\n",
      "4        -0.007256\n",
      "            ...   \n",
      "599995   -0.122759\n",
      "599996   -0.131433\n",
      "599997   -0.140539\n",
      "599998   -0.149889\n",
      "599999   -0.159250\n",
      "Name: Gradient Phase, Length: 600000, dtype: float64\n"
     ]
    }
   ],
   "source": [
    "#fpath = \"/Users/consu/OneDrive/Documentos/GitHub/Tesis/data/low/\"\n",
    "fpath = \"/Users/granosftp/Documents/GitHub/Tesis/data/low/\"\n",
    "fname = \"file1_080124.mat\"\n",
    "#cutoff = [8/1000, 11/1000]\n",
    "\n",
    "data = trainData(fpath, fname, 'Gradient Phase')\n",
    "train, val, test = data.split_data('Gradient Phase')\n",
    "\n",
    "import copy\n",
    "\n",
    "train = utils.subsample(train, 2)\n",
    "test = utils.subsample(test, 2)\n",
    "\n",
    "scaler = MinMaxScaler()\n",
    "train_scaled = scaler.fit_transform(train.reshape(-1, 1))\n",
    "test_scaled = scaler.transform(test.reshape(-1, 1))\n",
    "\n",
    "test = copy.deepcopy(test_scaled)\n",
    "\n",
    "x_train, y_train = ut2.create_sequences(train_scaled[:], 1000, 1)\n",
    "x_test, y_test = ut2.create_sequences(test_scaled, 1000, 1)\n",
    "\n",
    "x_train = torch.from_numpy(x_train.astype(np.float32)).squeeze()\n"
   ]
  },
  {
   "cell_type": "markdown",
   "metadata": {},
   "source": [
    "## **modelo**"
   ]
  },
  {
   "cell_type": "code",
   "execution_count": 3,
   "metadata": {},
   "outputs": [],
   "source": [
    "in_size = x_train.shape[-1]\n",
    "out_size = 1\n",
    "hid_size = x_train.shape[-1]//2\n",
    "num_layers = 2\n",
    "\n",
    "model = MLP(in_size, hid_size, out_size)\n",
    "optimizer = optim.Adam(model.parameters(), lr=0.001)\n",
    "criterion = nn.MSELoss()"
   ]
  },
  {
   "cell_type": "code",
   "execution_count": 4,
   "metadata": {},
   "outputs": [],
   "source": [
    "utils.resume(model, optimizer, 'earlystop_93.pth')"
   ]
  },
  {
   "cell_type": "code",
   "execution_count": 5,
   "metadata": {},
   "outputs": [],
   "source": [
    "def rollingWindowPrediction(model, x_test, steps = 50):\n",
    "    output = []\n",
    "    N = x_test.size()[-1]\n",
    "    print(N)\n",
    "\n",
    "    with torch.no_grad():\n",
    "        model.eval()\n",
    "        for elem in tqdm(x_test):\n",
    "            elem = elem.view(N).unsqueeze(0)\n",
    "            #print(elem.shape)\n",
    "            test_aux = []\n",
    "            count = 0\n",
    "            while count < steps:\n",
    "                    pred = model(elem)\n",
    "                    #print(pred.shape)\n",
    "                    test_aux.append(pred[0,0].item())\n",
    "                    elem = torch.cat((elem.squeeze(0)[1:], pred[0])).unsqueeze(0)\n",
    "                    count += 1\n",
    "\n",
    "            output.append(test_aux)\n",
    "    return output"
   ]
  },
  {
   "cell_type": "markdown",
   "metadata": {},
   "source": [
    "## **50 steps**"
   ]
  },
  {
   "cell_type": "code",
   "execution_count": 6,
   "metadata": {},
   "outputs": [],
   "source": [
    "steps = 50\n",
    "x_test , y_test = ut2.create_sequences(test[:5000], 1000, steps)\n",
    "\n",
    "x_test = torch.from_numpy(x_test.astype(np.float32)).squeeze()\n",
    "y_test = torch.from_numpy(y_test.astype(np.float32)).squeeze()\n"
   ]
  },
  {
   "cell_type": "code",
   "execution_count": 7,
   "metadata": {},
   "outputs": [
    {
     "name": "stderr",
     "output_type": "stream",
     "text": [
      "  0%|          | 2/3951 [00:00<04:58, 13.24it/s]"
     ]
    },
    {
     "name": "stderr",
     "output_type": "stream",
     "text": [
      "100%|██████████| 3951/3951 [01:20<00:00, 48.78it/s]\n"
     ]
    }
   ],
   "source": [
    "test50 = ut2.rollingWindowPrediction(model, x_test, steps)\n",
    "np.savetxt(\"test50_MLPFase.csv\", test50, delimiter=\",\")"
   ]
  },
  {
   "cell_type": "code",
   "execution_count": 8,
   "metadata": {},
   "outputs": [
    {
     "name": "stdout",
     "output_type": "stream",
     "text": [
      "Mean Squared Error: 0.0013961225065489474\n",
      "Mean Absolute Percentage Error: 0.0432797356255604\n",
      "R2 Score: 0.14505516226462511\n",
      "Root Mean Squared Error: 0.037359072451704875\n"
     ]
    }
   ],
   "source": [
    "mse, mape, r2, rmse = er.calculate_errors(test50, y_test)\n",
    "print(f'Mean Squared Error: {mse}')\n",
    "print(f'Mean Absolute Percentage Error: {mape}')\n",
    "print(f'R2 Score: {r2}')\n",
    "print(f'Root Mean Squared Error: {rmse}')"
   ]
  },
  {
   "cell_type": "code",
   "execution_count": 9,
   "metadata": {},
   "outputs": [
    {
     "data": {
      "image/png": "[encoded data removed]",
      "text/plain": [
       "<Figure size 432x288 with 1 Axes>"
      ]
     },
     "metadata": {
      "needs_background": "light"
     },
     "output_type": "display_data"
    }
   ],
   "source": [
    "i = 10\n",
    "plt.plot(y_test[i], 'o-',label='Real')\n",
    "plt.plot(test50[i], '*-',label='Prediction')\n",
    "plt.xlabel('Time')\n",
    "plt.ylabel('Amplitude')\n",
    "plt.legend()\n",
    "plt.show()"
   ]
  },
  {
   "cell_type": "markdown",
   "metadata": {},
   "source": [
    "## **100 steps**"
   ]
  },
  {
   "cell_type": "code",
   "execution_count": 10,
   "metadata": {},
   "outputs": [],
   "source": [
    "steps = 100\n",
    "x_test , y_test = ut2.create_sequences(test, 1000, steps)\n",
    "x_test = torch.from_numpy(x_test.astype(np.float32)).squeeze()\n",
    "y_test = torch.from_numpy(y_test.astype(np.float32)).squeeze()"
   ]
  },
  {
   "cell_type": "code",
   "execution_count": 11,
   "metadata": {},
   "outputs": [
    {
     "name": "stderr",
     "output_type": "stream",
     "text": [
      "100%|██████████| 43901/43901 [26:05<00:00, 28.04it/s]\n"
     ]
    }
   ],
   "source": [
    "test100 = ut2.rollingWindowPrediction(model, x_test, steps)\n",
    "np.savetxt(\"test100_MLPFase.csv\", test100, delimiter=\",\")"
   ]
  },
  {
   "cell_type": "code",
   "execution_count": 12,
   "metadata": {},
   "outputs": [
    {
     "name": "stdout",
     "output_type": "stream",
     "text": [
      "Mean Squared Error: 0.0021768802697906247\n",
      "Mean Absolute Percentage Error: 0.05740358380072094\n",
      "R2 Score: 0.02211156737016627\n",
      "Root Mean Squared Error: 0.046655060820439596\n"
     ]
    }
   ],
   "source": [
    "mse, mape, r2, rmse = er.calculate_errors(test100, y_test)\n",
    "print(f'Mean Squared Error: {mse}')\n",
    "print(f'Mean Absolute Percentage Error: {mape}')\n",
    "print(f'R2 Score: {r2}')\n",
    "print(f'Root Mean Squared Error: {rmse}')"
   ]
  },
  {
   "cell_type": "code",
   "execution_count": 13,
   "metadata": {},
   "outputs": [
    {
     "data": {
      "image/png": "[encoded data removed]",
      "text/plain": [
       "<Figure size 432x288 with 1 Axes>"
      ]
     },
     "metadata": {
      "needs_background": "light"
     },
     "output_type": "display_data"
    }
   ],
   "source": [
    "i = 10\n",
    "plt.plot(y_test[i], 'o-',label='Real')\n",
    "plt.plot(test100[i], '*-',label='Prediction')\n",
    "plt.xlabel('Time')\n",
    "plt.ylabel('Amplitude')\n",
    "plt.legend()\n",
    "plt.show()"
   ]
  },
  {
   "cell_type": "markdown",
   "metadata": {},
   "source": [
    "## **500 steps**"
   ]
  },
  {
   "cell_type": "code",
   "execution_count": 14,
   "metadata": {},
   "outputs": [],
   "source": [
    "steps = 500\n",
    "x_test , y_test = ut2.create_sequences(test, 1000, steps)\n",
    "x_test = torch.from_numpy(x_test.astype(np.float32)).squeeze()\n",
    "y_test = torch.from_numpy(y_test.astype(np.float32)).squeeze()"
   ]
  },
  {
   "cell_type": "code",
   "execution_count": 15,
   "metadata": {},
   "outputs": [
    {
     "name": "stderr",
     "output_type": "stream",
     "text": [
      "100%|██████████| 43501/43501 [2:13:40<00:00,  5.42it/s]  \n"
     ]
    }
   ],
   "source": [
    "test500 = ut2.rollingWindowPrediction(model, x_test, steps)\n",
    "np.savetxt(\"test500_MLPFase.csv\", test500, delimiter=\",\")"
   ]
  },
  {
   "cell_type": "code",
   "execution_count": 16,
   "metadata": {},
   "outputs": [
    {
     "name": "stdout",
     "output_type": "stream",
     "text": [
      "Mean Squared Error: 0.002308160879942755\n",
      "Mean Absolute Percentage Error: 0.0609927663780807\n",
      "R2 Score: -0.03891776074843668\n",
      "Root Mean Squared Error: 0.04803446433236783\n"
     ]
    }
   ],
   "source": [
    "mse, mape, r2, rmse = er.calculate_errors(test500, y_test)\n",
    "print(f'Mean Squared Error: {mse}')\n",
    "print(f'Mean Absolute Percentage Error: {mape}')\n",
    "print(f'R2 Score: {r2}')\n",
    "print(f'Root Mean Squared Error: {rmse}')"
   ]
  },
  {
   "cell_type": "code",
   "execution_count": 17,
   "metadata": {},
   "outputs": [
    {
     "data": {
      "image/png": "[encoded data removed]",
      "text/plain": [
       "<Figure size 432x288 with 1 Axes>"
      ]
     },
     "metadata": {
      "needs_background": "light"
     },
     "output_type": "display_data"
    }
   ],
   "source": [
    "i = 10\n",
    "plt.plot(y_test[i], 'o-',label='Real')\n",
    "plt.plot(test500[i], '*-',label='Prediction')\n",
    "plt.xlabel('Time')\n",
    "plt.ylabel('Amplitude')\n",
    "plt.legend()\n",
    "plt.show()"
   ]
  },
  {
   "cell_type": "markdown",
   "metadata": {},
   "source": [
    "## **1000 steps**"
   ]
  },
  {
   "cell_type": "code",
   "execution_count": 18,
   "metadata": {},
   "outputs": [],
   "source": [
    "steps = 1000\n",
    "x_test , y_test = ut2.create_sequences(test, 1000, steps)\n",
    "x_test = torch.from_numpy(x_test.astype(np.float32)).squeeze()\n",
    "y_test = torch.from_numpy(y_test.astype(np.float32)).squeeze()"
   ]
  },
  {
   "cell_type": "code",
   "execution_count": 19,
   "metadata": {},
   "outputs": [
    {
     "name": "stderr",
     "output_type": "stream",
     "text": [
      "100%|██████████| 43001/43001 [3:53:29<00:00,  3.07it/s]  \n"
     ]
    }
   ],
   "source": [
    "test1000 = ut2.rollingWindowPrediction(model, x_test, steps)\n",
    "np.savetxt(\"test1000_MLPFase.csv\", test1000, delimiter=\",\")"
   ]
  },
  {
   "cell_type": "code",
   "execution_count": 20,
   "metadata": {},
   "outputs": [
    {
     "name": "stdout",
     "output_type": "stream",
     "text": [
      "Mean Squared Error: 0.0023922889763356636\n",
      "Mean Absolute Percentage Error: 0.063229543803744\n",
      "R2 Score: -0.07604635137517245\n",
      "Root Mean Squared Error: 0.04889752317310252\n"
     ]
    }
   ],
   "source": [
    "mse, mape, r2, rmse = er.calculate_errors(test1000, y_test)\n",
    "print(f'Mean Squared Error: {mse}')\n",
    "print(f'Mean Absolute Percentage Error: {mape}')\n",
    "print(f'R2 Score: {r2}')\n",
    "print(f'Root Mean Squared Error: {rmse}')"
   ]
  },
  {
   "cell_type": "code",
   "execution_count": 21,
   "metadata": {},
   "outputs": [
    {
     "data": {
      "image/png": "[encoded data removed]",
      "text/plain": [
       "<Figure size 432x288 with 1 Axes>"
      ]
     },
     "metadata": {
      "needs_background": "light"
     },
     "output_type": "display_data"
    }
   ],
   "source": [
    "i = 10\n",
    "plt.plot(y_test[i], 'o-',label='Real')\n",
    "plt.plot(test1000[i], '*-',label='Prediction')\n",
    "plt.xlabel('Time')\n",
    "plt.ylabel('Amplitude')\n",
    "plt.legend()\n",
    "plt.show()"
   ]
  }
 ],
 "metadata": {
  "kernelspec": {
   "display_name": "Python 3",
   "language": "python",
   "name": "python3"
  },
  "language_info": {
   "codemirror_mode": {
    "name": "ipython",
    "version": 3
   },
   "file_extension": ".py",
   "mimetype": "text/x-python",
   "name": "python",
   "nbconvert_exporter": "python",
   "pygments_lexer": "ipython3",
   "version": "3.9.12"
  }
 },
 "nbformat": 4,
 "nbformat_minor": 2
}
