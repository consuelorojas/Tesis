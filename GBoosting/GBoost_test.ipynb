{
 "cells": [
  {
   "cell_type": "code",
   "execution_count": 1,
   "metadata": {},
   "outputs": [],
   "source": [
    "#files\n",
    "import sys\n",
    "#from os import listdir\n",
    "sys.path.append('../data')\n",
    "sys.path.append('../Librerias')\n",
    "#from os.path import isfile, join\n",
    "\n",
    "#own libs\n",
    "import utils\n",
    "import caract as dc\n",
    "import dataset as ds\n",
    "from models import SimpleRNN, LSTM\n",
    "#from lstm_models import LSTM\n",
    "import utils_2 as ut2\n",
    "from traindata import trainData\n",
    "import errores as er\n",
    "\n",
    "\n",
    "\n",
    "#data and visualization\n",
    "import numpy as np\n",
    "import pandas as pd\n",
    "import seaborn as sns\n",
    "import plotly.express as px\n",
    "import matplotlib.pyplot as plt\n",
    "import plotly.graph_objects as go\n",
    "from sklearn.preprocessing import MinMaxScaler\n",
    "from sklearn.metrics import mean_squared_error, mean_absolute_percentage_error, root_mean_squared_error, r2_score\n",
    "from sklearn.svm import SVR\n",
    "import pickle\n",
    "\n",
    "sns.set_style(\"darkgrid\")\n",
    "\n",
    "\n",
    "import numpy as np\n",
    "from tqdm import tqdm\n",
    "\n",
    "\n",
    "\n",
    "np.random.seed(seed=77)"
   ]
  },
  {
   "cell_type": "code",
   "execution_count": 2,
   "metadata": {},
   "outputs": [
    {
     "name": "stdout",
     "output_type": "stream",
     "text": [
      "0         0.001705\n",
      "1         0.001436\n",
      "2         0.001494\n",
      "3         0.001446\n",
      "4         0.001489\n",
      "            ...   \n",
      "599995    0.000679\n",
      "599996    0.000686\n",
      "599997    0.000843\n",
      "599998    0.000868\n",
      "599999    0.001361\n",
      "Name: Amplitude, Length: 600000, dtype: float64\n",
      "0         0.001705\n",
      "1         0.001436\n",
      "2         0.001494\n",
      "3         0.001446\n",
      "4         0.001489\n",
      "            ...   \n",
      "599995    0.000679\n",
      "599996    0.000686\n",
      "599997    0.000843\n",
      "599998    0.000868\n",
      "599999    0.001361\n",
      "Name: Amplitude, Length: 600000, dtype: float64\n",
      "0         0.001705\n",
      "1         0.001436\n",
      "2         0.001494\n",
      "3         0.001446\n",
      "4         0.001489\n",
      "            ...   \n",
      "599995    0.000679\n",
      "599996    0.000686\n",
      "599997    0.000843\n",
      "599998    0.000868\n",
      "599999    0.001361\n",
      "Name: Amplitude, Length: 600000, dtype: float64\n",
      "0         0.001705\n",
      "1         0.001436\n",
      "2         0.001494\n",
      "3         0.001446\n",
      "4         0.001489\n",
      "            ...   \n",
      "599995    0.000679\n",
      "599996    0.000686\n",
      "599997    0.000843\n",
      "599998    0.000868\n",
      "599999    0.001361\n",
      "Name: Amplitude, Length: 600000, dtype: float64\n"
     ]
    }
   ],
   "source": [
    "#fpath = \"/Users/consu/OneDrive/Documentos/GitHub/Tesis/data/low/\"\n",
    "fpath = \"/Users/granosftp/Documents/GitHub/Tesis/data/low/\"\n",
    "#fpath ='/Users/falconlab/Documents/GitHub/Tesis/data/low/'\n",
    "fname = \"file1_080124.mat\"\n",
    "#cutoff = [8/1000, 11/1000]\n",
    "\n",
    "data = trainData(fpath, fname, 'Amplitude')\n",
    "train, val, test = data.split_data('Amplitude')\n",
    "\n",
    "\n",
    "import copy\n",
    "\n",
    "train = utils.subsample(train, 2)\n",
    "test = utils.subsample(test, 2)\n",
    "\n",
    "scaler = MinMaxScaler()\n",
    "train_scaled = scaler.fit_transform(train.reshape(-1, 1))\n",
    "test_scaled = scaler.transform(test.reshape(-1, 1))\n",
    "\n",
    "test = copy.deepcopy(test_scaled)\n",
    "\n",
    "x_train, y_train = ut2.create_sequences(train_scaled[:], 1000, 1)\n",
    "x_test, y_test = ut2.create_sequences(test_scaled, 1000, 1)\n"
   ]
  },
  {
   "cell_type": "code",
   "execution_count": 3,
   "metadata": {},
   "outputs": [],
   "source": [
    "filename = 'GBoost_model.sav'\n",
    "model = pickle.load(open(filename, 'rb'))\n"
   ]
  },
  {
   "cell_type": "markdown",
   "metadata": {},
   "source": [
    "## **predicciones a 50 steps**"
   ]
  },
  {
   "cell_type": "code",
   "execution_count": 4,
   "metadata": {},
   "outputs": [],
   "source": [
    "steps = 50\n",
    "x_test , y_test = ut2.create_sequences(test, 1000, steps)\n",
    "y_test = y_test.squeeze()"
   ]
  },
  {
   "cell_type": "code",
   "execution_count": 5,
   "metadata": {},
   "outputs": [
    {
     "name": "stderr",
     "output_type": "stream",
     "text": [
      "  0%|          | 0/43951 [00:00<?, ?it/s]"
     ]
    },
    {
     "name": "stderr",
     "output_type": "stream",
     "text": [
      "100%|██████████| 43951/43951 [14:01<00:00, 52.23it/s]\n"
     ]
    }
   ],
   "source": [
    "test50 = ut2.rollingWindowPrediction_SVR(model, x_test, steps)\n",
    "np.savetxt(\"test50_GBoostt.csv\", test50, delimiter=\",\")"
   ]
  },
  {
   "cell_type": "code",
   "execution_count": 6,
   "metadata": {},
   "outputs": [
    {
     "name": "stdout",
     "output_type": "stream",
     "text": [
      "Mean Squared Error: 0.0023052888351321158\n",
      "Mean Absolute Percentage Error: 0.5511972687606752\n",
      "R2 Score: 0.6104799709648507\n",
      "Root Mean Squared Error: 0.040643419324914234\n"
     ]
    }
   ],
   "source": [
    "mse, mape, r2, rmse = er.calculate_errors(test50, y_test)\n",
    "print(f'Mean Squared Error: {mse}')\n",
    "print(f'Mean Absolute Percentage Error: {mape}')\n",
    "print(f'R2 Score: {r2}')\n",
    "print(f'Root Mean Squared Error: {rmse}')"
   ]
  },
  {
   "cell_type": "code",
   "execution_count": 7,
   "metadata": {},
   "outputs": [
    {
     "data": {
      "image/png": "[encoded data removed]",
      "text/plain": [
       "<Figure size 432x288 with 1 Axes>"
      ]
     },
     "metadata": {
      "needs_background": "light"
     },
     "output_type": "display_data"
    }
   ],
   "source": [
    "i = 1\n",
    "plt.plot(y_test[i], 'o-',label='Real')\n",
    "plt.plot(test50[i], '*-',label='Prediction')\n",
    "plt.xlabel('Time')\n",
    "plt.ylabel('Amplitude')\n",
    "plt.legend()\n",
    "plt.show()"
   ]
  },
  {
   "cell_type": "markdown",
   "metadata": {},
   "source": [
    "## **predicciones a 100 steps**"
   ]
  },
  {
   "cell_type": "code",
   "execution_count": 8,
   "metadata": {},
   "outputs": [],
   "source": [
    "steps = 100\n",
    "x_test , y_test = ut2.create_sequences(test, 1000, steps)\n",
    "y_test = y_test.squeeze()"
   ]
  },
  {
   "cell_type": "code",
   "execution_count": 9,
   "metadata": {},
   "outputs": [
    {
     "name": "stderr",
     "output_type": "stream",
     "text": [
      "100%|██████████| 43901/43901 [27:26<00:00, 26.66it/s]\n"
     ]
    }
   ],
   "source": [
    "test100 = ut2.rollingWindowPrediction_SVR(model, x_test, steps)\n",
    "np.savetxt(\"test100_GBoost.csv\", test100, delimiter=\",\")"
   ]
  },
  {
   "cell_type": "code",
   "execution_count": 10,
   "metadata": {},
   "outputs": [
    {
     "name": "stdout",
     "output_type": "stream",
     "text": [
      "Mean Squared Error: 0.0036976442079751978\n",
      "Mean Absolute Percentage Error: 0.707765015593241\n",
      "R2 Score: 0.37576005454838746\n",
      "Root Mean Squared Error: 0.05594361339394302\n"
     ]
    }
   ],
   "source": [
    "mse, mape, r2, rmse = er.calculate_errors(test100, y_test)\n",
    "print(f'Mean Squared Error: {mse}')\n",
    "print(f'Mean Absolute Percentage Error: {mape}')\n",
    "print(f'R2 Score: {r2}')\n",
    "print(f'Root Mean Squared Error: {rmse}')"
   ]
  },
  {
   "cell_type": "code",
   "execution_count": 11,
   "metadata": {},
   "outputs": [
    {
     "data": {
      "image/png": "[encoded data removed]",
      "text/plain": [
       "<Figure size 432x288 with 1 Axes>"
      ]
     },
     "metadata": {
      "needs_background": "light"
     },
     "output_type": "display_data"
    }
   ],
   "source": [
    "i = 1\n",
    "plt.plot(y_test[i], 'o-',label='Real')\n",
    "plt.plot(test100[i], '*-',label='Prediction')\n",
    "plt.xlabel('Time')\n",
    "plt.ylabel('Amplitude')\n",
    "plt.legend()\n",
    "plt.show()"
   ]
  },
  {
   "cell_type": "markdown",
   "metadata": {},
   "source": [
    "## **Predicciones a 500 steps**"
   ]
  },
  {
   "cell_type": "code",
   "execution_count": 12,
   "metadata": {},
   "outputs": [],
   "source": [
    "steps = 500\n",
    "x_test , y_test = ut2.create_sequences(test, 1000, steps)\n",
    "y_test = y_test.squeeze()"
   ]
  },
  {
   "cell_type": "code",
   "execution_count": 13,
   "metadata": {},
   "outputs": [
    {
     "name": "stderr",
     "output_type": "stream",
     "text": [
      "  5%|▍         | 2099/43501 [07:34<2:59:38,  3.84it/s]"
     ]
    }
   ],
   "source": [
    "test500 = ut2.rollingWindowPrediction_SVR(model, x_test, steps)\n",
    "np.savetxt(\"test500_GBoost.csv\", test500, delimiter=\",\")"
   ]
  },
  {
   "cell_type": "code",
   "execution_count": null,
   "metadata": {},
   "outputs": [
    {
     "name": "stdout",
     "output_type": "stream",
     "text": [
      "Mean Squared Error: 0.04809984679279519\n",
      "Mean Absolute Percentage Error: 3.4308073858855903\n",
      "R2 Score: -7.079926691048904\n",
      "Root Mean Squared Error: 0.21263413168540474\n"
     ]
    }
   ],
   "source": [
    "mse, mape, r2, rmse = er.calculate_errors(test500, y_test)\n",
    "print(f'Mean Squared Error: {mse}')\n",
    "print(f'Mean Absolute Percentage Error: {mape}')\n",
    "print(f'R2 Score: {r2}')\n",
    "print(f'Root Mean Squared Error: {rmse}')"
   ]
  },
  {
   "cell_type": "code",
   "execution_count": null,
   "metadata": {},
   "outputs": [
    {
     "data": {
      "image/png": "[encoded data removed]",
      "text/plain": [
       "<Figure size 432x288 with 1 Axes>"
      ]
     },
     "metadata": {
      "needs_background": "light"
     },
     "output_type": "display_data"
    }
   ],
   "source": [
    "i = 1\n",
    "plt.plot(y_test[i], 'o-',label='Real')\n",
    "plt.plot(test500[i], '*-',label='Prediction')\n",
    "plt.xlabel('Time')\n",
    "plt.ylabel('Amplitude')\n",
    "plt.legend()\n",
    "plt.show()"
   ]
  },
  {
   "cell_type": "markdown",
   "metadata": {},
   "source": [
    "## **Predicciones a 1000 steps**"
   ]
  },
  {
   "cell_type": "code",
   "execution_count": null,
   "metadata": {},
   "outputs": [
    {
     "name": "stderr",
     "output_type": "stream",
     "text": [
      "100%|██████████| 43001/43001 [2:32:03<00:00,  4.71it/s]  \n"
     ]
    }
   ],
   "source": [
    "#steps = 1000\n",
    "#x_test , y_test = ut2.create_sequences(test, 1000, steps)\n",
    "#y_test = y_test.squeeze()\n",
    "#test1000 = ut2.rollingWindowPrediction_SVR(model, x_test, steps)\n",
    "#np.savetxt(\"test1000_SVR.csv\", test1000, delimiter=\",\")"
   ]
  },
  {
   "cell_type": "code",
   "execution_count": null,
   "metadata": {},
   "outputs": [
    {
     "name": "stdout",
     "output_type": "stream",
     "text": [
      "Mean Squared Error: 0.037555484445934\n",
      "Mean Absolute Percentage Error: 3.0677520831769054\n",
      "R2 Score: -5.284692031386046\n",
      "Root Mean Squared Error: 0.18662312214437599\n"
     ]
    }
   ],
   "source": [
    "#mse, mape, r2, rmse = er.calculate_errors(test1000, y_test)\n",
    "#print(f'Mean Squared Error: {mse}')\n",
    "#print(f'Mean Absolute Percentage Error: {mape}')\n",
    "#print(f'R2 Score: {r2}')\n",
    "#print(f'Root Mean Squared Error: {rmse}')"
   ]
  },
  {
   "cell_type": "code",
   "execution_count": null,
   "metadata": {},
   "outputs": [
    {
     "data": {
      "image/png": "[encoded data removed]",
      "text/plain": [
       "<Figure size 432x288 with 1 Axes>"
      ]
     },
     "metadata": {
      "needs_background": "light"
     },
     "output_type": "display_data"
    }
   ],
   "source": [
    "i = 1\n",
    "plt.plot(y_test[i], 'o-',label='Real')\n",
    "#plt.plot(test100[i], '*-',label='Prediction')\n",
    "plt.xlabel('Time')\n",
    "plt.ylabel('Amplitude')\n",
    "plt.legend()\n",
    "plt.show()"
   ]
  }
 ],
 "metadata": {
  "kernelspec": {
   "display_name": "base",
   "language": "python",
   "name": "python3"
  },
  "language_info": {
   "codemirror_mode": {
    "name": "ipython",
    "version": 3
   },
   "file_extension": ".py",
   "mimetype": "text/x-python",
   "name": "python",
   "nbconvert_exporter": "python",
   "pygments_lexer": "ipython3",
   "version": "3.9.12"
  }
 },
 "nbformat": 4,
 "nbformat_minor": 2
}
