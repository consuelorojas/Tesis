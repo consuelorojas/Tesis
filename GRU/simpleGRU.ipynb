{
 "cells": [
  {
   "cell_type": "code",
   "execution_count": 1,
   "metadata": {},
   "outputs": [
    {
     "name": "stderr",
     "output_type": "stream",
     "text": [
      "c:\\Users\\consu\\AppData\\Local\\Programs\\Python\\Python310\\lib\\site-packages\\scipy\\__init__.py:155: UserWarning: A NumPy version >=1.18.5 and <1.25.0 is required for this version of SciPy (detected version 1.26.3\n",
      "  warnings.warn(f\"A NumPy version >={np_minversion} and <{np_maxversion}\"\n"
     ]
    },
    {
     "data": {
      "text/plain": [
       "<torch._C.Generator at 0x2bd62038bf0>"
      ]
     },
     "execution_count": 1,
     "metadata": {},
     "output_type": "execute_result"
    }
   ],
   "source": [
    "#files\n",
    "import sys\n",
    "#from os import listdir\n",
    "sys.path.append('../data')\n",
    "sys.path.append('../Librerias')\n",
    "#from os.path import isfile, join\n",
    "\n",
    "#own libs\n",
    "import utils\n",
    "import caract as dc\n",
    "import dataset as ds\n",
    "from RNN_model import SimpleRNN\n",
    "from lstm_models import LSTM\n",
    "import utils_2 as ut2\n",
    "from traindata import trainData\n",
    "\n",
    "\n",
    "\n",
    "#data and visualization\n",
    "import numpy as np\n",
    "import pandas as pd\n",
    "import seaborn as sns\n",
    "import plotly.express as px\n",
    "import matplotlib.pyplot as plt\n",
    "import plotly.graph_objects as go\n",
    "from sklearn.preprocessing import MinMaxScaler\n",
    "\n",
    "sns.set_style(\"darkgrid\")\n",
    "\n",
    "\n",
    "import numpy as np\n",
    "import random\n",
    "import os, errno\n",
    "from tqdm import tqdm\n",
    "\n",
    "import torch\n",
    "import torch.nn as nn\n",
    "from torch import optim\n",
    "import torch.nn.functional as F\n",
    "import torch.utils.data as data_utils\n",
    "\n",
    "\n",
    "np.random.seed(seed=77)\n",
    "torch.manual_seed(77)"
   ]
  },
  {
   "cell_type": "code",
   "execution_count": 2,
   "metadata": {},
   "outputs": [],
   "source": [
    "fpath = \"/Users/consu/OneDrive/Documentos/GitHub/Tesis/data/low/\"\n",
    "#fpath = \"/Users/granosftp/Documents/GitHub/Tesis/data/low/\"\n",
    "fname = \"file1_080124.mat\"\n",
    "#cutoff = [8/1000, 11/1000]\n",
    "\n",
    "data = trainData(fpath, fname, 'Amplitude')\n",
    "train, val, test = data.split_data('Amplitude')"
   ]
  },
  {
   "cell_type": "code",
   "execution_count": null,
   "metadata": {},
   "outputs": [],
   "source": [
    "# sub sampleo\n",
    "\n",
    "train = utils.subsample(train, 2)\n",
    "val = utils.subsample(val, 2)\n",
    "test = utils.subsample(test, 2)"
   ]
  },
  {
   "cell_type": "markdown",
   "metadata": {},
   "source": [
    "## **scaler**"
   ]
  },
  {
   "cell_type": "code",
   "execution_count": 3,
   "metadata": {},
   "outputs": [],
   "source": [
    "scaler = MinMaxScaler()\n",
    "train_scaled = scaler.fit_transform(train.reshape(-1, 1))\n",
    "val_scaled = scaler.transform(val.reshape(-1, 1))\n",
    "test_scaled = scaler.transform(test.reshape(-1, 1))"
   ]
  },
  {
   "cell_type": "code",
   "execution_count": 4,
   "metadata": {},
   "outputs": [],
   "source": [
    "x_train, y_train = ut2.create_sequences(train_scaled[:10000], 1000, 1)\n",
    "x_val, y_val = ut2.create_sequences(val_scaled[:5000], 1000, 1)\n",
    "x_test, y_test = ut2.create_sequences(test_scaled[:3000], 1000, 1)"
   ]
  },
  {
   "cell_type": "code",
   "execution_count": 5,
   "metadata": {},
   "outputs": [
    {
     "data": {
      "text/plain": [
       "'x_train, y_train = ut2.create_sequences(train_scaled[:200000], 1000, 50)\\nx_val, y_val = ut2.create_sequences(val_scaled[:45000], 1000, 50)\\nx_test, y_test = ut2.create_sequences(test_scaled[:45000], 1000, 50)\\n\\nx_train.shape, y_train.shape, x_val.shape, y_val.shape, x_test.shape, y_test.shape'"
      ]
     },
     "execution_count": 5,
     "metadata": {},
     "output_type": "execute_result"
    }
   ],
   "source": [
    "'''x_train, y_train = ut2.create_sequences(train_scaled[:200000], 1000, 50)\n",
    "x_val, y_val = ut2.create_sequences(val_scaled[:45000], 1000, 50)\n",
    "x_test, y_test = ut2.create_sequences(test_scaled[:45000], 1000, 50)\n",
    "\n",
    "x_train.shape, y_train.shape, x_val.shape, y_val.shape, x_test.shape, y_test.shape'''"
   ]
  },
  {
   "cell_type": "code",
   "execution_count": 6,
   "metadata": {},
   "outputs": [
    {
     "data": {
      "text/plain": [
       "(torch.Size([9000, 1000]),\n",
       " torch.Size([9000]),\n",
       " torch.Size([4000, 1000]),\n",
       " torch.Size([4000]),\n",
       " torch.Size([2000, 1000]),\n",
       " torch.Size([2000]))"
      ]
     },
     "execution_count": 6,
     "metadata": {},
     "output_type": "execute_result"
    }
   ],
   "source": [
    "x_train = torch.from_numpy(x_train.astype(np.float32)).squeeze()\n",
    "y_train = torch.from_numpy(y_train.astype(np.float32)).squeeze()\n",
    "x_val = torch.from_numpy(x_val.astype(np.float32)).squeeze()\n",
    "y_val = torch.from_numpy(y_val.astype(np.float32)).squeeze()\n",
    "x_test = torch.from_numpy(x_test.astype(np.float32)).squeeze()\n",
    "y_test = torch.from_numpy(y_test.astype(np.float32)).squeeze()\n",
    "\n",
    "x_train.shape, y_train.shape, x_val.shape, y_val.shape, x_test.shape, y_test.shape"
   ]
  },
  {
   "cell_type": "markdown",
   "metadata": {},
   "source": [
    "## **Single Step**"
   ]
  },
  {
   "cell_type": "code",
   "execution_count": 7,
   "metadata": {},
   "outputs": [],
   "source": [
    "class GRU(nn.Module):\n",
    "    def __init__(self,in_dim, hid_dim, out_dim, num_layers):\n",
    "        super().__init__()\n",
    "        \n",
    "        self.in_dim = in_dim\n",
    "        self.hid_dim = hid_dim\n",
    "        self.out_dim = out_dim\n",
    "        self.layer = num_layers\n",
    "        \n",
    "        self.gru = nn.GRU(self.in_dim, self.hid_dim, self.layer, batch_first=True)\n",
    "        self.fc = nn.Linear(self.hid_dim, self.out_dim)\n",
    "        \n",
    "    def forward(self,x):\n",
    "        \n",
    "        # initalize the hidden layers\n",
    "        h0 = torch.zeros(self.layer, self.hid_dim)\n",
    "        \n",
    "        out, _ = self.gru(x,h0)\n",
    "        out = self.fc(out)\n",
    "        return out"
   ]
  },
  {
   "cell_type": "code",
   "execution_count": 8,
   "metadata": {},
   "outputs": [],
   "source": [
    "in_size = x_train.shape[-1]\n",
    "out_size = 1\n",
    "hid_size = x_train.shape[-1]//2\n",
    "num_layers = 2\n",
    "\n",
    "\n",
    "model = GRU(in_size,hid_size,out_size, num_layers)\n",
    "optimizer = torch.optim.Adam(model.parameters(), lr=0.001)\n",
    "criterion = nn.MSELoss()"
   ]
  },
  {
   "cell_type": "code",
   "execution_count": 9,
   "metadata": {},
   "outputs": [
    {
     "name": "stderr",
     "output_type": "stream",
     "text": [
      " 20%|██        | 2/10 [04:21<17:26, 130.87s/it]"
     ]
    },
    {
     "name": "stdout",
     "output_type": "stream",
     "text": [
      "\n",
      "Training Interrupted by user\n"
     ]
    },
    {
     "name": "stderr",
     "output_type": "stream",
     "text": [
      "\n"
     ]
    }
   ],
   "source": [
    "train_loss, test_loss = ut2.simpleTrain_model(model,\n",
    "                                            criterion,\n",
    "                                            optimizer,\n",
    "                                            x_train,\n",
    "                                            x_val,\n",
    "                                            y_train,\n",
    "                                            y_val,\n",
    "                                            epochs=10)"
   ]
  },
  {
   "cell_type": "code",
   "execution_count": 10,
   "metadata": {},
   "outputs": [
    {
     "data": {
      "image/png": "[encoded data removed]",
      "text/plain": [
       "<Figure size 640x480 with 1 Axes>"
      ]
     },
     "metadata": {},
     "output_type": "display_data"
    }
   ],
   "source": [
    "ut2.plot_loss(train_loss, test_loss, 'Simple LSTM')"
   ]
  },
  {
   "cell_type": "code",
   "execution_count": 14,
   "metadata": {},
   "outputs": [],
   "source": [
    "val_loss = np.asanyarray(test_loss)\n",
    "train_loss = np.asanyarray(train_loss)\n",
    "np.savetxt(\"train_lossSimpleGRU.csv\", train_loss, delimiter=\",\")\n",
    "np.savetxt(\"val_lossSimpleGRU.csv\", val_loss, delimiter=\",\")"
   ]
  },
  {
   "cell_type": "markdown",
   "metadata": {},
   "source": [
    "## **test predictions**"
   ]
  },
  {
   "cell_type": "code",
   "execution_count": 11,
   "metadata": {},
   "outputs": [
    {
     "name": "stderr",
     "output_type": "stream",
     "text": [
      "100%|██████████| 2000/2000 [04:53<00:00,  6.82it/s]\n"
     ]
    }
   ],
   "source": [
    "test_pred = ut2.rollingWindowPrediction(model, x_test, steps = 50)"
   ]
  },
  {
   "cell_type": "code",
   "execution_count": 12,
   "metadata": {},
   "outputs": [
    {
     "data": {
      "text/plain": [
       "(2000, 50)"
      ]
     },
     "execution_count": 12,
     "metadata": {},
     "output_type": "execute_result"
    }
   ],
   "source": [
    "np.asarray(test_pred).shape"
   ]
  },
  {
   "cell_type": "code",
   "execution_count": 13,
   "metadata": {},
   "outputs": [
    {
     "data": {
      "image/png": "[encoded data removed]",
      "text/plain": [
       "<Figure size 640x480 with 1 Axes>"
      ]
     },
     "metadata": {},
     "output_type": "display_data"
    }
   ],
   "source": [
    "i = 65\n",
    "\n",
    "plt.plot(test_pred[i], label='Prediction')\n",
    "plt.plot(y_test[i:i+50].detach().numpy(), label='Real')\n",
    "plt.legend()\n",
    "plt.show()"
   ]
  }
 ],
 "metadata": {
  "kernelspec": {
   "display_name": "Python 3",
   "language": "python",
   "name": "python3"
  },
  "language_info": {
   "codemirror_mode": {
    "name": "ipython",
    "version": 3
   },
   "file_extension": ".py",
   "mimetype": "text/x-python",
   "name": "python",
   "nbconvert_exporter": "python",
   "pygments_lexer": "ipython3",
   "version": "3.10.8"
  }
 },
 "nbformat": 4,
 "nbformat_minor": 2
}
