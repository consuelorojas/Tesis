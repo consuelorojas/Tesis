{
 "cells": [
  {
   "cell_type": "code",
   "execution_count": 1,
   "metadata": {},
   "outputs": [
    {
     "name": "stderr",
     "output_type": "stream",
     "text": [
      "c:\\Users\\consu\\AppData\\Local\\Programs\\Python\\Python310\\lib\\site-packages\\scipy\\__init__.py:155: UserWarning: A NumPy version >=1.18.5 and <1.25.0 is required for this version of SciPy (detected version 1.26.3\n",
      "  warnings.warn(f\"A NumPy version >={np_minversion} and <{np_maxversion}\"\n"
     ]
    },
    {
     "data": {
      "text/plain": [
       "<torch._C.Generator at 0x1c1ec74cc50>"
      ]
     },
     "execution_count": 1,
     "metadata": {},
     "output_type": "execute_result"
    }
   ],
   "source": [
    "#files\n",
    "import sys\n",
    "#from os import listdir\n",
    "sys.path.append('../data')\n",
    "sys.path.append('../Librerias')\n",
    "#from os.path import isfile, join\n",
    "\n",
    "#own libs\n",
    "import utils\n",
    "import caract as dc\n",
    "import dataset as ds\n",
    "#from RNN_model import Simple_RNN\n",
    "import utils_2 as ut2\n",
    "\n",
    "\n",
    "\n",
    "#data and visualization\n",
    "import numpy as np\n",
    "import pandas as pd\n",
    "import seaborn as sns\n",
    "import plotly.express as px\n",
    "import matplotlib.pyplot as plt\n",
    "import plotly.graph_objects as go\n",
    "from sklearn.preprocessing import MinMaxScaler\n",
    "\n",
    "sns.set_style(\"darkgrid\")\n",
    "\n",
    "\n",
    "import numpy as np\n",
    "import random\n",
    "import os, errno\n",
    "from tqdm import tqdm\n",
    "\n",
    "import torch\n",
    "import torch.nn as nn\n",
    "from torch import optim\n",
    "import torch.nn.functional as F\n",
    "import torch.utils.data as data_utils\n",
    "\n",
    "\n",
    "np.random.seed(seed=77)\n",
    "torch.manual_seed(77)"
   ]
  },
  {
   "cell_type": "code",
   "execution_count": 2,
   "metadata": {},
   "outputs": [
    {
     "data": {
      "text/html": [
       "<div>\n",
       "<style scoped>\n",
       "    .dataframe tbody tr th:only-of-type {\n",
       "        vertical-align: middle;\n",
       "    }\n",
       "\n",
       "    .dataframe tbody tr th {\n",
       "        vertical-align: top;\n",
       "    }\n",
       "\n",
       "    .dataframe thead th {\n",
       "        text-align: right;\n",
       "    }\n",
       "</style>\n",
       "<table border=\"1\" class=\"dataframe\">\n",
       "  <thead>\n",
       "    <tr style=\"text-align: right;\">\n",
       "      <th></th>\n",
       "      <th>Original Signal</th>\n",
       "      <th>Signal - Mean</th>\n",
       "      <th>Filtered Signal</th>\n",
       "      <th>Hilbert Transform</th>\n",
       "      <th>Amplitude</th>\n",
       "      <th>Instantaneous Phase</th>\n",
       "      <th>Gradient Phase</th>\n",
       "    </tr>\n",
       "  </thead>\n",
       "  <tbody>\n",
       "    <tr>\n",
       "      <th>0</th>\n",
       "      <td>0.134180</td>\n",
       "      <td>0.023473</td>\n",
       "      <td>0.002203</td>\n",
       "      <td>0.002203-0.001490j</td>\n",
       "      <td>0.002659</td>\n",
       "      <td>-0.594742</td>\n",
       "      <td>-0.051439</td>\n",
       "    </tr>\n",
       "    <tr>\n",
       "      <th>1</th>\n",
       "      <td>0.135824</td>\n",
       "      <td>0.025117</td>\n",
       "      <td>0.002051</td>\n",
       "      <td>0.002051+0.000170j</td>\n",
       "      <td>0.002058</td>\n",
       "      <td>0.082612</td>\n",
       "      <td>-0.020024</td>\n",
       "    </tr>\n",
       "    <tr>\n",
       "      <th>2</th>\n",
       "      <td>0.136482</td>\n",
       "      <td>0.025775</td>\n",
       "      <td>0.001900</td>\n",
       "      <td>0.001900+0.000303j</td>\n",
       "      <td>0.001924</td>\n",
       "      <td>0.158163</td>\n",
       "      <td>0.009547</td>\n",
       "    </tr>\n",
       "    <tr>\n",
       "      <th>3</th>\n",
       "      <td>0.137797</td>\n",
       "      <td>0.027090</td>\n",
       "      <td>0.001749</td>\n",
       "      <td>0.001749+0.000903j</td>\n",
       "      <td>0.001969</td>\n",
       "      <td>0.476669</td>\n",
       "      <td>0.035605</td>\n",
       "    </tr>\n",
       "    <tr>\n",
       "      <th>4</th>\n",
       "      <td>0.137797</td>\n",
       "      <td>0.027090</td>\n",
       "      <td>0.001599</td>\n",
       "      <td>0.001599+0.000993j</td>\n",
       "      <td>0.001882</td>\n",
       "      <td>0.555726</td>\n",
       "      <td>0.056848</td>\n",
       "    </tr>\n",
       "  </tbody>\n",
       "</table>\n",
       "</div>"
      ],
      "text/plain": [
       "   Original Signal  Signal - Mean  Filtered Signal   Hilbert Transform  \\\n",
       "0         0.134180       0.023473         0.002203  0.002203-0.001490j   \n",
       "1         0.135824       0.025117         0.002051  0.002051+0.000170j   \n",
       "2         0.136482       0.025775         0.001900  0.001900+0.000303j   \n",
       "3         0.137797       0.027090         0.001749  0.001749+0.000903j   \n",
       "4         0.137797       0.027090         0.001599  0.001599+0.000993j   \n",
       "\n",
       "   Amplitude  Instantaneous Phase  Gradient Phase  \n",
       "0   0.002659            -0.594742       -0.051439  \n",
       "1   0.002058             0.082612       -0.020024  \n",
       "2   0.001924             0.158163        0.009547  \n",
       "3   0.001969             0.476669        0.035605  \n",
       "4   0.001882             0.555726        0.056848  "
      ]
     },
     "execution_count": 2,
     "metadata": {},
     "output_type": "execute_result"
    }
   ],
   "source": [
    "fpath = \"/Users/consu/OneDrive/Documentos/GitHub/Tesis/data/low/\"\n",
    "#fpath = \"/Users/granosftp/Documents/GitHub/Tesis/data/low/\"\n",
    "fname = \"file7_080124.mat\"\n",
    "cutoff = [8/1000, 11/1000]\n",
    "\n",
    "mat = ds.MatFileToDataFrame(fpath, fname)\n",
    "\n",
    "df_ = mat.get_dataframe(cutoff)\n",
    "\n",
    "x = dc.CaractDefect(df_)\n",
    "taus = x.get_tau()[1]\n",
    "\n",
    "hilbert, _ = x.get_hilbert()\n",
    "\n",
    "df = pd.merge(df_, hilbert, on = 'Hilbert Transform', how = 'outer')\n",
    "\n",
    "df.head()"
   ]
  },
  {
   "cell_type": "code",
   "execution_count": 20,
   "metadata": {},
   "outputs": [],
   "source": [
    "# Define the RNN model\n",
    "class SimpleRNN(nn.Module):\n",
    "    def __init__(self, input_size, hidden_size, output_size, num_layers):\n",
    "        super(SimpleRNN, self).__init__()\n",
    "        self.hidden_size = hidden_size\n",
    "        self.num_layers = num_layers\n",
    "        self.rnn = nn.RNN(input_size, hidden_size, num_layers, batch_first=True)\n",
    "        self.fc = nn.Linear(hidden_size, output_size)\n",
    "        \n",
    "    def forward(self, x):\n",
    "        h0 = torch.zeros(self.num_layers, x.size(0), self.hidden_size).to(x.device)\n",
    "        out, _ = self.rnn(x, h0)\n",
    "        out = self.fc(out[:, -1, :])\n",
    "        #out = self.fc(out)\n",
    "        return out"
   ]
  },
  {
   "cell_type": "code",
   "execution_count": 21,
   "metadata": {},
   "outputs": [
    {
     "name": "stderr",
     "output_type": "stream",
     "text": [
      "  0%|          | 0/100 [00:00<?, ?it/s]"
     ]
    },
    {
     "name": "stderr",
     "output_type": "stream",
     "text": [
      " 10%|█         | 10/100 [00:09<01:20,  1.12it/s]"
     ]
    },
    {
     "name": "stdout",
     "output_type": "stream",
     "text": [
      "Epoch [10/100], Train Loss: 0.0000, Validation Loss: 0.0000\n"
     ]
    },
    {
     "name": "stderr",
     "output_type": "stream",
     "text": [
      " 20%|██        | 20/100 [00:18<01:12,  1.11it/s]"
     ]
    },
    {
     "name": "stdout",
     "output_type": "stream",
     "text": [
      "Epoch [20/100], Train Loss: 0.0000, Validation Loss: 0.0000\n"
     ]
    },
    {
     "name": "stderr",
     "output_type": "stream",
     "text": [
      " 30%|███       | 30/100 [00:27<01:03,  1.10it/s]"
     ]
    },
    {
     "name": "stdout",
     "output_type": "stream",
     "text": [
      "Epoch [30/100], Train Loss: 0.0000, Validation Loss: 0.0000\n"
     ]
    },
    {
     "name": "stderr",
     "output_type": "stream",
     "text": [
      " 40%|████      | 40/100 [00:36<00:54,  1.09it/s]"
     ]
    },
    {
     "name": "stdout",
     "output_type": "stream",
     "text": [
      "Epoch [40/100], Train Loss: 0.0000, Validation Loss: 0.0000\n"
     ]
    },
    {
     "name": "stderr",
     "output_type": "stream",
     "text": [
      " 50%|█████     | 50/100 [00:45<00:45,  1.09it/s]"
     ]
    },
    {
     "name": "stdout",
     "output_type": "stream",
     "text": [
      "Epoch [50/100], Train Loss: 0.0000, Validation Loss: 0.0000\n"
     ]
    },
    {
     "name": "stderr",
     "output_type": "stream",
     "text": [
      " 60%|██████    | 60/100 [00:54<00:36,  1.10it/s]"
     ]
    },
    {
     "name": "stdout",
     "output_type": "stream",
     "text": [
      "Epoch [60/100], Train Loss: 0.0000, Validation Loss: 0.0000\n"
     ]
    },
    {
     "name": "stderr",
     "output_type": "stream",
     "text": [
      " 70%|███████   | 70/100 [01:03<00:27,  1.10it/s]"
     ]
    },
    {
     "name": "stdout",
     "output_type": "stream",
     "text": [
      "Epoch [70/100], Train Loss: 0.0000, Validation Loss: 0.0000\n"
     ]
    },
    {
     "name": "stderr",
     "output_type": "stream",
     "text": [
      " 80%|████████  | 80/100 [01:12<00:17,  1.11it/s]"
     ]
    },
    {
     "name": "stdout",
     "output_type": "stream",
     "text": [
      "Epoch [80/100], Train Loss: 0.0000, Validation Loss: 0.0000\n"
     ]
    },
    {
     "name": "stderr",
     "output_type": "stream",
     "text": [
      " 90%|█████████ | 90/100 [01:21<00:09,  1.10it/s]"
     ]
    },
    {
     "name": "stdout",
     "output_type": "stream",
     "text": [
      "Epoch [90/100], Train Loss: 0.0000, Validation Loss: 0.0000\n"
     ]
    },
    {
     "name": "stderr",
     "output_type": "stream",
     "text": [
      "100%|██████████| 100/100 [01:30<00:00,  1.11it/s]"
     ]
    },
    {
     "name": "stdout",
     "output_type": "stream",
     "text": [
      "Epoch [100/100], Train Loss: 0.0000, Validation Loss: 0.0000\n"
     ]
    },
    {
     "name": "stderr",
     "output_type": "stream",
     "text": [
      "\n"
     ]
    }
   ],
   "source": [
    "# Function to prepare data with sliding window\n",
    "def prepare_data(data, seq_length, output_size):\n",
    "    sequences = []\n",
    "    for i in range(len(data) - seq_length - output_size + 1):\n",
    "        sequence = data[i:i+seq_length]\n",
    "        target = data[i+seq_length:i+seq_length+output_size]\n",
    "        sequences.append((sequence, target))\n",
    "    return sequences\n",
    "\n",
    "# Generate some sample data (replace this with your DataFrame column)\n",
    "data_column = df['Amplitude'][300:1000].values  # Replace this with your actual data column\n",
    "\n",
    "# Hyperparameters\n",
    "input_size = 1\n",
    "hidden_size = 64\n",
    "output_size = 5\n",
    "num_layers = 2\n",
    "learning_rate = 0.001\n",
    "num_epochs = 100\n",
    "seq_length = 100\n",
    "\n",
    "# Prepare the data\n",
    "data = prepare_data(data_column, seq_length, output_size)\n",
    "\n",
    "# Split data into train, validation, and test sets\n",
    "train_size = int(0.7 * len(data))\n",
    "val_size = int(0.15 * len(data))\n",
    "test_size = len(data) - train_size - val_size\n",
    "train_data, val_data, test_data = data[:train_size], data[train_size:train_size+val_size], data[train_size+val_size:]\n",
    "\n",
    "# Function to create batches\n",
    "def create_batches(data, batch_size):\n",
    "    batches = []\n",
    "    for i in range(0, len(data), batch_size):\n",
    "        batch = data[i:i+batch_size]\n",
    "        sequences, targets = zip(*batch)\n",
    "        sequences = np.array(sequences)\n",
    "        sequences = torch.tensor(sequences, dtype=torch.float32).unsqueeze(-1)\n",
    "        targets = torch.tensor(targets, dtype=torch.float32)\n",
    "        batches.append((sequences, targets))\n",
    "    return batches\n",
    "\n",
    "# Initialize the model, loss function, and optimizer\n",
    "model = SimpleRNN(input_size, hidden_size, output_size, num_layers)\n",
    "criterion = nn.MSELoss()\n",
    "optimizer = torch.optim.Adam(model.parameters(), lr=learning_rate)\n",
    "\n",
    "# Training the model\n",
    "train_losses = []\n",
    "val_losses = []\n",
    "for epoch in tqdm(range(num_epochs)):\n",
    "    model.train()\n",
    "    train_batches = create_batches(train_data, batch_size=32)\n",
    "    avg_loss = []\n",
    "    for sequences, targets in train_batches:\n",
    "        optimizer.zero_grad()\n",
    "        outputs = model(sequences)\n",
    "        #outputs = outputs[:,0,:]\n",
    "        #print((outputs.size(), targets.size()))\n",
    "        loss = criterion(outputs, targets)\n",
    "        loss.backward()\n",
    "        optimizer.step()\n",
    "        \n",
    "        avg_loss.append(loss.item())\n",
    "    train_losses.append(np.mean(avg_loss))\n",
    "\n",
    "    # Validation loss\n",
    "    model.eval()\n",
    "    val_sequences, val_targets = zip(*val_data)\n",
    "    val_sequences = torch.tensor(val_sequences, dtype=torch.float32).unsqueeze(-1)\n",
    "    val_targets = torch.tensor(val_targets, dtype=torch.float32)\n",
    "    with torch.no_grad():\n",
    "        val_outputs = model(val_sequences)\n",
    "        #val_outputs = val_outputs[:,0,:]\n",
    "        val_loss = criterion(val_outputs, val_targets)\n",
    "        val_losses.append(val_loss.item())\n",
    "\n",
    "    if (epoch+1) % 10 == 0:\n",
    "        print(f'Epoch [{epoch+1}/{num_epochs}], Train Loss: {loss.item():.4f}, Validation Loss: {val_loss.item():.4f}')\n",
    "\n",
    "\n"
   ]
  },
  {
   "cell_type": "code",
   "execution_count": 22,
   "metadata": {},
   "outputs": [
    {
     "data": {
      "image/png": "[encoded data removed]",
      "text/plain": [
       "<Figure size 640x480 with 1 Axes>"
      ]
     },
     "metadata": {},
     "output_type": "display_data"
    }
   ],
   "source": [
    "# Plotting the training and validation losses\n",
    "plt.plot(train_losses, label='Training Loss', alpha = 0.3)\n",
    "plt.plot(val_losses, label='Validation Loss')\n",
    "plt.xlabel('Epochs')\n",
    "plt.ylabel('Loss')\n",
    "plt.title('Training and Validation Loss')\n",
    "plt.legend()\n",
    "plt.show()"
   ]
  },
  {
   "cell_type": "code",
   "execution_count": 23,
   "metadata": {},
   "outputs": [
    {
     "data": {
      "text/plain": [
       "(100, 100)"
      ]
     },
     "execution_count": 23,
     "metadata": {},
     "output_type": "execute_result"
    }
   ],
   "source": [
    "len(val_losses), len(train_losses)"
   ]
  }
 ],
 "metadata": {
  "kernelspec": {
   "display_name": "Python 3",
   "language": "python",
   "name": "python3"
  },
  "language_info": {
   "codemirror_mode": {
    "name": "ipython",
    "version": 3
   },
   "file_extension": ".py",
   "mimetype": "text/x-python",
   "name": "python",
   "nbconvert_exporter": "python",
   "pygments_lexer": "ipython3",
   "version": "3.10.8"
  }
 },
 "nbformat": 4,
 "nbformat_minor": 2
}
