{
 "cells": [
  {
   "cell_type": "code",
   "execution_count": 1,
   "metadata": {},
   "outputs": [
    {
     "name": "stderr",
     "output_type": "stream",
     "text": [
      "c:\\Users\\consu\\AppData\\Local\\Programs\\Python\\Python310\\lib\\site-packages\\scipy\\__init__.py:155: UserWarning: A NumPy version >=1.18.5 and <1.25.0 is required for this version of SciPy (detected version 1.26.3\n",
      "  warnings.warn(f\"A NumPy version >={np_minversion} and <{np_maxversion}\"\n"
     ]
    }
   ],
   "source": [
    "#files\n",
    "import sys\n",
    "#from os import listdir\n",
    "sys.path.append('../data')\n",
    "sys.path.append('../Librerias')\n",
    "#from os.path import isfile, join\n",
    "\n",
    "#own libs\n",
    "import utils\n",
    "import caract as dc\n",
    "import dataset as ds\n",
    "from earlystop import EarlyStopper\n",
    "from lstm_models import AirModel, StackLSTM\n",
    "\n",
    "\n",
    "#data and visualization\n",
    "import numpy as np\n",
    "import pandas as pd\n",
    "import seaborn as sns\n",
    "import plotly.express as px\n",
    "import matplotlib.pyplot as plt\n",
    "import plotly.graph_objects as go\n",
    "\n",
    "sns.set_style(\"darkgrid\")\n",
    "\n",
    "\n",
    "import numpy as np\n",
    "import random\n",
    "import os, errno\n",
    "from tqdm import tqdm\n",
    "\n",
    "import torch\n",
    "import torch.nn as nn\n",
    "from torch import optim\n",
    "import torch.nn.functional as F\n",
    "import torch.utils.data as data_utils"
   ]
  },
  {
   "cell_type": "code",
   "execution_count": 2,
   "metadata": {},
   "outputs": [
    {
     "data": {
      "text/html": [
       "<div>\n",
       "<style scoped>\n",
       "    .dataframe tbody tr th:only-of-type {\n",
       "        vertical-align: middle;\n",
       "    }\n",
       "\n",
       "    .dataframe tbody tr th {\n",
       "        vertical-align: top;\n",
       "    }\n",
       "\n",
       "    .dataframe thead th {\n",
       "        text-align: right;\n",
       "    }\n",
       "</style>\n",
       "<table border=\"1\" class=\"dataframe\">\n",
       "  <thead>\n",
       "    <tr style=\"text-align: right;\">\n",
       "      <th></th>\n",
       "      <th>Original Signal</th>\n",
       "      <th>Signal - Mean</th>\n",
       "      <th>Filtered Signal</th>\n",
       "      <th>Hilbert Transform</th>\n",
       "      <th>Amplitude</th>\n",
       "      <th>Instantaneous Phase</th>\n",
       "      <th>Gradient Phase</th>\n",
       "    </tr>\n",
       "  </thead>\n",
       "  <tbody>\n",
       "    <tr>\n",
       "      <th>0</th>\n",
       "      <td>0.134180</td>\n",
       "      <td>0.023473</td>\n",
       "      <td>0.002203</td>\n",
       "      <td>0.002203-0.001490j</td>\n",
       "      <td>0.002659</td>\n",
       "      <td>-0.594742</td>\n",
       "      <td>-0.051439</td>\n",
       "    </tr>\n",
       "    <tr>\n",
       "      <th>1</th>\n",
       "      <td>0.135824</td>\n",
       "      <td>0.025117</td>\n",
       "      <td>0.002051</td>\n",
       "      <td>0.002051+0.000170j</td>\n",
       "      <td>0.002058</td>\n",
       "      <td>0.082612</td>\n",
       "      <td>-0.020024</td>\n",
       "    </tr>\n",
       "    <tr>\n",
       "      <th>2</th>\n",
       "      <td>0.136482</td>\n",
       "      <td>0.025775</td>\n",
       "      <td>0.001900</td>\n",
       "      <td>0.001900+0.000303j</td>\n",
       "      <td>0.001924</td>\n",
       "      <td>0.158163</td>\n",
       "      <td>0.009547</td>\n",
       "    </tr>\n",
       "    <tr>\n",
       "      <th>3</th>\n",
       "      <td>0.137797</td>\n",
       "      <td>0.027090</td>\n",
       "      <td>0.001749</td>\n",
       "      <td>0.001749+0.000903j</td>\n",
       "      <td>0.001969</td>\n",
       "      <td>0.476669</td>\n",
       "      <td>0.035605</td>\n",
       "    </tr>\n",
       "    <tr>\n",
       "      <th>4</th>\n",
       "      <td>0.137797</td>\n",
       "      <td>0.027090</td>\n",
       "      <td>0.001599</td>\n",
       "      <td>0.001599+0.000993j</td>\n",
       "      <td>0.001882</td>\n",
       "      <td>0.555726</td>\n",
       "      <td>0.056848</td>\n",
       "    </tr>\n",
       "  </tbody>\n",
       "</table>\n",
       "</div>"
      ],
      "text/plain": [
       "   Original Signal  Signal - Mean  Filtered Signal   Hilbert Transform  \\\n",
       "0         0.134180       0.023473         0.002203  0.002203-0.001490j   \n",
       "1         0.135824       0.025117         0.002051  0.002051+0.000170j   \n",
       "2         0.136482       0.025775         0.001900  0.001900+0.000303j   \n",
       "3         0.137797       0.027090         0.001749  0.001749+0.000903j   \n",
       "4         0.137797       0.027090         0.001599  0.001599+0.000993j   \n",
       "\n",
       "   Amplitude  Instantaneous Phase  Gradient Phase  \n",
       "0   0.002659            -0.594742       -0.051439  \n",
       "1   0.002058             0.082612       -0.020024  \n",
       "2   0.001924             0.158163        0.009547  \n",
       "3   0.001969             0.476669        0.035605  \n",
       "4   0.001882             0.555726        0.056848  "
      ]
     },
     "execution_count": 2,
     "metadata": {},
     "output_type": "execute_result"
    }
   ],
   "source": [
    "fpath = \"/Users/consu/OneDrive/Documentos/GitHub/Tesis/data/low/\"\n",
    "#fpath = \"/Users/granosftp/Documents/GitHub/Tesis/data/low/\"\n",
    "fname = \"file7_080124.mat\"\n",
    "cutoff = [8/1000, 11/1000]\n",
    "\n",
    "mat = ds.MatFileToDataFrame(fpath, fname)\n",
    "\n",
    "df_ = mat.get_dataframe(cutoff)\n",
    "\n",
    "x = dc.CaractDefect(df_)\n",
    "taus = x.get_tau()[1]\n",
    "\n",
    "hilbert, _ = x.get_hilbert()\n",
    "\n",
    "df = pd.merge(df_, hilbert, on = 'Hilbert Transform', how = 'outer')\n",
    "\n",
    "df.head()"
   ]
  },
  {
   "cell_type": "markdown",
   "metadata": {},
   "source": [
    "### **data**"
   ]
  },
  {
   "cell_type": "code",
   "execution_count": 3,
   "metadata": {},
   "outputs": [
    {
     "name": "stdout",
     "output_type": "stream",
     "text": [
      "torch.Size([479900, 100, 1]) torch.Size([479900, 100, 1]) torch.Size([119900, 100, 1]) torch.Size([119900, 100, 1])\n"
     ]
    }
   ],
   "source": [
    "amplitudes = df['Amplitude'].values\n",
    "train, val = utils.split_data(amplitudes)\n",
    "x_train, y_train = utils.create_dataset(train, 100)\n",
    "x_val, y_val = utils.create_dataset(val, 100)\n",
    "train_loader = utils.create_loader(x_train, y_train, 32)\n",
    "val_loader = utils.create_loader(x_val, y_val, 32)\n",
    "\n",
    "print(x_train.shape, y_train.shape ,x_val.shape, y_val.shape)"
   ]
  },
  {
   "cell_type": "markdown",
   "metadata": {},
   "source": [
    "## **model**\n"
   ]
  },
  {
   "cell_type": "code",
   "execution_count": null,
   "metadata": {},
   "outputs": [],
   "source": [
    "model = AirModel()\n",
    "optimizer = optim.Adam(model.parameters(), lr=0.001)\n",
    "criterion = nn.MSELoss()\n",
    "n_epochs = 500\n",
    "ncheckpoint = 50\n",
    "\n",
    "m, av_train, av_val = utils.train_model(model, optimizer, criterion, train_loader, val_loader, n_epochs, ncheckpoint)"
   ]
  }
 ],
 "metadata": {
  "kernelspec": {
   "display_name": "Python 3",
   "language": "python",
   "name": "python3"
  },
  "language_info": {
   "codemirror_mode": {
    "name": "ipython",
    "version": 3
   },
   "file_extension": ".py",
   "mimetype": "text/x-python",
   "name": "python",
   "nbconvert_exporter": "python",
   "pygments_lexer": "ipython3",
   "version": "3.10.8"
  }
 },
 "nbformat": 4,
 "nbformat_minor": 2
}
