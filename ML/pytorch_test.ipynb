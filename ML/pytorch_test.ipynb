{
 "cells": [
  {
   "cell_type": "code",
   "execution_count": 1,
   "metadata": {},
   "outputs": [],
   "source": [
    "#files\n",
    "import sys\n",
    "from os import listdir\n",
    "sys.path.append('../data')\n",
    "sys.path.append('../Librerias')\n",
    "from os.path import isfile, join\n",
    "\n",
    "\n",
    "#own libs\n",
    "import utils\n",
    "import caract as dc\n",
    "import dataset as ds\n",
    "\n",
    "\n",
    "#data and visualization\n",
    "import copy\n",
    "import numpy as np\n",
    "import pandas as pd\n",
    "import seaborn as sns\n",
    "import plotly.express as px\n",
    "import matplotlib.pyplot as plt\n",
    "import plotly.graph_objects as go\n",
    "\n",
    "\n",
    "#torch\n",
    "import torch\n",
    "import torch.nn as nn\n",
    "import torch.optim as optim\n",
    "from torch.utils.data import Dataset, DataLoader, TensorDataset\n",
    "\n",
    "\n",
    "sns.set_style(\"darkgrid\")"
   ]
  },
  {
   "cell_type": "markdown",
   "metadata": {},
   "source": [
    "## **data**"
   ]
  },
  {
   "cell_type": "code",
   "execution_count": 2,
   "metadata": {},
   "outputs": [
    {
     "name": "stdout",
     "output_type": "stream",
     "text": [
      "high8_090124.mat\n",
      "high5_100124.mat\n",
      "high10_090124.mat\n",
      "high10_100124.mat\n",
      "high8_100124.mat\n",
      "high5_090124.mat\n",
      "high2_100124.mat\n",
      "high7_100124.mat\n",
      "high12_090124.mat\n",
      "high7_090124.mat\n",
      "high9_090124.mat\n",
      "high9_100124.mat\n",
      "high4_090124.mat\n",
      "high1_090124.mat\n",
      "high1_100124.mat\n",
      "high6_100124.mat\n",
      "high3_090124.mat\n",
      "high3_100124.mat\n"
     ]
    }
   ],
   "source": [
    "fpath = \"/Users/granosftp/Documents/GitHub/Tesis/data/high/\"\n",
    "#fpath =  \"/Users/consu/OneDrive/Documentos/GitHub/Tesis/data/low/\"\n",
    "onlyfiles = [f for f in listdir(fpath) if isfile(join(fpath, f))]\n",
    "\n",
    "cutoff = [8/1000, 11/1000]\n",
    "\n",
    "#load data\n",
    "frames = []\n",
    "for fname in onlyfiles:\n",
    "    if fname.endswith(\".mat\"):\n",
    "        set =  ds.MatFileToDataFrame(fpath, fname)\n",
    "        df = set.get_dataframe(cutoff)\n",
    "        frames.append(df)\n",
    "        print(fname)\n",
    "\n",
    "frames = frames[:2]"
   ]
  },
  {
   "cell_type": "code",
   "execution_count": 3,
   "metadata": {},
   "outputs": [
    {
     "name": "stdout",
     "output_type": "stream",
     "text": [
      "1\r"
     ]
    }
   ],
   "source": [
    "defectos_frames = []\n",
    "taus = []\n",
    "for i, df in enumerate(frames):\n",
    "    aux = dc.CaractDefect(df)\n",
    "    defectos_frames.append(aux)\n",
    "    taus.append(aux.get_tau()[1])\n",
    "    sys.stdout.write(str(i) + '\\r')"
   ]
  },
  {
   "cell_type": "code",
   "execution_count": 4,
   "metadata": {},
   "outputs": [
    {
     "name": "stdout",
     "output_type": "stream",
     "text": [
      "1\r"
     ]
    }
   ],
   "source": [
    "hilbert_frames = []\n",
    "for i, df in enumerate(defectos_frames):\n",
    "    aux, _ = df.get_hilbert()\n",
    "    hilbert_frames.append(aux)\n",
    "    sys.stdout.write(str(i) + '\\r')"
   ]
  },
  {
   "cell_type": "code",
   "execution_count": 5,
   "metadata": {},
   "outputs": [
    {
     "data": {
      "text/html": [
       "<div>\n",
       "<style scoped>\n",
       "    .dataframe tbody tr th:only-of-type {\n",
       "        vertical-align: middle;\n",
       "    }\n",
       "\n",
       "    .dataframe tbody tr th {\n",
       "        vertical-align: top;\n",
       "    }\n",
       "\n",
       "    .dataframe thead th {\n",
       "        text-align: right;\n",
       "    }\n",
       "</style>\n",
       "<table border=\"1\" class=\"dataframe\">\n",
       "  <thead>\n",
       "    <tr style=\"text-align: right;\">\n",
       "      <th></th>\n",
       "      <th>Original Signal</th>\n",
       "      <th>Signal - Mean</th>\n",
       "      <th>Filtered Signal</th>\n",
       "      <th>Hilbert Transform</th>\n",
       "      <th>Amplitude</th>\n",
       "      <th>Instantaneous Phase</th>\n",
       "      <th>Gradient Phase</th>\n",
       "    </tr>\n",
       "  </thead>\n",
       "  <tbody>\n",
       "    <tr>\n",
       "      <th>0</th>\n",
       "      <td>0.892414</td>\n",
       "      <td>0.286351</td>\n",
       "      <td>0.035339</td>\n",
       "      <td>0.035339-0.029502j</td>\n",
       "      <td>0.046035</td>\n",
       "      <td>-0.695619</td>\n",
       "      <td>-0.031476</td>\n",
       "    </tr>\n",
       "    <tr>\n",
       "      <th>1</th>\n",
       "      <td>0.905895</td>\n",
       "      <td>0.299832</td>\n",
       "      <td>0.033637</td>\n",
       "      <td>0.033637-0.002503j</td>\n",
       "      <td>0.033730</td>\n",
       "      <td>-0.074284</td>\n",
       "      <td>-0.002016</td>\n",
       "    </tr>\n",
       "    <tr>\n",
       "      <th>2</th>\n",
       "      <td>0.917075</td>\n",
       "      <td>0.311011</td>\n",
       "      <td>0.031906</td>\n",
       "      <td>0.031906-0.000839j</td>\n",
       "      <td>0.031917</td>\n",
       "      <td>-0.026296</td>\n",
       "      <td>0.025766</td>\n",
       "    </tr>\n",
       "    <tr>\n",
       "      <th>3</th>\n",
       "      <td>0.930556</td>\n",
       "      <td>0.324492</td>\n",
       "      <td>0.030149</td>\n",
       "      <td>0.030149+0.008867j</td>\n",
       "      <td>0.031426</td>\n",
       "      <td>0.286053</td>\n",
       "      <td>0.050336</td>\n",
       "    </tr>\n",
       "    <tr>\n",
       "      <th>4</th>\n",
       "      <td>0.939105</td>\n",
       "      <td>0.333041</td>\n",
       "      <td>0.028367</td>\n",
       "      <td>0.028367+0.010115j</td>\n",
       "      <td>0.030117</td>\n",
       "      <td>0.342504</td>\n",
       "      <td>0.070494</td>\n",
       "    </tr>\n",
       "    <tr>\n",
       "      <th>...</th>\n",
       "      <td>...</td>\n",
       "      <td>...</td>\n",
       "      <td>...</td>\n",
       "      <td>...</td>\n",
       "      <td>...</td>\n",
       "      <td>...</td>\n",
       "      <td>...</td>\n",
       "    </tr>\n",
       "    <tr>\n",
       "      <th>599995</th>\n",
       "      <td>0.371251</td>\n",
       "      <td>-0.234812</td>\n",
       "      <td>-0.003465</td>\n",
       "      <td>-0.003465-0.005847j</td>\n",
       "      <td>0.006797</td>\n",
       "      <td>18853.733329</td>\n",
       "      <td>0.147866</td>\n",
       "    </tr>\n",
       "    <tr>\n",
       "      <th>599996</th>\n",
       "      <td>0.348564</td>\n",
       "      <td>-0.257500</td>\n",
       "      <td>-0.003298</td>\n",
       "      <td>-0.003298-0.004618j</td>\n",
       "      <td>0.005674</td>\n",
       "      <td>18853.648171</td>\n",
       "      <td>0.158010</td>\n",
       "    </tr>\n",
       "    <tr>\n",
       "      <th>599997</th>\n",
       "      <td>0.344618</td>\n",
       "      <td>-0.261446</td>\n",
       "      <td>-0.003127</td>\n",
       "      <td>-0.003127-0.011439j</td>\n",
       "      <td>0.011859</td>\n",
       "      <td>18854.001503</td>\n",
       "      <td>0.167368</td>\n",
       "    </tr>\n",
       "    <tr>\n",
       "      <th>599998</th>\n",
       "      <td>0.325218</td>\n",
       "      <td>-0.280845</td>\n",
       "      <td>-0.002952</td>\n",
       "      <td>-0.002952-0.009812j</td>\n",
       "      <td>0.010247</td>\n",
       "      <td>18853.976039</td>\n",
       "      <td>0.175975</td>\n",
       "    </tr>\n",
       "    <tr>\n",
       "      <th>599999</th>\n",
       "      <td>0.322588</td>\n",
       "      <td>-0.283476</td>\n",
       "      <td>-0.002775</td>\n",
       "      <td>-0.002775-0.032333j</td>\n",
       "      <td>0.032451</td>\n",
       "      <td>18854.182680</td>\n",
       "      <td>0.183869</td>\n",
       "    </tr>\n",
       "  </tbody>\n",
       "</table>\n",
       "<p>600000 rows × 7 columns</p>\n",
       "</div>"
      ],
      "text/plain": [
       "        Original Signal  Signal - Mean  Filtered Signal   Hilbert Transform  \\\n",
       "0              0.892414       0.286351         0.035339  0.035339-0.029502j   \n",
       "1              0.905895       0.299832         0.033637  0.033637-0.002503j   \n",
       "2              0.917075       0.311011         0.031906  0.031906-0.000839j   \n",
       "3              0.930556       0.324492         0.030149  0.030149+0.008867j   \n",
       "4              0.939105       0.333041         0.028367  0.028367+0.010115j   \n",
       "...                 ...            ...              ...                 ...   \n",
       "599995         0.371251      -0.234812        -0.003465 -0.003465-0.005847j   \n",
       "599996         0.348564      -0.257500        -0.003298 -0.003298-0.004618j   \n",
       "599997         0.344618      -0.261446        -0.003127 -0.003127-0.011439j   \n",
       "599998         0.325218      -0.280845        -0.002952 -0.002952-0.009812j   \n",
       "599999         0.322588      -0.283476        -0.002775 -0.002775-0.032333j   \n",
       "\n",
       "        Amplitude  Instantaneous Phase  Gradient Phase  \n",
       "0        0.046035            -0.695619       -0.031476  \n",
       "1        0.033730            -0.074284       -0.002016  \n",
       "2        0.031917            -0.026296        0.025766  \n",
       "3        0.031426             0.286053        0.050336  \n",
       "4        0.030117             0.342504        0.070494  \n",
       "...           ...                  ...             ...  \n",
       "599995   0.006797         18853.733329        0.147866  \n",
       "599996   0.005674         18853.648171        0.158010  \n",
       "599997   0.011859         18854.001503        0.167368  \n",
       "599998   0.010247         18853.976039        0.175975  \n",
       "599999   0.032451         18854.182680        0.183869  \n",
       "\n",
       "[600000 rows x 7 columns]"
      ]
     },
     "execution_count": 5,
     "metadata": {},
     "output_type": "execute_result"
    }
   ],
   "source": [
    "# all frames\n",
    "frames_all = []\n",
    "\n",
    "for i in range(len(frames)):\n",
    "    frames_all.append(pd.merge(frames[i], hilbert_frames[i], on='Hilbert Transform', how='outer'))\n",
    "\n",
    "frames_all[0]"
   ]
  },
  {
   "cell_type": "markdown",
   "metadata": {},
   "source": [
    "### **series for training**"
   ]
  },
  {
   "cell_type": "code",
   "execution_count": 6,
   "metadata": {},
   "outputs": [],
   "source": [
    "frames_all[0].to_csv('frame0.csv', index=False)"
   ]
  },
  {
   "cell_type": "code",
   "execution_count": 7,
   "metadata": {},
   "outputs": [
    {
     "data": {
      "text/plain": [
       "array([[ 0.0353394 ,  0.04603539, -0.03147597],\n",
       "       [ 0.03363706,  0.03373008, -0.00201604],\n",
       "       [ 0.03190641,  0.03191744,  0.02576591],\n",
       "       ...,\n",
       "       [-0.00312655,  0.01185856,  0.16736794],\n",
       "       [-0.00295232,  0.01024654,  0.17597486],\n",
       "       [-0.00277543,  0.0324514 ,  0.18386933]])"
      ]
     },
     "execution_count": 7,
     "metadata": {},
     "output_type": "execute_result"
    }
   ],
   "source": [
    "serie = frames_all[0][['Filtered Signal','Amplitude', 'Gradient Phase']].values\n",
    "serie"
   ]
  },
  {
   "cell_type": "code",
   "execution_count": 8,
   "metadata": {},
   "outputs": [],
   "source": [
    "def load_data(Serie,size_train = 0.8, size_val = 0.3, batch_size=32):\n",
    "    trainval_size = int(size_train*len(serie))\n",
    "    val_size =  int(size_val*trainval_size)\n",
    "    train_size = trainval_size - val_size\n",
    "\n",
    "    X, y = utils.create_sequences(serie, 1000, 100, 0)\n",
    "    \n",
    "    #split de data\n",
    "    X_train, y_train = X[:train_size], y[:train_size]\n",
    "    X_val, y_val = X[train_size:trainval_size], y[train_size:trainval_size]\n",
    "    X_test, y_test = X[trainval_size:], y[trainval_size:]\n",
    "\n",
    "    x_train = torch.from_numpy(X_train).float()\n",
    "    x_val = torch.from_numpy(X_val).float()\n",
    "    x_test = torch.from_numpy(X_test).float()\n",
    "\n",
    "    y_train = torch.from_numpy(y_train).float()\n",
    "    y_val = torch.from_numpy(y_val).float()\n",
    "    y_test = torch.from_numpy(y_test).float()\n",
    "    \n",
    "    #create dataset tensor\n",
    "    train_dataset = TensorDataset(x_train, y_train)\n",
    "    val_dataset = TensorDataset(x_val, y_val)\n",
    "    test_dataset = TensorDataset(x_test, y_test)\n",
    "\n",
    "    #create dataloader\n",
    "    train_dataloader = DataLoader(train_dataset, batch_size=batch_size)\n",
    "    val_dataloader = DataLoader(val_dataset, batch_size=batch_size)\n",
    "    test_dataloader = DataLoader(test_dataset, batch_size=batch_size)\n",
    "\n",
    "    return train_dataloader, val_dataloader, test_dataloader"
   ]
  },
  {
   "cell_type": "code",
   "execution_count": 9,
   "metadata": {},
   "outputs": [],
   "source": [
    "# train_dataloader, val_dataloader, test_dataloader = load_data(serie)"
   ]
  },
  {
   "cell_type": "code",
   "execution_count": 10,
   "metadata": {},
   "outputs": [],
   "source": [
    "# Preprocess the historical data\n",
    "seq_length = 1000\n",
    "X, y = utils.create_sequences(serie, seq_length, 100, 0)\n",
    "\n",
    "# Split the data into training and testing sets\n",
    "train_size = int(len(y) * 0.8)\n",
    "X_train, X_test = X[:train_size], X[train_size:]\n",
    "y_train, y_test = y[:train_size], y[train_size:]\n",
    "\n",
    "# Convert to PyTorch tensors\n",
    "X_train = torch.from_numpy(X_train).float()\n",
    "y_train = torch.from_numpy(y_train).float()\n",
    "X_test = torch.from_numpy(X_test).float()\n",
    "y_test = torch.from_numpy(y_test).float()"
   ]
  },
  {
   "cell_type": "markdown",
   "metadata": {},
   "source": [
    "## **modelo 1**"
   ]
  },
  {
   "cell_type": "code",
   "execution_count": 11,
   "metadata": {},
   "outputs": [],
   "source": [
    "class LSTMModel(nn.Module):\n",
    "\n",
    "    def __init__(self, input_size, hidden_size, output_size, num_layers = 1):\n",
    "        super(LSTMModel, self).__init__()\n",
    "        self.hidden_size = hidden_size\n",
    "        self.num_layers = num_layers\n",
    "        self.lstm = nn.LSTM(input_size, hidden_size, num_layers, batch_first=True)\n",
    "        self.fc = nn.Linear(hidden_size, output_size)\n",
    "        #self.sigmoid = nn.Sigmoid(hidden_size)\n",
    "\n",
    "\n",
    "\n",
    "    def forward(self, x):\n",
    "        \n",
    "        h0 =  torch.zeros(self.num_layers, x.size(0), self.hidden_size)\n",
    "        c0 =  torch.zeros(self.num_layers, x.size(0), self.hidden_size)\n",
    "\n",
    "        out, _ = self.lstm(x, (h0, c0))\n",
    "        out = self.fc(out[:, -1, :])\n",
    "\n",
    "        return out"
   ]
  },
  {
   "cell_type": "code",
   "execution_count": 12,
   "metadata": {},
   "outputs": [],
   "source": [
    "input_size = 3\n",
    "hidden_size = 50\n",
    "num_layers = 1\n",
    "output_size = 2\n",
    "\n",
    "model = LSTMModel(input_size, hidden_size, output_size, num_layers)"
   ]
  },
  {
   "cell_type": "code",
   "execution_count": 13,
   "metadata": {},
   "outputs": [
    {
     "data": {
      "text/plain": [
       "torch.Size([479120, 1000, 3])"
      ]
     },
     "execution_count": 13,
     "metadata": {},
     "output_type": "execute_result"
    }
   ],
   "source": [
    "X_train.shape"
   ]
  },
  {
   "cell_type": "code",
   "execution_count": 14,
   "metadata": {},
   "outputs": [
    {
     "ename": "",
     "evalue": "",
     "output_type": "error",
     "traceback": [
      "\u001b[1;31mThe Kernel crashed while executing code in the the current cell or a previous cell. Please review the code in the cell(s) to identify a possible cause of the failure. Click <a href='https://aka.ms/vscodeJupyterKernelCrash'>here</a> for more info. View Jupyter <a href='command:jupyter.viewOutput'>log</a> for further details."
     ]
    }
   ],
   "source": [
    "# Set training parameters\n",
    "learning_rate = 0.01\n",
    "num_epochs = 100\n",
    "\n",
    "# Define loss function and optimizer\n",
    "criterion = nn.MSELoss()\n",
    "optimizer = torch.optim.Adam(model.parameters(), lr=learning_rate)\n",
    "\n",
    "# Train the model\n",
    "for epoch in range(num_epochs):\n",
    "    outputs = model(X_train)#.unsqueeze(-1)).squeeze()  # Add .squeeze() here\n",
    "    optimizer.zero_grad()\n",
    "    loss = criterion(outputs, y_train)\n",
    "    loss.backward()\n",
    "    optimizer.step()\n",
    "    print(\"Epoch: %d, loss: %1.5f\" % (epoch, loss.item()))\n",
    "\n",
    "    #if (epoch + 1) % 10 == 0:\n",
    "        "
   ]
  },
  {
   "cell_type": "code",
   "execution_count": null,
   "metadata": {},
   "outputs": [
    {
     "name": "stderr",
     "output_type": "stream",
     "text": [
      "/opt/anaconda3/lib/python3.9/site-packages/torch/nn/modules/loss.py:535: UserWarning: Using a target size (torch.Size([32, 100, 2])) that is different to the input size (torch.Size([32, 2])). This will likely lead to incorrect results due to broadcasting. Please ensure they have the same size.\n",
      "  return F.mse_loss(input, target, reduction=self.reduction)\n"
     ]
    },
    {
     "ename": "RuntimeError",
     "evalue": "The size of tensor a (32) must match the size of tensor b (100) at non-singleton dimension 1",
     "output_type": "error",
     "traceback": [
      "\u001b[0;31m---------------------------------------------------------------------------\u001b[0m",
      "\u001b[0;31mRuntimeError\u001b[0m                              Traceback (most recent call last)",
      "Input \u001b[0;32mIn [12]\u001b[0m, in \u001b[0;36m<cell line: 9>\u001b[0;34m()\u001b[0m\n\u001b[1;32m     13\u001b[0m \u001b[38;5;28;01mfor\u001b[39;00m X_batch, y_batch \u001b[38;5;129;01min\u001b[39;00m train_dataloader:\n\u001b[1;32m     14\u001b[0m     y_pred \u001b[38;5;241m=\u001b[39m model(X_batch)\n\u001b[0;32m---> 15\u001b[0m     loss \u001b[38;5;241m=\u001b[39m \u001b[43mcriterion\u001b[49m\u001b[43m(\u001b[49m\u001b[43my_pred\u001b[49m\u001b[43m,\u001b[49m\u001b[43m \u001b[49m\u001b[43my_batch\u001b[49m\u001b[43m)\u001b[49m\n\u001b[1;32m     16\u001b[0m     loss\u001b[38;5;241m.\u001b[39mbackward()\n\u001b[1;32m     17\u001b[0m     optimizer\u001b[38;5;241m.\u001b[39mstep()\n",
      "File \u001b[0;32m/opt/anaconda3/lib/python3.9/site-packages/torch/nn/modules/module.py:1518\u001b[0m, in \u001b[0;36mModule._wrapped_call_impl\u001b[0;34m(self, *args, **kwargs)\u001b[0m\n\u001b[1;32m   1516\u001b[0m     \u001b[38;5;28;01mreturn\u001b[39;00m \u001b[38;5;28mself\u001b[39m\u001b[38;5;241m.\u001b[39m_compiled_call_impl(\u001b[38;5;241m*\u001b[39margs, \u001b[38;5;241m*\u001b[39m\u001b[38;5;241m*\u001b[39mkwargs)  \u001b[38;5;66;03m# type: ignore[misc]\u001b[39;00m\n\u001b[1;32m   1517\u001b[0m \u001b[38;5;28;01melse\u001b[39;00m:\n\u001b[0;32m-> 1518\u001b[0m     \u001b[38;5;28;01mreturn\u001b[39;00m \u001b[38;5;28;43mself\u001b[39;49m\u001b[38;5;241;43m.\u001b[39;49m\u001b[43m_call_impl\u001b[49m\u001b[43m(\u001b[49m\u001b[38;5;241;43m*\u001b[39;49m\u001b[43margs\u001b[49m\u001b[43m,\u001b[49m\u001b[43m \u001b[49m\u001b[38;5;241;43m*\u001b[39;49m\u001b[38;5;241;43m*\u001b[39;49m\u001b[43mkwargs\u001b[49m\u001b[43m)\u001b[49m\n",
      "File \u001b[0;32m/opt/anaconda3/lib/python3.9/site-packages/torch/nn/modules/module.py:1527\u001b[0m, in \u001b[0;36mModule._call_impl\u001b[0;34m(self, *args, **kwargs)\u001b[0m\n\u001b[1;32m   1522\u001b[0m \u001b[38;5;66;03m# If we don't have any hooks, we want to skip the rest of the logic in\u001b[39;00m\n\u001b[1;32m   1523\u001b[0m \u001b[38;5;66;03m# this function, and just call forward.\u001b[39;00m\n\u001b[1;32m   1524\u001b[0m \u001b[38;5;28;01mif\u001b[39;00m \u001b[38;5;129;01mnot\u001b[39;00m (\u001b[38;5;28mself\u001b[39m\u001b[38;5;241m.\u001b[39m_backward_hooks \u001b[38;5;129;01mor\u001b[39;00m \u001b[38;5;28mself\u001b[39m\u001b[38;5;241m.\u001b[39m_backward_pre_hooks \u001b[38;5;129;01mor\u001b[39;00m \u001b[38;5;28mself\u001b[39m\u001b[38;5;241m.\u001b[39m_forward_hooks \u001b[38;5;129;01mor\u001b[39;00m \u001b[38;5;28mself\u001b[39m\u001b[38;5;241m.\u001b[39m_forward_pre_hooks\n\u001b[1;32m   1525\u001b[0m         \u001b[38;5;129;01mor\u001b[39;00m _global_backward_pre_hooks \u001b[38;5;129;01mor\u001b[39;00m _global_backward_hooks\n\u001b[1;32m   1526\u001b[0m         \u001b[38;5;129;01mor\u001b[39;00m _global_forward_hooks \u001b[38;5;129;01mor\u001b[39;00m _global_forward_pre_hooks):\n\u001b[0;32m-> 1527\u001b[0m     \u001b[38;5;28;01mreturn\u001b[39;00m \u001b[43mforward_call\u001b[49m\u001b[43m(\u001b[49m\u001b[38;5;241;43m*\u001b[39;49m\u001b[43margs\u001b[49m\u001b[43m,\u001b[49m\u001b[43m \u001b[49m\u001b[38;5;241;43m*\u001b[39;49m\u001b[38;5;241;43m*\u001b[39;49m\u001b[43mkwargs\u001b[49m\u001b[43m)\u001b[49m\n\u001b[1;32m   1529\u001b[0m \u001b[38;5;28;01mtry\u001b[39;00m:\n\u001b[1;32m   1530\u001b[0m     result \u001b[38;5;241m=\u001b[39m \u001b[38;5;28;01mNone\u001b[39;00m\n",
      "File \u001b[0;32m/opt/anaconda3/lib/python3.9/site-packages/torch/nn/modules/loss.py:535\u001b[0m, in \u001b[0;36mMSELoss.forward\u001b[0;34m(self, input, target)\u001b[0m\n\u001b[1;32m    534\u001b[0m \u001b[38;5;28;01mdef\u001b[39;00m \u001b[38;5;21mforward\u001b[39m(\u001b[38;5;28mself\u001b[39m, \u001b[38;5;28minput\u001b[39m: Tensor, target: Tensor) \u001b[38;5;241m-\u001b[39m\u001b[38;5;241m>\u001b[39m Tensor:\n\u001b[0;32m--> 535\u001b[0m     \u001b[38;5;28;01mreturn\u001b[39;00m \u001b[43mF\u001b[49m\u001b[38;5;241;43m.\u001b[39;49m\u001b[43mmse_loss\u001b[49m\u001b[43m(\u001b[49m\u001b[38;5;28;43minput\u001b[39;49m\u001b[43m,\u001b[49m\u001b[43m \u001b[49m\u001b[43mtarget\u001b[49m\u001b[43m,\u001b[49m\u001b[43m \u001b[49m\u001b[43mreduction\u001b[49m\u001b[38;5;241;43m=\u001b[39;49m\u001b[38;5;28;43mself\u001b[39;49m\u001b[38;5;241;43m.\u001b[39;49m\u001b[43mreduction\u001b[49m\u001b[43m)\u001b[49m\n",
      "File \u001b[0;32m/opt/anaconda3/lib/python3.9/site-packages/torch/nn/functional.py:3328\u001b[0m, in \u001b[0;36mmse_loss\u001b[0;34m(input, target, size_average, reduce, reduction)\u001b[0m\n\u001b[1;32m   3325\u001b[0m \u001b[38;5;28;01mif\u001b[39;00m size_average \u001b[38;5;129;01mis\u001b[39;00m \u001b[38;5;129;01mnot\u001b[39;00m \u001b[38;5;28;01mNone\u001b[39;00m \u001b[38;5;129;01mor\u001b[39;00m reduce \u001b[38;5;129;01mis\u001b[39;00m \u001b[38;5;129;01mnot\u001b[39;00m \u001b[38;5;28;01mNone\u001b[39;00m:\n\u001b[1;32m   3326\u001b[0m     reduction \u001b[38;5;241m=\u001b[39m _Reduction\u001b[38;5;241m.\u001b[39mlegacy_get_string(size_average, reduce)\n\u001b[0;32m-> 3328\u001b[0m expanded_input, expanded_target \u001b[38;5;241m=\u001b[39m \u001b[43mtorch\u001b[49m\u001b[38;5;241;43m.\u001b[39;49m\u001b[43mbroadcast_tensors\u001b[49m\u001b[43m(\u001b[49m\u001b[38;5;28;43minput\u001b[39;49m\u001b[43m,\u001b[49m\u001b[43m \u001b[49m\u001b[43mtarget\u001b[49m\u001b[43m)\u001b[49m\n\u001b[1;32m   3329\u001b[0m \u001b[38;5;28;01mreturn\u001b[39;00m torch\u001b[38;5;241m.\u001b[39m_C\u001b[38;5;241m.\u001b[39m_nn\u001b[38;5;241m.\u001b[39mmse_loss(expanded_input, expanded_target, _Reduction\u001b[38;5;241m.\u001b[39mget_enum(reduction))\n",
      "File \u001b[0;32m/opt/anaconda3/lib/python3.9/site-packages/torch/functional.py:73\u001b[0m, in \u001b[0;36mbroadcast_tensors\u001b[0;34m(*tensors)\u001b[0m\n\u001b[1;32m     71\u001b[0m \u001b[38;5;28;01mif\u001b[39;00m has_torch_function(tensors):\n\u001b[1;32m     72\u001b[0m     \u001b[38;5;28;01mreturn\u001b[39;00m handle_torch_function(broadcast_tensors, tensors, \u001b[38;5;241m*\u001b[39mtensors)\n\u001b[0;32m---> 73\u001b[0m \u001b[38;5;28;01mreturn\u001b[39;00m \u001b[43m_VF\u001b[49m\u001b[38;5;241;43m.\u001b[39;49m\u001b[43mbroadcast_tensors\u001b[49m\u001b[43m(\u001b[49m\u001b[43mtensors\u001b[49m\u001b[43m)\u001b[49m\n",
      "\u001b[0;31mRuntimeError\u001b[0m: The size of tensor a (32) must match the size of tensor b (100) at non-singleton dimension 1"
     ]
    }
   ],
   "source": [
    "'''# entrenamiento\n",
    "lr = 0.01\n",
    "epochs = 100\n",
    "\n",
    "# loss and optimizer\n",
    "criterion = nn.MSELoss()\n",
    "optimizer = optim.Adam(model.parameters(), lr=lr)\n",
    "\n",
    "for epoch in range(epochs):\n",
    "    \n",
    "    optimizer.zero_grad()\n",
    "    \n",
    "    for X_batch, y_batch in train_dataloader:\n",
    "        y_pred = model(X_batch)\n",
    "        loss = criterion(y_pred, y_batch)\n",
    "        loss.backward()\n",
    "        optimizer.step()\n",
    "    \n",
    "    # validation step\n",
    "    model.eval()\n",
    "    with torch.no_grad():\n",
    "        for X_val_batch, y_val_batch in val_dataloader:\n",
    "            val_pred = model(X_val_batch)\n",
    "            val_loss = criterion(val_pred, y_val_batch)\n",
    "            print(f'Epoch {epoch+1}, Loss: {loss.item():.4f}, Val Loss: {val_loss.item():.4f}') \n",
    "\n",
    "    model.train()\n",
    "    '''"
   ]
  }
 ],
 "metadata": {
  "kernelspec": {
   "display_name": "Python 3",
   "language": "python",
   "name": "python3"
  },
  "language_info": {
   "codemirror_mode": {
    "name": "ipython",
    "version": 3
   },
   "file_extension": ".py",
   "mimetype": "text/x-python",
   "name": "python",
   "nbconvert_exporter": "python",
   "pygments_lexer": "ipython3",
   "version": "3.9.12"
  }
 },
 "nbformat": 4,
 "nbformat_minor": 2
}
