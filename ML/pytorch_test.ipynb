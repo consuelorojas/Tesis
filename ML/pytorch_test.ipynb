{
 "cells": [
  {
   "cell_type": "code",
   "execution_count": 7,
   "metadata": {},
   "outputs": [],
   "source": [
    "#files\n",
    "import sys\n",
    "from os import listdir\n",
    "sys.path.append('../data')\n",
    "sys.path.append('../Librerias')\n",
    "from os.path import isfile, join\n",
    "\n",
    "\n",
    "#own libs\n",
    "import utils\n",
    "import caract as dc\n",
    "import dataset as ds\n",
    "\n",
    "\n",
    "#data and visualization\n",
    "import copy\n",
    "import numpy as np\n",
    "import pandas as pd\n",
    "import seaborn as sns\n",
    "import plotly.express as px\n",
    "import matplotlib.pyplot as plt\n",
    "import plotly.graph_objects as go\n",
    "\n",
    "\n",
    "#torch\n",
    "import torch\n",
    "import torch.nn as nn\n",
    "import torch.optim as optim\n",
    "from torch.utils.data import Dataset, DataLoader, TensorDataset\n",
    "\n",
    "\n",
    "sns.set_style(\"darkgrid\")"
   ]
  },
  {
   "cell_type": "markdown",
   "metadata": {},
   "source": [
    "## **data**"
   ]
  },
  {
   "cell_type": "code",
   "execution_count": 8,
   "metadata": {},
   "outputs": [
    {
     "name": "stdout",
     "output_type": "stream",
     "text": [
      "file10_080124.mat\n",
      "file11_080124.mat\n",
      "file12_080124.mat\n",
      "file13_080124.mat\n",
      "file15_080124.mat\n",
      "file16_080124.mat\n",
      "file17_080124.mat\n",
      "file18_080124.mat\n",
      "file1_050124.mat\n",
      "file1_080124.mat\n",
      "file2_050124.mat\n",
      "file3_080124.mat\n",
      "file7_080124.mat\n",
      "file8_080124.mat\n",
      "file9_080124.mat\n",
      "low1_100124.mat\n",
      "low2_100124.mat\n",
      "low3_100124.mat\n",
      "low5_100124.mat\n"
     ]
    }
   ],
   "source": [
    "#fpath = \"/Users/granosftp/Documents/GitHub/Tesis/data/high/\"\n",
    "fpath =  \"/Users/consu/OneDrive/Documentos/GitHub/Tesis/data/low/\"\n",
    "onlyfiles = [f for f in listdir(fpath) if isfile(join(fpath, f))]\n",
    "\n",
    "cutoff = [8/1000, 11/1000]\n",
    "\n",
    "#load data\n",
    "frames = []\n",
    "for fname in onlyfiles:\n",
    "    if fname.endswith(\".mat\"):\n",
    "        set =  ds.MatFileToDataFrame(fpath, fname)\n",
    "        df = set.get_dataframe(cutoff)\n",
    "        frames.append(df)\n",
    "        print(fname)\n",
    "\n",
    "frames = frames[:2]"
   ]
  },
  {
   "cell_type": "code",
   "execution_count": 9,
   "metadata": {},
   "outputs": [
    {
     "name": "stdout",
     "output_type": "stream",
     "text": [
      "1\r"
     ]
    }
   ],
   "source": [
    "defectos_frames = []\n",
    "taus = []\n",
    "for i, df in enumerate(frames):\n",
    "    aux = dc.CaractDefect(df)\n",
    "    defectos_frames.append(aux)\n",
    "    taus.append(aux.get_tau()[1])\n",
    "    sys.stdout.write(str(i) + '\\r')"
   ]
  },
  {
   "cell_type": "code",
   "execution_count": 10,
   "metadata": {},
   "outputs": [
    {
     "name": "stdout",
     "output_type": "stream",
     "text": [
      "1\r"
     ]
    }
   ],
   "source": [
    "hilbert_frames = []\n",
    "for i, df in enumerate(defectos_frames):\n",
    "    aux, _ = df.get_hilbert()\n",
    "    hilbert_frames.append(aux)\n",
    "    sys.stdout.write(str(i) + '\\r')"
   ]
  },
  {
   "cell_type": "code",
   "execution_count": 11,
   "metadata": {},
   "outputs": [
    {
     "data": {
      "text/html": [
       "<div>\n",
       "<style scoped>\n",
       "    .dataframe tbody tr th:only-of-type {\n",
       "        vertical-align: middle;\n",
       "    }\n",
       "\n",
       "    .dataframe tbody tr th {\n",
       "        vertical-align: top;\n",
       "    }\n",
       "\n",
       "    .dataframe thead th {\n",
       "        text-align: right;\n",
       "    }\n",
       "</style>\n",
       "<table border=\"1\" class=\"dataframe\">\n",
       "  <thead>\n",
       "    <tr style=\"text-align: right;\">\n",
       "      <th></th>\n",
       "      <th>Original Signal</th>\n",
       "      <th>Signal - Mean</th>\n",
       "      <th>Filtered Signal</th>\n",
       "      <th>Hilbert Transform</th>\n",
       "      <th>Amplitude</th>\n",
       "      <th>Instantaneous Phase</th>\n",
       "      <th>Gradient Phase</th>\n",
       "    </tr>\n",
       "  </thead>\n",
       "  <tbody>\n",
       "    <tr>\n",
       "      <th>0</th>\n",
       "      <td>0.076967</td>\n",
       "      <td>-0.041045</td>\n",
       "      <td>-0.005045</td>\n",
       "      <td>-0.005045+0.003866j</td>\n",
       "      <td>0.006356</td>\n",
       "      <td>2.487745</td>\n",
       "      <td>-0.050221</td>\n",
       "    </tr>\n",
       "    <tr>\n",
       "      <th>1</th>\n",
       "      <td>0.076638</td>\n",
       "      <td>-0.041374</td>\n",
       "      <td>-0.004841</td>\n",
       "      <td>-0.004841+0.000279j</td>\n",
       "      <td>0.004849</td>\n",
       "      <td>3.083952</td>\n",
       "      <td>-0.023636</td>\n",
       "    </tr>\n",
       "    <tr>\n",
       "      <th>2</th>\n",
       "      <td>0.073022</td>\n",
       "      <td>-0.044991</td>\n",
       "      <td>-0.004633</td>\n",
       "      <td>-0.004633+0.000083j</td>\n",
       "      <td>0.004634</td>\n",
       "      <td>3.123610</td>\n",
       "      <td>0.001438</td>\n",
       "    </tr>\n",
       "    <tr>\n",
       "      <th>3</th>\n",
       "      <td>0.073022</td>\n",
       "      <td>-0.044991</td>\n",
       "      <td>-0.004421</td>\n",
       "      <td>-0.004421-0.001203j</td>\n",
       "      <td>0.004582</td>\n",
       "      <td>3.407171</td>\n",
       "      <td>0.023619</td>\n",
       "    </tr>\n",
       "    <tr>\n",
       "      <th>4</th>\n",
       "      <td>0.071378</td>\n",
       "      <td>-0.046635</td>\n",
       "      <td>-0.004205</td>\n",
       "      <td>-0.004205-0.001356j</td>\n",
       "      <td>0.004419</td>\n",
       "      <td>3.453607</td>\n",
       "      <td>0.041826</td>\n",
       "    </tr>\n",
       "    <tr>\n",
       "      <th>...</th>\n",
       "      <td>...</td>\n",
       "      <td>...</td>\n",
       "      <td>...</td>\n",
       "      <td>...</td>\n",
       "      <td>...</td>\n",
       "      <td>...</td>\n",
       "      <td>...</td>\n",
       "    </tr>\n",
       "    <tr>\n",
       "      <th>599995</th>\n",
       "      <td>0.176268</td>\n",
       "      <td>0.058256</td>\n",
       "      <td>0.000015</td>\n",
       "      <td>0.000015+0.000493j</td>\n",
       "      <td>0.000493</td>\n",
       "      <td>30135.697377</td>\n",
       "      <td>-0.289769</td>\n",
       "    </tr>\n",
       "    <tr>\n",
       "      <th>599996</th>\n",
       "      <td>0.177254</td>\n",
       "      <td>0.059242</td>\n",
       "      <td>0.000033</td>\n",
       "      <td>0.000033+0.000343j</td>\n",
       "      <td>0.000345</td>\n",
       "      <td>30135.630801</td>\n",
       "      <td>-0.245612</td>\n",
       "    </tr>\n",
       "    <tr>\n",
       "      <th>599997</th>\n",
       "      <td>0.179227</td>\n",
       "      <td>0.061215</td>\n",
       "      <td>0.000050</td>\n",
       "      <td>0.000050+0.001284j</td>\n",
       "      <td>0.001285</td>\n",
       "      <td>30135.688260</td>\n",
       "      <td>-0.187389</td>\n",
       "    </tr>\n",
       "    <tr>\n",
       "      <th>599998</th>\n",
       "      <td>0.179885</td>\n",
       "      <td>0.061872</td>\n",
       "      <td>0.000066</td>\n",
       "      <td>0.000066+0.001095j</td>\n",
       "      <td>0.001097</td>\n",
       "      <td>30135.667052</td>\n",
       "      <td>-0.118399</td>\n",
       "    </tr>\n",
       "    <tr>\n",
       "      <th>599999</th>\n",
       "      <td>0.180213</td>\n",
       "      <td>0.062201</td>\n",
       "      <td>0.000081</td>\n",
       "      <td>0.000081+0.004177j</td>\n",
       "      <td>0.004178</td>\n",
       "      <td>30135.708199</td>\n",
       "      <td>-0.042767</td>\n",
       "    </tr>\n",
       "  </tbody>\n",
       "</table>\n",
       "<p>600000 rows × 7 columns</p>\n",
       "</div>"
      ],
      "text/plain": [
       "        Original Signal  Signal - Mean  Filtered Signal   Hilbert Transform  \\\n",
       "0              0.076967      -0.041045        -0.005045 -0.005045+0.003866j   \n",
       "1              0.076638      -0.041374        -0.004841 -0.004841+0.000279j   \n",
       "2              0.073022      -0.044991        -0.004633 -0.004633+0.000083j   \n",
       "3              0.073022      -0.044991        -0.004421 -0.004421-0.001203j   \n",
       "4              0.071378      -0.046635        -0.004205 -0.004205-0.001356j   \n",
       "...                 ...            ...              ...                 ...   \n",
       "599995         0.176268       0.058256         0.000015  0.000015+0.000493j   \n",
       "599996         0.177254       0.059242         0.000033  0.000033+0.000343j   \n",
       "599997         0.179227       0.061215         0.000050  0.000050+0.001284j   \n",
       "599998         0.179885       0.061872         0.000066  0.000066+0.001095j   \n",
       "599999         0.180213       0.062201         0.000081  0.000081+0.004177j   \n",
       "\n",
       "        Amplitude  Instantaneous Phase  Gradient Phase  \n",
       "0        0.006356             2.487745       -0.050221  \n",
       "1        0.004849             3.083952       -0.023636  \n",
       "2        0.004634             3.123610        0.001438  \n",
       "3        0.004582             3.407171        0.023619  \n",
       "4        0.004419             3.453607        0.041826  \n",
       "...           ...                  ...             ...  \n",
       "599995   0.000493         30135.697377       -0.289769  \n",
       "599996   0.000345         30135.630801       -0.245612  \n",
       "599997   0.001285         30135.688260       -0.187389  \n",
       "599998   0.001097         30135.667052       -0.118399  \n",
       "599999   0.004178         30135.708199       -0.042767  \n",
       "\n",
       "[600000 rows x 7 columns]"
      ]
     },
     "execution_count": 11,
     "metadata": {},
     "output_type": "execute_result"
    }
   ],
   "source": [
    "# all frames\n",
    "frames_all = []\n",
    "\n",
    "for i in range(len(frames)):\n",
    "    frames_all.append(pd.merge(frames[i], hilbert_frames[i], on='Hilbert Transform', how='outer'))\n",
    "\n",
    "frames_all[0]"
   ]
  },
  {
   "cell_type": "markdown",
   "metadata": {},
   "source": [
    "### **series for training**"
   ]
  },
  {
   "cell_type": "code",
   "execution_count": 12,
   "metadata": {},
   "outputs": [],
   "source": [
    "frames_all[0].to_csv('frame0.csv', index=False)"
   ]
  },
  {
   "cell_type": "code",
   "execution_count": 13,
   "metadata": {},
   "outputs": [
    {
     "data": {
      "text/plain": [
       "array([[-5.04470124e-03,  6.35553595e-03, -5.02207150e-02],\n",
       "       [-4.84089753e-03,  4.84895059e-03, -2.36363872e-02],\n",
       "       [-4.63294633e-03,  4.63369556e-03,  1.43767199e-03],\n",
       "       ...,\n",
       "       [ 5.04539508e-05,  1.28514434e-03, -1.87389303e-01],\n",
       "       [ 6.63158304e-05,  1.09719893e-03, -1.18399108e-01],\n",
       "       [ 8.07604033e-05,  4.17810223e-03, -4.27671146e-02]])"
      ]
     },
     "execution_count": 13,
     "metadata": {},
     "output_type": "execute_result"
    }
   ],
   "source": [
    "serie = frames_all[0][['Filtered Signal','Amplitude', 'Gradient Phase']].values\n",
    "serie"
   ]
  },
  {
   "cell_type": "code",
   "execution_count": 27,
   "metadata": {},
   "outputs": [],
   "source": [
    "def load_data(Serie,size_train = 0.8, size_val = 0.3, batch_size=32):\n",
    "    trainval_size = int(size_train*len(serie))\n",
    "    val_size =  int(size_val*trainval_size)\n",
    "    train_size = trainval_size - val_size\n",
    "\n",
    "    X, y = utils.create_sequences(serie, 1000, 100, 0)\n",
    "    \n",
    "    #split de data\n",
    "    X_train, y_train = X[:train_size], y[:train_size]\n",
    "    X_val, y_val = X[train_size:trainval_size], y[train_size:trainval_size]\n",
    "    X_test, y_test = X[trainval_size:], y[trainval_size:]\n",
    "\n",
    "    x_train = torch.from_numpy(X_train).float()\n",
    "    x_val = torch.from_numpy(X_val).float()\n",
    "    x_test = torch.from_numpy(X_test).float()\n",
    "\n",
    "    y_train = torch.from_numpy(y_train).float()\n",
    "    y_val = torch.from_numpy(y_val).float()\n",
    "    y_test = torch.from_numpy(y_test).float()\n",
    "    \n",
    "    #create dataset tensor\n",
    "    train_dataset = TensorDataset(x_train, y_train)\n",
    "    val_dataset = TensorDataset(x_val, y_val)\n",
    "    test_dataset = TensorDataset(x_test, y_test)\n",
    "\n",
    "    #create dataloader\n",
    "    train_dataloader = DataLoader(train_dataset, batch_size=batch_size)\n",
    "    val_dataloader = DataLoader(val_dataset, batch_size=batch_size)\n",
    "    test_dataloader = DataLoader(test_dataset, batch_size=batch_size)\n",
    "\n",
    "    return train_dataloader, val_dataloader, test_dataloader"
   ]
  },
  {
   "cell_type": "code",
   "execution_count": 28,
   "metadata": {},
   "outputs": [],
   "source": [
    "train_dataloader, val_dataloader, test_dataloader = load_data(serie)"
   ]
  },
  {
   "cell_type": "markdown",
   "metadata": {},
   "source": [
    "## **modelo 1**"
   ]
  },
  {
   "cell_type": "code",
   "execution_count": null,
   "metadata": {},
   "outputs": [],
   "source": [
    "class LSTMModel(nn.Module):\n",
    "\n",
    "    def __init__(self, input_size, hidden_size, output_size, num_layers = 1):\n",
    "        super(LSTMModel, self).__init__()\n",
    "        self.hidden_size = hidden_size\n",
    "        self.num_layers = num_layers\n",
    "        self.lstm = nn.LSTM(input_size, hidden_size, num_layers, batch_first=True)\n",
    "        self.fc = nn.Linear(hidden_size, output_size)\n",
    "        #self.sigmoid = nn.Sigmoid(hidden_size)\n",
    "\n",
    "\n",
    "\n",
    "    def forward(self, x):\n",
    "        \n",
    "        h0 =  torch.zeros(self.num_layers, x.size(0), self.hidden_size)\n",
    "        c0 =  torch.zeros(self.num_layers, x.size(0), self.hidden_size)\n",
    "\n",
    "        out, _ = self.lstm(x, (h0, c0))\n",
    "        out = self.fc(out[:, -1, :])\n",
    "\n",
    "        return out"
   ]
  },
  {
   "cell_type": "code",
   "execution_count": null,
   "metadata": {},
   "outputs": [],
   "source": [
    "input_size = 3\n",
    "hidden_size = 50\n",
    "num_layers = 1\n",
    "output_size = 2\n",
    "\n",
    "model = LSTMModel(input_size, hidden_size, output_size, num_layers)"
   ]
  },
  {
   "cell_type": "code",
   "execution_count": null,
   "metadata": {},
   "outputs": [],
   "source": [
    "# entrenamiento\n",
    "lr = 0.01\n",
    "epochs = 100\n",
    "\n",
    "# loss and optimizer\n",
    "criterion = nn.MSELoss()\n",
    "optimizer = optim.Adam(model.parameters(), lr=lr)\n",
    "\n",
    "for epoch in range(epochs):\n",
    "    \n",
    "    optimizer.zero_grad()\n",
    "    \n",
    "    for X_batch, y_batch in train_dataloader:\n",
    "        y_pred = model(X_batch)\n",
    "        loss = criterion(y_pred, y_batch)\n",
    "        loss.backward()\n",
    "        optimizer.step()\n",
    "    \n",
    "    # validation step\n",
    "    model.eval()\n",
    "    with torch.no_grad():\n",
    "        for X_val_batch, y_val_batch in val_dataloader:\n",
    "            val_pred = model(X_val_batch)\n",
    "            val_loss = criterion(val_pred, y_val_batch)\n",
    "            print(f'Epoch {epoch+1}, Loss: {loss.item():.4f}, Val Loss: {val_loss.item():.4f}') \n",
    "\n",
    "    model.train()"
   ]
  }
 ],
 "metadata": {
  "kernelspec": {
   "display_name": "Python 3",
   "language": "python",
   "name": "python3"
  },
  "language_info": {
   "codemirror_mode": {
    "name": "ipython",
    "version": 3
   },
   "file_extension": ".py",
   "mimetype": "text/x-python",
   "name": "python",
   "nbconvert_exporter": "python",
   "pygments_lexer": "ipython3",
   "version": "3.10.8"
  }
 },
 "nbformat": 4,
 "nbformat_minor": 2
}
