{
 "cells": [
  {
   "cell_type": "markdown",
   "metadata": {},
   "source": [
    "# **EDA defectos**"
   ]
  },
  {
   "cell_type": "code",
   "execution_count": 1,
   "metadata": {},
   "outputs": [
    {
     "data": {
      "text/html": [
       "<script src = \"require.js\"></script>\n"
      ],
      "text/plain": [
       "<IPython.core.display.HTML object>"
      ]
     },
     "metadata": {},
     "output_type": "display_data"
    }
   ],
   "source": [
    "%%HTML\n",
    "<script src = \"require.js\"></script>"
   ]
  },
  {
   "cell_type": "code",
   "execution_count": 2,
   "metadata": {},
   "outputs": [
    {
     "ename": "ModuleNotFoundError",
     "evalue": "No module named 'dataset'",
     "output_type": "error",
     "traceback": [
      "\u001b[1;31m---------------------------------------------------------------------------\u001b[0m",
      "\u001b[1;31mModuleNotFoundError\u001b[0m                       Traceback (most recent call last)",
      "Input \u001b[1;32mIn [2]\u001b[0m, in \u001b[0;36m<cell line: 22>\u001b[1;34m()\u001b[0m\n\u001b[0;32m     20\u001b[0m \u001b[38;5;28;01mimport\u001b[39;00m \u001b[38;5;21;01msys\u001b[39;00m\n\u001b[0;32m     21\u001b[0m sys\u001b[38;5;241m.\u001b[39mpath\u001b[38;5;241m.\u001b[39mappend(\u001b[38;5;124m'\u001b[39m\u001b[38;5;124m../Librerias\u001b[39m\u001b[38;5;124m'\u001b[39m)\n\u001b[1;32m---> 22\u001b[0m \u001b[38;5;28;01mimport\u001b[39;00m \u001b[38;5;21;01mdataset\u001b[39;00m \u001b[38;5;28;01mas\u001b[39;00m \u001b[38;5;21;01mds\u001b[39;00m\n\u001b[0;32m     23\u001b[0m \u001b[38;5;28;01mimport\u001b[39;00m \u001b[38;5;21;01msimilaritymeasures\u001b[39;00m\n\u001b[0;32m     26\u001b[0m sns\u001b[38;5;241m.\u001b[39mset_style(\u001b[38;5;124m\"\u001b[39m\u001b[38;5;124mdarkgrid\u001b[39m\u001b[38;5;124m\"\u001b[39m)\n",
      "\u001b[1;31mModuleNotFoundError\u001b[0m: No module named 'dataset'"
     ]
    }
   ],
   "source": [
    "import numpy as np\n",
    "import matplotlib.pyplot as plt\n",
    "import plotly.express as px\n",
    "import plotly.io as pio\n",
    "import pandas as pd\n",
    "import seaborn as sns\n",
    "\n",
    "# scipy stuff \n",
    "import scipy.signal as signal\n",
    "import scipy.stats as stats\n",
    "from scipy.fft import fft, rfft\n",
    "from scipy.fft import fftfreq, rfftfreq\n",
    "from fitter import Fitter, get_common_distributions, get_distributions\n",
    "\n",
    "import plotly.graph_objects as go\n",
    "\n",
    "pio.renderers.default = \"notebook\"\n",
    "\n",
    "# Librerias propias\n",
    "import sys\n",
    "sys.path.append('../Librerias')\n",
    "import dataset as ds\n",
    "import similaritymeasures\n",
    "\n",
    "\n",
    "sns.set_style(\"darkgrid\")"
   ]
  },
  {
   "cell_type": "code",
   "execution_count": null,
   "metadata": {},
   "outputs": [],
   "source": [
    "\n",
    "fpath = \"/Users/granosftp/Documents/GitHub/Tesis/data/\"\n",
    "#fpath = \"/Users/consu/OneDrive/Documentos/GitHub/Tesis/data/\"\n",
    "fname = \"datosconsu_021023_bajos.mat\"\n",
    "cutoff = [8/1000, 11/1000]\n",
    "\n",
    "set =  ds.MatFileToDataFrame(fpath, fname)\n",
    "df = set.get_dataframe(cutoff)\n",
    "df.tail()"
   ]
  },
  {
   "cell_type": "code",
   "execution_count": null,
   "metadata": {},
   "outputs": [],
   "source": [
    "amplitude_env = np.abs(df['Hilbert Transform'])\n",
    "inst_phase =  np.unwrap(np.angle(df['Hilbert Transform']))\n",
    "inst_freq = (np.diff(inst_phase)/(2.0*np.pi)*1000)\n",
    "diff_phase =  np.diff(inst_phase)\n",
    "mean_phase = np.mean(diff_phase)\n",
    "diff_phase = np.insert(diff_phase, 0, 0)  "
   ]
  },
  {
   "cell_type": "code",
   "execution_count": null,
   "metadata": {},
   "outputs": [],
   "source": [
    "df['Amplitude Envelope'] = amplitude_env\n",
    "df['Instantaneous Phase'] = inst_phase"
   ]
  },
  {
   "cell_type": "code",
   "execution_count": null,
   "metadata": {},
   "outputs": [],
   "source": [
    "# filtro gradiente de fase\n",
    "\n",
    "cutoff = 0.1\n",
    "order = 4\n",
    "\n",
    "b,a = signal.butter(order, cutoff, btype='low')\n",
    "grad_phase = signal.filtfilt(b, a, diff_phase-mean_phase)\n",
    "\n",
    "df['Gradient Phase'] = grad_phase"
   ]
  },
  {
   "cell_type": "code",
   "execution_count": null,
   "metadata": {},
   "outputs": [],
   "source": [
    "df.head()"
   ]
  },
  {
   "cell_type": "markdown",
   "metadata": {},
   "source": [
    "### **Señal Original**\n",
    "\n",
    "Se buscan las frecuencias características de la señal. Se sabe que la fuente vibra a 20Hz y que la frecuencia más predominante será su sub-armonico a 10 Hz. Buscamos corroborar esto y ver si hay otras frecuencias interesantes."
   ]
  },
  {
   "cell_type": "code",
   "execution_count": null,
   "metadata": {},
   "outputs": [],
   "source": [
    "mean_signal = df['Signal - Mean'].values\n",
    "sig_fft = fft(mean_signal)\n",
    "N = len(mean_signal)\n",
    "sampling_rate = 1000.0\n",
    "normalize =  N/2.0\n",
    "\n",
    "freq_axis = fftfreq(N, d=1.0/sampling_rate)\n",
    "norm_amplitude = np.abs(sig_fft)/normalize"
   ]
  },
  {
   "cell_type": "code",
   "execution_count": null,
   "metadata": {},
   "outputs": [],
   "source": [
    "fig = go.Figure()\n",
    "fig.add_trace(go.Scatter(x = freq_axis, y = norm_amplitude, mode = 'lines'))\n",
    "fig.update_layout(title = 'Espectro de amplitud', xaxis_title = 'Frecuencia [Hz]', yaxis_title = 'Amplitud')\n",
    "fig.update_xaxes(range=[0, 50])\n",
    "fig.show()"
   ]
  },
  {
   "cell_type": "code",
   "execution_count": null,
   "metadata": {},
   "outputs": [],
   "source": [
    "fig = go.Figure()\n",
    "fig.add_trace(go.Scatter(x=freq_axis, y=norm_amplitude, mode='lines'))\n",
    "fig.update_xaxes(type = 'log')\n",
    "fig.update_yaxes(type = 'log')\n",
    "fig.update_layout(title='Signal Spectrum', xaxis_title='Frequency [Hz]', yaxis_title='Amplitude')\n",
    "fig.show()\n"
   ]
  },
  {
   "cell_type": "markdown",
   "metadata": {},
   "source": [
    "Se ve claramente el sub-armonico seguido por el peak del armonico. Por lo que se puede decir que la señal tiene dos frecuencias características que corresponden \n",
    "a 0.1s y 0.05s respectivamente, en periodos, esto implica que la señal principal se presenta cada 100 muestras y la secundaria cada 50."
   ]
  },
  {
   "cell_type": "markdown",
   "metadata": {},
   "source": [
    "## **Señal Filtrada**\n",
    "\n",
    "Para hacer los calculos de Hilbert, se filtra la señal con un cutoff especificado al momento de generar el dataframe. En este caso es de [8Hz, 11Hz]. Esto se hace para eliminar el ruido de alta frecuencia que no nos interesa. Por lo mismo, en esta señal se debería encontrar el subarmonico que corresponde a los 10Hz como componente principal.\n"
   ]
  },
  {
   "cell_type": "code",
   "execution_count": null,
   "metadata": {},
   "outputs": [],
   "source": [
    "filtered_signal = df['Filtered Signal'].values\n",
    "\n",
    "sig_fft = np.fft.fft(filtered_signal)\n",
    "N = len(filtered_signal)\n",
    "normalize = N/2.0\n",
    "\n",
    "freq_axis = fftfreq(N, d=1.0/sampling_rate)\n",
    "norm_amplitude = np.abs(sig_fft)/normalize"
   ]
  },
  {
   "cell_type": "code",
   "execution_count": null,
   "metadata": {},
   "outputs": [],
   "source": [
    "fig = go.Figure()\n",
    "fig.add_trace(go.Scatter(x = freq_axis, y = norm_amplitude, mode = 'lines'))\n",
    "fig.update_layout(title = 'Espectro de amplitud', xaxis_title = 'Frecuencia [Hz]', yaxis_title = 'Amplitud')\n",
    "fig.update_xaxes(range=[0, 15])\n",
    "fig.show()"
   ]
  },
  {
   "cell_type": "code",
   "execution_count": null,
   "metadata": {},
   "outputs": [],
   "source": [
    "fig = go.Figure()\n",
    "fig.add_trace(go.Scatter(x=freq_axis, y=norm_amplitude, mode='lines'))\n",
    "fig.update_xaxes(type = 'log')\n",
    "fig.update_yaxes(type = 'log')\n",
    "fig.update_layout(title='Signal Spectrum', xaxis_title='Frequency [Hz]', yaxis_title='Amplitude')\n",
    "fig.show()"
   ]
  },
  {
   "cell_type": "markdown",
   "metadata": {},
   "source": [
    "Se ve el peak de la onda de faraday  alos 10Hz y se puede ver que existe ruido a una frecuencia cercana a los 4.5Hz."
   ]
  },
  {
   "cell_type": "markdown",
   "metadata": {},
   "source": [
    "## **Onda Envolvente**"
   ]
  },
  {
   "cell_type": "code",
   "execution_count": null,
   "metadata": {},
   "outputs": [],
   "source": [
    "print(f'Mínima amplitude envolventes: \\t{np.min(np.abs(df[\"Amplitude Envelope\"]))}')\n",
    "print(f'Máxima amplitude envolventes: \\t{np.max(np.abs(df[\"Amplitude Envelope\"]))}')\n",
    "print(f'STD amplitude envolventes: \\t{np.std(np.abs(df[\"Amplitude Envelope\"]))} \\n')\n",
    "\n",
    "print(f'Mínima gradiente de fase: \\t{np.min(df[\"Gradient Phase\"])}')\n",
    "print(f'Máxima gradiente de fase: \\t{np.max(df[\"Gradient Phase\"])}')\n",
    "print(f'STD gradiente de fase: \\t{np.std(df[\"Gradient Phase\"])} \\n')"
   ]
  },
  {
   "cell_type": "code",
   "execution_count": null,
   "metadata": {},
   "outputs": [],
   "source": [
    "# Fourier Transform for AE\n",
    "fourier = fft(df['Amplitude Envelope'].values)\n",
    "N = len(df['Amplitude Envelope'])\n",
    "sampling_rate = 1000.0\n",
    "normalize = N/2.0\n",
    "\n",
    "frequency_axis = fftfreq(N, d=1.0/sampling_rate)\n",
    "norm_amplitude = np.abs(fourier)/normalize"
   ]
  },
  {
   "cell_type": "code",
   "execution_count": null,
   "metadata": {},
   "outputs": [],
   "source": [
    "fig = go.Figure()\n",
    "fig.add_trace(go.Scatter(x=frequency_axis, y=norm_amplitude, mode='lines'))\n",
    "#fig.update_xaxes(range=[-2, 2])\n",
    "fig.update_layout(title='Close Up spectrum for AE', xaxis_title='Frequency [Hz]', yaxis_title='Amplitude')\n",
    "fig.show()"
   ]
  },
  {
   "cell_type": "code",
   "execution_count": null,
   "metadata": {},
   "outputs": [],
   "source": [
    "# loglog plot for AE spectrum\n",
    "\n",
    "fig = go.Figure()\n",
    "fig.add_trace(go.Scatter(x=frequency_axis, y=norm_amplitude, mode='lines'))\n",
    "fig.update_xaxes(type = 'log')\n",
    "fig.update_yaxes(type = 'log')\n",
    "fig.update_layout(title='Close Up spectrum for AE', xaxis_title='Frequency [Hz]', yaxis_title='Amplitude')\n",
    "fig.show()\n"
   ]
  },
  {
   "cell_type": "markdown",
   "metadata": {},
   "source": [
    "Peaks de frecuencia se encuentran en los 10Hz, que es residuo de Faraday. Presenta otro peak cerca de los 4.8Hz, residual del ruido no eliminado de Faraday y componentes entre los 0.01 y 0.1Hz."
   ]
  },
  {
   "cell_type": "code",
   "execution_count": null,
   "metadata": {},
   "outputs": [],
   "source": [
    "#filtro pasa baja de 4Hz\n",
    "cutoff_amp = 7/1000\n",
    "a, b = signal.butter(4, cutoff_amp , btype='high')\n",
    "c, d = signal.butter(4, cutoff_amp, btype = 'low')\n",
    "amp_filtered =  signal.filtfilt(a, b, df['Amplitude Envelope'].values)\n",
    "amp_filtered2 = signal.filtfilt(c, d, df['Amplitude Envelope'].values)"
   ]
  },
  {
   "cell_type": "code",
   "execution_count": null,
   "metadata": {},
   "outputs": [],
   "source": [
    "fourier = fft(amp_filtered)\n",
    "N = len(amp_filtered)\n",
    "sampling_rate = 1000.0\n",
    "normalize = N/2.0\n",
    "\n",
    "frequency_axis = fftfreq(N, d=1.0/sampling_rate)\n",
    "norm_amplitude = np.abs(fourier)/normalize"
   ]
  },
  {
   "cell_type": "code",
   "execution_count": null,
   "metadata": {},
   "outputs": [],
   "source": [
    "fig = go.Figure()\n",
    "fig.add_trace(go.Scatter(x=frequency_axis, y=norm_amplitude, mode='lines'))\n",
    "#fig.update_xaxes(range=[-1, 1])\n",
    "fig.update_xaxes(type = 'log')\n",
    "fig.update_yaxes(type = 'log')\n",
    "fig.update_layout(title='Espectro AE filtrado', xaxis_title='Frequency [Hz]', yaxis_title='Amplitude')\n",
    "fig.show()"
   ]
  },
  {
   "cell_type": "markdown",
   "metadata": {},
   "source": [
    "En caso de estos puntos ser significativos, indican que la señal presenta un componente con frecuencias entre 0.001 a 0.1Hz que corresponden a periodos de 1000 a 10 segundos. Esto implica que tienen ciclos cada $10^6$ y $10^4$ muestras respectivamente.\n"
   ]
  },
  {
   "cell_type": "markdown",
   "metadata": {},
   "source": [
    "### **amplitud mínima**"
   ]
  },
  {
   "cell_type": "code",
   "execution_count": null,
   "metadata": {},
   "outputs": [],
   "source": [
    "min_amp = np.min(np.abs(df[\"Amplitude Envelope\"]))\n",
    "\n",
    "#30 es un valor arbitrario dado que esa es la cantidad de señales que sé que puedo reconocer a simple vista\n",
    "indices = df[df['Amplitude Envelope'] < min_amp*30].index\n",
    "len(indices)"
   ]
  },
  {
   "cell_type": "code",
   "execution_count": null,
   "metadata": {},
   "outputs": [],
   "source": [
    "#función para eliminar los indices consecutivos de un arreglo\n",
    "def delete_consecutivos(array):\n",
    "    output = []\n",
    "    for i in range(len(array)):\n",
    "        if i == 0:\n",
    "            output.append(array[i])\n",
    "        else:\n",
    "            if array[i] != array[i-1]+1:\n",
    "                output.append(array[i])\n",
    "    return output\n"
   ]
  },
  {
   "cell_type": "code",
   "execution_count": null,
   "metadata": {},
   "outputs": [],
   "source": [
    "#indices = delete_consecutivos(indices)\n",
    "len(indices)"
   ]
  },
  {
   "cell_type": "markdown",
   "metadata": {},
   "source": [
    "## **peaks en gradiente fase**"
   ]
  },
  {
   "cell_type": "code",
   "execution_count": null,
   "metadata": {},
   "outputs": [],
   "source": [
    "peaks, peak_info = signal.find_peaks(np.abs(diff_phase-mean_phase), [0, 5.0], threshold = 0, width = [0, 100] , prominence = 0,\n",
    "                                     plateau_size=None, distance=100)\n",
    "\n",
    "print(f'Nº de peaks: \\t {len(peaks)}')\n",
    "print(f'Amplitud promedio: \\t {np.mean(peak_info[\"peak_heights\"])}')\n",
    "print(f'Amplitud máxima: \\t {np.max(peak_info[\"peak_heights\"])}')\n",
    "print(f'Amplitud mínima: \\t {np.min(peak_info[\"peak_heights\"])}')\n",
    "print(f'Amplitud STD: \\t {np.std(peak_info[\"peak_heights\"])}')"
   ]
  },
  {
   "cell_type": "markdown",
   "metadata": {},
   "source": [
    "notar que la desviación estándar es muy grande, es cercano al 200 veces la amplitud mínima. Por lo que no es un buen indicador en como estan repartidos los peaks."
   ]
  },
  {
   "cell_type": "markdown",
   "metadata": {},
   "source": [
    "Argumentos:\n",
    "\n",
    "* **Threshold** de 0, es la distancia vertical a al vecino vertical más cercano. Se elije este número porque es el mínimo posible y con esto, se puede acceder a la información que da esta opción.\n",
    "* **Width** de 0 a 100 es el ancho de la ventana de búsqueda de picos. Se elijen estos números por la frecuencia de sampleo.\n",
    "* **Distance** de 0 a 100 es la distancia mínima entre picos. Se elijen estos números por la frecuencia de sampleo.\n",
    "* **Prominence** de 0, prominencia de pico. Es el valor mínimo posible y se elije para acceder a la información que da esta opción.\n",
    "* **Height** de 0.01 a 5.0, altura en la que se encuentran los picos. La gran mayoría de los defectos reconocibles a simplevista tienen alturas superiores a 0.01.\n",
    "* **Plateau size** no se utiliza, dado que no se buscan plataformas en la señal."
   ]
  },
  {
   "cell_type": "code",
   "execution_count": null,
   "metadata": {},
   "outputs": [],
   "source": [
    "peak_info.keys()"
   ]
  },
  {
   "cell_type": "markdown",
   "metadata": {},
   "source": [
    "### **intersección amplitud y peaks**"
   ]
  },
  {
   "cell_type": "code",
   "execution_count": null,
   "metadata": {},
   "outputs": [],
   "source": [
    "intersection = np.intersect1d(indices, peaks, assume_unique=False, return_indices=False)\n",
    "len(intersection)"
   ]
  },
  {
   "cell_type": "code",
   "execution_count": null,
   "metadata": {},
   "outputs": [],
   "source": [
    "for k, i in enumerate(intersection[:3]):\n",
    "   fig =  go.Figure()\n",
    "   fig.add_trace(go.Scatter(x = df.index[i-500:i+500], y = amp_filtered[i-500:i+500], name='AE Filtrada'))#, line_shape='linear'))\n",
    "   fig.add_trace(go.Scatter(x = df.index[i-500:i+500], y = np.abs(df['Gradient Phase'][i-500:i+500]), name='Instantaneous Phase'))#, line_shape = 'linear'))\n",
    "   fig.add_trace(go.Scatter(x = df.index[i-500:i+500], y = (df['Filtered Signal'][i-500:i+500]), name='Filtered Signal'))#, line_shape = 'linear'))']))\n",
    "   fig.add_trace(go.Scatter(x = df.index[i-500:i+500], y = df['Amplitude Envelope'][i-500:i+500], name='AE'))#, line_shape='linear'))\n",
    "   fig.add_trace(go.Scatter(x = df.index[i-500:i+500], y = amp_filtered2[i-500:i+500], name='AE Filtrada2'))\n",
    "   fig.update_layout(title = f'Peak indice {i}, curva {k}')\n",
    "   fig.show()\n"
   ]
  },
  {
   "cell_type": "markdown",
   "metadata": {},
   "source": [
    "Componente de 10Hz genera los pasos por cero. Las frecuencias menores tienen efectos en la amplitud de la envolvente y que esta vaya oscilando lejos del origen."
   ]
  },
  {
   "cell_type": "code",
   "execution_count": null,
   "metadata": {},
   "outputs": [],
   "source": [
    "for k, i in enumerate(intersection):\n",
    "   fig =  go.Figure()\n",
    "   fig.add_trace(go.Scatter(x = df.index[i-500:i+500], y = df['Amplitude Envelope'][i-500:i+500], name='Amplitude Envelope'))#, line_shape='linear'))\n",
    "   fig.add_trace(go.Scatter(x = df.index[i-500:i+500], y = np.abs(df['Gradient Phase'][i-500:i+500]), name='Instantaneous Phase'))#, line_shape = 'linear'))\n",
    "   fig.add_trace(go.Scatter(x = df.index[i-500:i+500], y = (df['Filtered Signal'][i-500:i+500]), name='Filtered Signal'))#, line_shape = 'linear'))']))\n",
    "   fig.update_layout(title = f'Peak indice {i}, curva {k}')\n",
    "   fig.show()"
   ]
  },
  {
   "cell_type": "markdown",
   "metadata": {},
   "source": [
    "#### **prominence**"
   ]
  },
  {
   "cell_type": "code",
   "execution_count": null,
   "metadata": {},
   "outputs": [],
   "source": [
    "# busco prominences de los peaks que salieron de la intersección\n",
    "info_prominence = signal.peak_prominences(np.abs(diff_phase-mean_phase), intersection, wlen=None)[0]\n",
    "contour_heights = np.abs(info_prominence - df['Gradient Phase'][intersection])\n"
   ]
  },
  {
   "cell_type": "code",
   "execution_count": null,
   "metadata": {},
   "outputs": [],
   "source": [
    "plt.figure(figsize=(20, 6))\n",
    "plt.plot(df.index, np.abs(df['Gradient Phase']), label='Gradient Phase')\n",
    "plt.scatter(intersection, np.abs(df['Gradient Phase'][intersection]), marker='x', label='defectos', color = 'violet', alpha = 0.5)\n",
    "#plt.plot(df.index, df['Amplitude Envelope'], label='Amplitude Envelope')\n",
    "plt.vlines(intersection, ymin = contour_heights, ymax = df['Gradient Phase'][intersection], label='Contour Heights', color = 'grey', linestyles='dashed', alpha = 0.5)\n",
    "plt.title('Prominences')\n",
    "plt.legend()\n",
    "plt.show()\n",
    "\n"
   ]
  },
  {
   "cell_type": "code",
   "execution_count": null,
   "metadata": {},
   "outputs": [],
   "source": [
    "fig = go.Figure()\n",
    "fig.add_trace(go.Scatter(x=df.index, y=df['Gradient Phase'], name='Gradient Phase'))\n",
    "fig.add_trace(go.Scatter(x=intersection, y=df['Gradient Phase'][intersection], mode='markers', name = 'defectos'))\n",
    "fig.add_trace(go.Scatter(x = df.index, y = df['Amplitude Envelope'], name = 'Amplitude Envelope'))\n",
    "fig.add_trace(go.Scatter(x=intersection, y=contour_heights, mode='markers', name='Contour Heights'))\n",
    "fig.update_layout(title='Prominences')\n",
    "fig.show()\n",
    "\n"
   ]
  },
  {
   "cell_type": "markdown",
   "metadata": {},
   "source": [
    "#### **width**"
   ]
  },
  {
   "cell_type": "code",
   "execution_count": null,
   "metadata": {},
   "outputs": [],
   "source": [
    "widths = signal.peak_widths(np.abs(diff_phase-mean_phase), intersection, rel_height=0.5)\n",
    "\n",
    "print(f'Ancho promedio: \\t {np.mean(widths[0])}')\n",
    "print(f'Media anchos: \\t {np.median(widths[0])}')\n",
    "print(f'Ancho máximo: \\t {np.max(widths[0])}')\n",
    "print(f'Ancho mínimo: \\t {np.min(widths[0])}')\n",
    "print(f'Ancho STD: \\t {np.std(widths[0])}')\n"
   ]
  },
  {
   "cell_type": "code",
   "execution_count": null,
   "metadata": {},
   "outputs": [],
   "source": [
    "min_width_index = np.argmin(widths[0])\n",
    "max_width_index = np.argmax(widths[0])\n",
    "\n",
    "min_width_peak = intersection[min_width_index]\n",
    "max_width_peak = intersection[max_width_index]\n",
    "\n",
    "print(\"Peak with minimum width:\", min_width_peak)\n",
    "print(\"Peak with maximum width:\", max_width_peak)\n"
   ]
  },
  {
   "cell_type": "markdown",
   "metadata": {},
   "source": [
    "## **ventanas con peaks**"
   ]
  },
  {
   "cell_type": "code",
   "execution_count": null,
   "metadata": {},
   "outputs": [],
   "source": [
    "defectos = []\n",
    "for i in intersection:\n",
    "    defectos.append(df.iloc[i-100:i+100])\n",
    "\n",
    "defectos[-1].tail()"
   ]
  },
  {
   "cell_type": "code",
   "execution_count": null,
   "metadata": {},
   "outputs": [],
   "source": [
    "anchos = []\n",
    "for elem in defectos:\n",
    "\n",
    "    subset = np.abs(elem['Gradient Phase'].values)\n",
    "    min1 = np.min(subset[:25])\n",
    "    index1 = np.where(subset[:25] == min1)[0][0]\n",
    "\n",
    "    min2 =  np.min(subset[25:])\n",
    "    index2 = np.where(subset[25:] == min2)[0][0]\n",
    "    index2 = index2+24\n",
    "    anchos.append([index1, index2])"
   ]
  },
  {
   "cell_type": "code",
   "execution_count": null,
   "metadata": {},
   "outputs": [],
   "source": [
    "for i, elem in enumerate(defectos):\n",
    "    fig = go.Figure()\n",
    "    fig.add_trace(go.Scatter(x=elem.index, y=elem['Amplitude Envelope'], name='Amplitude Envelope'))\n",
    "    fig.add_trace(go.Scatter(x=elem.index, y=(elem['Gradient Phase']), name='Gradient Phase'))\n",
    "    fig.add_trace(go.Scatter(x=elem.index, y=elem['Filtered Signal'], name='Filtered Signal'))\n",
    "    fig.update_layout(title=f'defecto {i}')\n",
    "    fig.show()"
   ]
  },
  {
   "cell_type": "markdown",
   "metadata": {},
   "source": [
    "#### **tiempos**\n"
   ]
  },
  {
   "cell_type": "markdown",
   "metadata": {},
   "source": [
    "Se busca de manera manual las amplitudes de los defectos y con esto se sacan estadisticas de los mismos."
   ]
  },
  {
   "cell_type": "code",
   "execution_count": null,
   "metadata": {},
   "outputs": [],
   "source": [
    "manual_width = [\n",
    "    [25014, 25042],\n",
    "    [27460, 27487],\n",
    "    [35630, 35658],\n",
    "    [37207, 37236],\n",
    "    [48343, 48372],\n",
    "    [57421, 57450],\n",
    "    [61722, 61750],\n",
    "    [78988, 79016],\n",
    "    [82306, 82336],\n",
    "    [84344, 84373],\n",
    "    [97845, 97875], #10\n",
    "    [99883, 99914], \n",
    "    [101083, 101111],\n",
    "    [131884, 131912],\n",
    "    [165590, 165619],\n",
    "    [166234, 166264],\n",
    "    [183081, 183109],\n",
    "    [187677, 187705],\n",
    "    [203502, 203530],\n",
    "    [219482, 219510],\n",
    "    [235509, 235537], #20\n",
    "    [275603, 275633],\n",
    "    [277908, 277936],\n",
    "    [301722, 301753],\n",
    "    [322041, 322070],\n",
    "    [322422, 322450],\n",
    "    [339137, 339166],\n",
    "    [393906, 393935],\n",
    "    [395396, 395424],\n",
    "    [396716, 396746],\n",
    "    [412940, 412969], #30\n",
    "    [413358, 413386], \n",
    "    [430261, 430289],\n",
    "    [444404, 444433],\n",
    "    [453962, 453990],\n",
    "    [456065, 456095],\n",
    "    [456863, 456892],\n",
    "    [457187, 457215],\n",
    "    [457390, 457419],\n",
    "    [470756, 470783],\n",
    "    [474540, 474568], #40\n",
    "    [502372, 502400],\n",
    "    [564199, 564227]\n",
    "]"
   ]
  },
  {
   "cell_type": "code",
   "execution_count": null,
   "metadata": {},
   "outputs": [],
   "source": [
    "manual_width = np.array(manual_width)\n",
    "manual_width.shape"
   ]
  },
  {
   "cell_type": "code",
   "execution_count": null,
   "metadata": {},
   "outputs": [],
   "source": [
    "width_df = pd.DataFrame(manual_width, columns=['start', 'end'])\n",
    "width_df['samples'] = width_df['end'] - width_df['start']\n",
    "width_df['duration'] = width_df['samples']/1000"
   ]
  },
  {
   "cell_type": "code",
   "execution_count": null,
   "metadata": {},
   "outputs": [],
   "source": [
    "width_df[['samples','duration']].describe()"
   ]
  },
  {
   "cell_type": "markdown",
   "metadata": {},
   "source": [
    "De los defectos encontrados, se puede aprecia que tienen una duración media de 28.6 muestras, con una desviación estándar de menos de 1 punto. Lo que dice que tienen una duración menor a los 0.03 segundos.\n",
    "En general, los defectos tienen un ancho fijo de 0.03 segundos, dado que no hay una gran disperción en los datos."
   ]
  },
  {
   "cell_type": "markdown",
   "metadata": {},
   "source": [
    "### **tiempo de vida**\n",
    "\n",
    "Para los tiempos carácteristicos por defecto, se toma el indice del peak y luego a mitad de la curva descendente se toma el indice. El doble de la cantidad de muestras es representativo del tau del defecto. Notar que este valor tiene que ser menor a la duración total (cerca de 0.03s) de los defectos."
   ]
  },
  {
   "cell_type": "code",
   "execution_count": null,
   "metadata": {},
   "outputs": [],
   "source": [
    "def find_nearest(array, value):\n",
    "    array = np.asarray(array)\n",
    "    idx = (np.abs(array - value)).argmin()\n",
    "    return array[idx]"
   ]
  },
  {
   "cell_type": "code",
   "execution_count": null,
   "metadata": {},
   "outputs": [],
   "source": [
    "defectos[0].shape"
   ]
  },
  {
   "cell_type": "code",
   "execution_count": null,
   "metadata": {},
   "outputs": [],
   "source": [
    "indices_tau = []\n",
    "for elem in defectos:\n",
    "    x = np.max(np.abs(elem['Gradient Phase']))\n",
    "    indice1 = elem[np.abs(elem['Gradient Phase']) == x].index[0]\n",
    "\n",
    "    y = x/2\n",
    "    subset = elem[100:]\n",
    "    z = find_nearest(np.abs(subset['Gradient Phase']), y)\n",
    "\n",
    "    indice2 = subset[np.abs(subset['Gradient Phase']) == z].index[0]\n",
    "\n",
    "    indices_tau.append([indice1, indice2])\n",
    "\n"
   ]
  },
  {
   "cell_type": "code",
   "execution_count": null,
   "metadata": {},
   "outputs": [],
   "source": [
    "tau_df = pd.DataFrame(indices_tau, columns=['peak_idx', 'median_idx'])\n",
    "tau_df['tau_samples'] = (tau_df['median_idx'] - tau_df['peak_idx'])*2\n",
    "tau_df['tau'] = tau_df['tau_samples']/1000\n",
    "tau_df.head()"
   ]
  },
  {
   "cell_type": "code",
   "execution_count": null,
   "metadata": {},
   "outputs": [],
   "source": [
    "tau_df[['tau_samples', 'tau']].describe()"
   ]
  },
  {
   "cell_type": "markdown",
   "metadata": {},
   "source": [
    "Se puede ver que los defectos tienen, en promedio, un tiempo de vida de 0.012 segundos, con una desviasión estandar de menos de $10^3$ segundos. Es decir, tienen un tiempo de vida de 12 muestras."
   ]
  },
  {
   "cell_type": "markdown",
   "metadata": {},
   "source": [
    "### **tiempo de aparición**"
   ]
  },
  {
   "cell_type": "code",
   "execution_count": null,
   "metadata": {},
   "outputs": [],
   "source": [
    "width_df['difference'] = width_df['start'].shift(-1) - width_df['end']\n",
    "width_df['amp_peak'] = df['Gradient Phase'][intersection].values\n",
    "width_df.head()\n"
   ]
  },
  {
   "cell_type": "code",
   "execution_count": null,
   "metadata": {},
   "outputs": [],
   "source": [
    "display(width_df[['difference', 'amp_peak']].describe())"
   ]
  },
  {
   "cell_type": "markdown",
   "metadata": {},
   "source": [
    "notar que no sirven los indicadores normales de dispersión, dado que la desviación estandar es muy grande, esta es mayor al promedio, por lo que no es un buen indicador para ver como se distribuyen los datos. Se necesitan indicadores de dispersión robustos. En primera instancia, se revisaran histogramas para entender la distribución y luego ver otras opciones."
   ]
  },
  {
   "cell_type": "code",
   "execution_count": null,
   "metadata": {},
   "outputs": [],
   "source": [
    "fig = go.Figure(data=[go.Histogram(x=width_df['difference'])])\n",
    "fig.update_layout(title='Histogram of Difference', xaxis_title='Difference', yaxis_title='Count')\n",
    "fig.show()\n"
   ]
  },
  {
   "cell_type": "markdown",
   "metadata": {},
   "source": [
    "#### **distribución de tiempos de aparición**"
   ]
  },
  {
   "cell_type": "code",
   "execution_count": null,
   "metadata": {},
   "outputs": [],
   "source": [
    "appearance_time = width_df['difference'].values\n",
    "appearance_time = appearance_time[~np.isnan(appearance_time)]"
   ]
  },
  {
   "cell_type": "code",
   "execution_count": null,
   "metadata": {},
   "outputs": [],
   "source": [
    "f = Fitter(appearance_time,\n",
    "           distributions=['gamma',\n",
    "                          'lognorm',\n",
    "                          \"beta\",\n",
    "                          \"burr\",\n",
    "                          \"norm\",\n",
    "                          \"chi2\"])\n",
    "f.fit()\n",
    "f.summary()"
   ]
  },
  {
   "cell_type": "code",
   "execution_count": null,
   "metadata": {},
   "outputs": [],
   "source": [
    "f.get_best()"
   ]
  },
  {
   "cell_type": "code",
   "execution_count": null,
   "metadata": {},
   "outputs": [],
   "source": [
    "forma, loc, escala = stats.chi2.fit(appearance_time)\n",
    "estadisticos_ks, p_valor_ks = stats.kstest(appearance_time, 'gamma', args=(forma, loc, escala))\n",
    "\n",
    "nivel_significancia = 0.05\n",
    "\n",
    "if p_valor_ks < nivel_significancia:\n",
    "    print(\"Se rechaza la hipótesis nula. Datos no siguen una distribución gamma\")\n",
    "else:\n",
    "    print(\"No hay evidencia para rechazar hipotesis nula. Datos pueden una distribución gamma\")"
   ]
  },
  {
   "cell_type": "markdown",
   "metadata": {},
   "source": [
    "Con esto, se asume que los datos no siguen la distribución gamma que se encontró. Sin embargo, el obtener más datos es primordial para poder hacer una afirmación más certera. De igual manera, se puede utilizar la escala encontrada para hacer la partición de las ventanas de la señal."
   ]
  },
  {
   "cell_type": "code",
   "execution_count": null,
   "metadata": {},
   "outputs": [],
   "source": [
    "\n",
    "# Parameters obtained from f.get_best()\n",
    "shape = 0.6535\n",
    "scale = 13328.37838\n",
    "\n",
    "x = np.linspace(0, np.max(appearance_time), 100)\n",
    "# probability density function\n",
    "y = stats.gamma.pdf(x, a=shape, scale=scale)\n",
    "\n",
    "fig = go.Figure()\n",
    "fig.add_trace(go.Histogram(x=appearance_time, histnorm='probability density', bingroup=30, name='Appearance Time Histogram'))\n",
    "fig.add_trace(go.Scatter(x=x, y=y, mode='lines', name='Gamma Distribution'))\n",
    "fig.update_layout(title='Gamma Distribution Fit', xaxis_title='Appearance Time', yaxis_title='Probability Density')\n",
    "fig.show()\n",
    "\n",
    "#histograma en matplotlib\n",
    "plt.figure(figsize=(15, 10))\n",
    "plt.hist(appearance_time, bins=30, density=True, alpha=0.5, label='Appearance Time Histogram')\n",
    "plt.plot(x, y, 'r-', label='Gamma Distribution')\n",
    "plt.xlabel('Appearance Time')\n",
    "plt.ylabel('Probability Density')\n",
    "plt.legend()\n",
    "plt.show()\n"
   ]
  },
  {
   "cell_type": "code",
   "execution_count": null,
   "metadata": {},
   "outputs": [],
   "source": [
    "fig = go.Figure(data=[go.Histogram(x=np.abs(width_df['amp_peak']))])\n",
    "fig.update_layout(title='Histograma de peaks de amplitud en gradiente de fase', xaxis_title='GF', yaxis_title='Count')\n",
    "fig.show()"
   ]
  },
  {
   "cell_type": "markdown",
   "metadata": {},
   "source": [
    "asumiendo los peaks como una señal cualquiera. Se ve si se puede extraer algún tipo de información, como frecuencias presentes en la posible señal."
   ]
  },
  {
   "cell_type": "code",
   "execution_count": null,
   "metadata": {},
   "outputs": [],
   "source": [
    "plt.plot(df['Gradient Phase'][intersection], 'o-')\n",
    "plt.title('Gradiente de fase de peaks')\n",
    "plt.show()\n"
   ]
  },
  {
   "cell_type": "code",
   "execution_count": null,
   "metadata": {},
   "outputs": [],
   "source": [
    "\n",
    "fft_result = fft(np.abs(df['Gradient Phase'][intersection].values))\n",
    "\n",
    "N = len(df['Gradient Phase'][intersection])\n",
    "sampling_rate = 1\n",
    "normalize =  N/2.0\n",
    "\n",
    "freq_axis = fftfreq(N, d=1.0/sampling_rate)\n",
    "norm_amplitude = np.abs(sig_fft)/normalize"
   ]
  },
  {
   "cell_type": "code",
   "execution_count": null,
   "metadata": {},
   "outputs": [],
   "source": [
    "fig = go.Figure()\n",
    "fig.add_trace(go.Scatter(x = freq_axis, y = norm_amplitude, mode = 'lines'))\n",
    "fig.update_layout(title = 'Espectro peaks', xaxis_title = 'Frecuencia [Hz]', yaxis_title = 'Amplitud')\n",
    "fig.update_xaxes(type = 'log')\n",
    "fig.update_yaxes(type = 'log')\n",
    "fig.show()"
   ]
  },
  {
   "cell_type": "markdown",
   "metadata": {},
   "source": [
    "el espectro no indica mucho. Se ve un punto en los 0.5Hz que corresponde a un periodo de 2 segundos, implicando que, hay una posible periodicidad cada 2000 muestras. Esto es consistente solo con el 25% de los peaks.\n",
    "Por otro lado, viendo los estadisticos, se puede ver que hasta la mitad de lo peaks, estos se presentan entre los 2 y 10 segundos. Por lo que se acontinuación se crean ondas sinusoidales con las frecuencias que se encuentran a los 25%, 50% y 75% para ver como esta curva se ajusta a los peaks.\n"
   ]
  },
  {
   "cell_type": "code",
   "execution_count": null,
   "metadata": {},
   "outputs": [],
   "source": [
    "\n",
    "t = np.linspace(intersection[0], intersection[-1], len(intersection), endpoint=False)\n",
    "\n",
    "# Generate the sine waves\n",
    "frequencies = [2008, 9289, 16784]#, 61799]\n",
    "amp = [-0.306064, -0.275678, 0.262373]#, 0.297188]\n",
    "\n",
    "sine_waves = [amp[i] * np.sin(2 * np.pi * frequencies[i] * t) for i in range(len(frequencies))]\n",
    "\n",
    "# Sum the sine waves\n",
    "combined_signal = np.sum(sine_waves, axis=0)\n",
    "\n",
    "# Plot the combined signal\n",
    "plt.plot(t, combined_signal)\n",
    "plt.plot(intersection, df['Gradient Phase'][intersection], 'o')\n",
    "plt.xlabel('Time (s)')\n",
    "plt.ylabel('Amplitude')\n",
    "plt.title('Combined Sine Waves')\n",
    "plt.show()\n"
   ]
  },
  {
   "cell_type": "markdown",
   "metadata": {},
   "source": [
    "## **correlación**\n"
   ]
  },
  {
   "cell_type": "markdown",
   "metadata": {},
   "source": [
    "### **con el resto de la señal**"
   ]
  },
  {
   "cell_type": "code",
   "execution_count": null,
   "metadata": {},
   "outputs": [],
   "source": [
    "#tomo 100 pts antes y después del defecto nº 1 y saco la correlación con el resto de la señal\n",
    "\n",
    "defecto_1 = defectos[0]\n",
    "\n",
    "plt.figure(figsize=(7,5))\n",
    "plt.plot(np.abs(defecto_1['Gradient Phase']))\n",
    "plt.title('Defecto nº 1')\n",
    "plt.show()"
   ]
  },
  {
   "cell_type": "code",
   "execution_count": null,
   "metadata": {},
   "outputs": [],
   "source": [
    "#señal a la que le vamos a hacer correlación\n",
    "\n",
    "signal_grad = np.abs(df['Gradient Phase'])\n",
    "plt.figure(figsize=(15,5))\n",
    "plt.plot(signal_grad)\n",
    "plt.title('Gradiente de fase, señal completa')\n",
    "plt.show()"
   ]
  },
  {
   "cell_type": "code",
   "execution_count": null,
   "metadata": {},
   "outputs": [],
   "source": [
    "correlation = signal.correlate(np.abs(defecto_1['Gradient Phase']), signal_grad, mode = 'full')\n",
    "\n",
    "fig = go.Figure()\n",
    "fig.add_trace(go.Scatter(y = correlation, name = 'Correlación'))\n",
    "fig.add_trace(go.Scatter(y = signal_grad, opacity=0.5, name = 'Gradiente de fase'))\n",
    "fig.update_layout(title = 'Correlación defecto nº 1 con señal completa')\n",
    "fig.show()\n",
    "\n"
   ]
  },
  {
   "cell_type": "markdown",
   "metadata": {},
   "source": [
    "no se puede ver de manera clara que los puntos de más alta correlación sean los peaks de la señal. Se descarta para el análisis."
   ]
  },
  {
   "cell_type": "markdown",
   "metadata": {},
   "source": [
    "## **entre defectos**"
   ]
  },
  {
   "cell_type": "code",
   "execution_count": null,
   "metadata": {},
   "outputs": [],
   "source": [
    "#amplitud máxima encontrada\n",
    "max_amplitude = np.max([np.max(np.abs(defecto['Gradient Phase'])) for defecto in defectos])\n",
    "\n",
    "#normalización de los defectos.\n",
    "for defecto in defectos:\n",
    "    defecto['Gradient Phase Norm'] = defecto['Gradient Phase'] / max_amplitude"
   ]
  },
  {
   "cell_type": "code",
   "execution_count": null,
   "metadata": {},
   "outputs": [],
   "source": [
    "correlations = []\n",
    "for i in range(len(defectos)):\n",
    "    current_corr = []\n",
    "    for j in range(len(defectos)):\n",
    "        current_corr.append(signal.correlate(defectos[i]['Gradient Phase Norm'], defectos[j]['Gradient Phase Norm'], mode = 'same'))\n",
    "    correlations.append(current_corr)"
   ]
  },
  {
   "cell_type": "code",
   "execution_count": null,
   "metadata": {},
   "outputs": [],
   "source": [
    "for i, array in enumerate(correlations):\n",
    "    fig = go.Figure()\n",
    "    for elem in array:\n",
    "      fig.add_trace(go.Scatter(x = t, y = elem, mode= 'lines'))\n",
    "      fig.update_layout(title = f'Correlación cruzada defecto {i}')\n",
    "    fig.show()"
   ]
  }
 ],
 "metadata": {
  "kernelspec": {
   "display_name": "Python 3",
   "language": "python",
   "name": "python3"
  },
  "language_info": {
   "codemirror_mode": {
    "name": "ipython",
    "version": 3
   },
   "file_extension": ".py",
   "mimetype": "text/x-python",
   "name": "python",
   "nbconvert_exporter": "python",
   "pygments_lexer": "ipython3",
   "version": "3.10.8"
  }
 },
 "nbformat": 4,
 "nbformat_minor": 2
}
