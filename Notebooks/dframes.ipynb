{
 "cells": [
  {
   "cell_type": "markdown",
   "metadata": {},
   "source": [
    "## **dataframes**\n",
    "\n",
    "voy a tratar de hacer un dataframe para aplicar algún tipo de clustering"
   ]
  },
  {
   "cell_type": "code",
   "execution_count": 2,
   "metadata": {},
   "outputs": [],
   "source": [
    "import numpy as np\n",
    "import matplotlib.pyplot as plt\n",
    "import plotly.express as px\n",
    "import pandas as pd\n",
    "import seaborn as sns\n",
    "import sys\n",
    "import scipy.signal as signal\n",
    "\n",
    "import sys\n",
    "\n",
    "sys.path.append('../data')\n",
    "from data import load_data\n",
    "\n",
    "sns.set_style(\"darkgrid\")"
   ]
  },
  {
   "cell_type": "code",
   "execution_count": 3,
   "metadata": {},
   "outputs": [],
   "source": [
    "# Load data\n",
    "fpath = \"C:/Users/consu/OneDrive/Documentos/GitHub/Tesis/data\"\n",
    "\n",
    "mat = load_data(fpath, 'datosconsu_021023_bajos.mat')"
   ]
  },
  {
   "cell_type": "code",
   "execution_count": 4,
   "metadata": {},
   "outputs": [
    {
     "data": {
      "text/html": [
       "<div>\n",
       "<style scoped>\n",
       "    .dataframe tbody tr th:only-of-type {\n",
       "        vertical-align: middle;\n",
       "    }\n",
       "\n",
       "    .dataframe tbody tr th {\n",
       "        vertical-align: top;\n",
       "    }\n",
       "\n",
       "    .dataframe thead th {\n",
       "        text-align: right;\n",
       "    }\n",
       "</style>\n",
       "<table border=\"1\" class=\"dataframe\">\n",
       "  <thead>\n",
       "    <tr style=\"text-align: right;\">\n",
       "      <th></th>\n",
       "      <th>amp</th>\n",
       "      <th>amp_mean</th>\n",
       "      <th>dif</th>\n",
       "    </tr>\n",
       "  </thead>\n",
       "  <tbody>\n",
       "    <tr>\n",
       "      <th>599995</th>\n",
       "      <td>5.210999</td>\n",
       "      <td>-0.843661</td>\n",
       "      <td>-0.112124</td>\n",
       "    </tr>\n",
       "    <tr>\n",
       "      <th>599996</th>\n",
       "      <td>5.063692</td>\n",
       "      <td>-0.990968</td>\n",
       "      <td>-0.147307</td>\n",
       "    </tr>\n",
       "    <tr>\n",
       "      <th>599997</th>\n",
       "      <td>5.012726</td>\n",
       "      <td>-1.041933</td>\n",
       "      <td>-0.050966</td>\n",
       "    </tr>\n",
       "    <tr>\n",
       "      <th>599998</th>\n",
       "      <td>4.868050</td>\n",
       "      <td>-1.186610</td>\n",
       "      <td>-0.144676</td>\n",
       "    </tr>\n",
       "    <tr>\n",
       "      <th>599999</th>\n",
       "      <td>4.806563</td>\n",
       "      <td>-1.248097</td>\n",
       "      <td>-0.061487</td>\n",
       "    </tr>\n",
       "  </tbody>\n",
       "</table>\n",
       "</div>"
      ],
      "text/plain": [
       "             amp  amp_mean       dif\n",
       "599995  5.210999 -0.843661 -0.112124\n",
       "599996  5.063692 -0.990968 -0.147307\n",
       "599997  5.012726 -1.041933 -0.050966\n",
       "599998  4.868050 -1.186610 -0.144676\n",
       "599999  4.806563 -1.248097 -0.061487"
      ]
     },
     "execution_count": 4,
     "metadata": {},
     "output_type": "execute_result"
    }
   ],
   "source": [
    "df = pd.DataFrame(mat['data'], columns = ['amp'])\n",
    "df['amp_mean'] = df.amp - df.amp.mean()\n",
    "df['dif'] = df.amp_mean.diff()\n",
    "df.tail()"
   ]
  },
  {
   "cell_type": "code",
   "execution_count": 5,
   "metadata": {},
   "outputs": [],
   "source": [
    "# filtro pasa banda\n",
    "order = 1\n",
    "cutoff_freq = [9/1000, 11/1000]\n",
    "b,a = signal.butter(order, cutoff_freq, btype='bandpass')\n",
    "\n",
    "df_filtered = signal.filtfilt(b, a, df.amp_mean)"
   ]
  },
  {
   "cell_type": "code",
   "execution_count": 6,
   "metadata": {},
   "outputs": [
    {
     "data": {
      "image/png": "[encoded data removed]",
      "text/plain": [
       "<Figure size 640x480 with 1 Axes>"
      ]
     },
     "metadata": {},
     "output_type": "display_data"
    }
   ],
   "source": [
    "plt.plot(df.amp_mean, color = 'grey', alpha = 0.5)\n",
    "plt.plot(df_filtered)\n",
    "plt.show()"
   ]
  },
  {
   "cell_type": "code",
   "execution_count": 7,
   "metadata": {},
   "outputs": [
    {
     "data": {
      "text/plain": [
       "(100, 6000)"
      ]
     },
     "execution_count": 7,
     "metadata": {},
     "output_type": "execute_result"
    }
   ],
   "source": [
    "df_window = np.array_split(df_filtered, 100)\n",
    "df_window =np.array(df_window)\n",
    "df_window.shape"
   ]
  },
  {
   "cell_type": "markdown",
   "metadata": {},
   "source": [
    "### **fase instantanea**\n",
    "Se calcula la fase instantanea de toda la señal, dado que el cambio de fase es una serie de tiempo, por lo que no es necesario calcularlo para cada ventana."
   ]
  },
  {
   "cell_type": "code",
   "execution_count": 8,
   "metadata": {},
   "outputs": [],
   "source": [
    "# filtro de hilbert\n",
    "s_filt =  signal.hilbert(df_filtered)\n",
    "amp_envelope_filt = np.abs(s_filt)\n",
    "inst_phase_filt =  np.unwrap(np.angle(s_filt))\n",
    "inst_freq_filt = (np.diff(inst_phase_filt)/(2.0*np.pi) * 1000)\n",
    "diff_phase =  np.diff(inst_phase_filt)\n",
    "diff_phase = np.insert(diff_phase, 0, 0) #agrego un cero en el primer coeficiente"
   ]
  },
  {
   "cell_type": "code",
   "execution_count": 9,
   "metadata": {},
   "outputs": [
    {
     "data": {
      "image/png": "[encoded data removed]",
      "text/plain": [
       "<Figure size 640x480 with 1 Axes>"
      ]
     },
     "metadata": {},
     "output_type": "display_data"
    }
   ],
   "source": [
    "plt.plot(np.diff(inst_freq_filt), label = 'gradient of instant phase')\n",
    "plt.plot(df_filtered, label = 'filtered signal')\n",
    "plt.legend()\n",
    "plt.show()"
   ]
  },
  {
   "cell_type": "markdown",
   "metadata": {},
   "source": [
    "Se separa el array en 100 arreglos de 6000 muestras cada uno para hacer un dataset con los elementops y hacer clusterings"
   ]
  },
  {
   "cell_type": "code",
   "execution_count": 10,
   "metadata": {},
   "outputs": [
    {
     "data": {
      "text/plain": [
       "(100, 6000)"
      ]
     },
     "execution_count": 10,
     "metadata": {},
     "output_type": "execute_result"
    }
   ],
   "source": [
    "window_phase = np.array_split(diff_phase, 100)\n",
    "window_phase =np.array(window_phase)\n",
    "window_phase.shape"
   ]
  },
  {
   "cell_type": "code",
   "execution_count": 11,
   "metadata": {},
   "outputs": [
    {
     "data": {
      "text/html": [
       "<div>\n",
       "<style scoped>\n",
       "    .dataframe tbody tr th:only-of-type {\n",
       "        vertical-align: middle;\n",
       "    }\n",
       "\n",
       "    .dataframe tbody tr th {\n",
       "        vertical-align: top;\n",
       "    }\n",
       "\n",
       "    .dataframe thead th {\n",
       "        text-align: right;\n",
       "    }\n",
       "</style>\n",
       "<table border=\"1\" class=\"dataframe\">\n",
       "  <thead>\n",
       "    <tr style=\"text-align: right;\">\n",
       "      <th></th>\n",
       "      <th>0</th>\n",
       "      <th>1</th>\n",
       "      <th>2</th>\n",
       "      <th>3</th>\n",
       "      <th>4</th>\n",
       "      <th>5</th>\n",
       "      <th>6</th>\n",
       "      <th>7</th>\n",
       "      <th>8</th>\n",
       "      <th>9</th>\n",
       "      <th>...</th>\n",
       "      <th>5990</th>\n",
       "      <th>5991</th>\n",
       "      <th>5992</th>\n",
       "      <th>5993</th>\n",
       "      <th>5994</th>\n",
       "      <th>5995</th>\n",
       "      <th>5996</th>\n",
       "      <th>5997</th>\n",
       "      <th>5998</th>\n",
       "      <th>5999</th>\n",
       "    </tr>\n",
       "  </thead>\n",
       "  <tbody>\n",
       "    <tr>\n",
       "      <th>0</th>\n",
       "      <td>0.000000</td>\n",
       "      <td>0.182185</td>\n",
       "      <td>0.014910</td>\n",
       "      <td>0.097034</td>\n",
       "      <td>0.018271</td>\n",
       "      <td>0.074986</td>\n",
       "      <td>0.020442</td>\n",
       "      <td>0.064658</td>\n",
       "      <td>0.022024</td>\n",
       "      <td>0.058587</td>\n",
       "      <td>...</td>\n",
       "      <td>0.064932</td>\n",
       "      <td>0.064834</td>\n",
       "      <td>0.065173</td>\n",
       "      <td>0.065102</td>\n",
       "      <td>0.065411</td>\n",
       "      <td>0.065395</td>\n",
       "      <td>0.065646</td>\n",
       "      <td>0.065653</td>\n",
       "      <td>0.065826</td>\n",
       "      <td>0.065845</td>\n",
       "    </tr>\n",
       "    <tr>\n",
       "      <th>1</th>\n",
       "      <td>0.065954</td>\n",
       "      <td>0.066010</td>\n",
       "      <td>0.066044</td>\n",
       "      <td>0.066121</td>\n",
       "      <td>0.066097</td>\n",
       "      <td>0.066224</td>\n",
       "      <td>0.066142</td>\n",
       "      <td>0.066287</td>\n",
       "      <td>0.066144</td>\n",
       "      <td>0.066326</td>\n",
       "      <td>...</td>\n",
       "      <td>0.065675</td>\n",
       "      <td>0.065568</td>\n",
       "      <td>0.065641</td>\n",
       "      <td>0.065565</td>\n",
       "      <td>0.065596</td>\n",
       "      <td>0.065529</td>\n",
       "      <td>0.065525</td>\n",
       "      <td>0.065469</td>\n",
       "      <td>0.065442</td>\n",
       "      <td>0.065414</td>\n",
       "    </tr>\n",
       "    <tr>\n",
       "      <th>2</th>\n",
       "      <td>0.065353</td>\n",
       "      <td>0.065320</td>\n",
       "      <td>0.065209</td>\n",
       "      <td>0.065161</td>\n",
       "      <td>0.064997</td>\n",
       "      <td>0.064969</td>\n",
       "      <td>0.064803</td>\n",
       "      <td>0.064814</td>\n",
       "      <td>0.064640</td>\n",
       "      <td>0.064649</td>\n",
       "      <td>...</td>\n",
       "      <td>0.065739</td>\n",
       "      <td>0.065759</td>\n",
       "      <td>0.065897</td>\n",
       "      <td>0.065897</td>\n",
       "      <td>0.065995</td>\n",
       "      <td>0.066005</td>\n",
       "      <td>0.066081</td>\n",
       "      <td>0.066081</td>\n",
       "      <td>0.066126</td>\n",
       "      <td>0.066146</td>\n",
       "    </tr>\n",
       "    <tr>\n",
       "      <th>3</th>\n",
       "      <td>0.066173</td>\n",
       "      <td>0.066197</td>\n",
       "      <td>0.066209</td>\n",
       "      <td>0.066237</td>\n",
       "      <td>0.066209</td>\n",
       "      <td>0.066236</td>\n",
       "      <td>0.066182</td>\n",
       "      <td>0.066213</td>\n",
       "      <td>0.066131</td>\n",
       "      <td>0.066132</td>\n",
       "      <td>...</td>\n",
       "      <td>0.064590</td>\n",
       "      <td>0.064624</td>\n",
       "      <td>0.064771</td>\n",
       "      <td>0.064825</td>\n",
       "      <td>0.064961</td>\n",
       "      <td>0.065071</td>\n",
       "      <td>0.065214</td>\n",
       "      <td>0.065338</td>\n",
       "      <td>0.065446</td>\n",
       "      <td>0.065556</td>\n",
       "    </tr>\n",
       "    <tr>\n",
       "      <th>4</th>\n",
       "      <td>0.065622</td>\n",
       "      <td>0.065770</td>\n",
       "      <td>0.065838</td>\n",
       "      <td>0.065994</td>\n",
       "      <td>0.066020</td>\n",
       "      <td>0.066164</td>\n",
       "      <td>0.066147</td>\n",
       "      <td>0.066290</td>\n",
       "      <td>0.066246</td>\n",
       "      <td>0.066379</td>\n",
       "      <td>...</td>\n",
       "      <td>0.066385</td>\n",
       "      <td>0.066330</td>\n",
       "      <td>0.066602</td>\n",
       "      <td>0.066572</td>\n",
       "      <td>0.066813</td>\n",
       "      <td>0.066765</td>\n",
       "      <td>0.067035</td>\n",
       "      <td>0.066999</td>\n",
       "      <td>0.067227</td>\n",
       "      <td>0.067189</td>\n",
       "    </tr>\n",
       "  </tbody>\n",
       "</table>\n",
       "<p>5 rows × 6000 columns</p>\n",
       "</div>"
      ],
      "text/plain": [
       "       0         1         2         3         4         5         6     \\\n",
       "0  0.000000  0.182185  0.014910  0.097034  0.018271  0.074986  0.020442   \n",
       "1  0.065954  0.066010  0.066044  0.066121  0.066097  0.066224  0.066142   \n",
       "2  0.065353  0.065320  0.065209  0.065161  0.064997  0.064969  0.064803   \n",
       "3  0.066173  0.066197  0.066209  0.066237  0.066209  0.066236  0.066182   \n",
       "4  0.065622  0.065770  0.065838  0.065994  0.066020  0.066164  0.066147   \n",
       "\n",
       "       7         8         9     ...      5990      5991      5992      5993  \\\n",
       "0  0.064658  0.022024  0.058587  ...  0.064932  0.064834  0.065173  0.065102   \n",
       "1  0.066287  0.066144  0.066326  ...  0.065675  0.065568  0.065641  0.065565   \n",
       "2  0.064814  0.064640  0.064649  ...  0.065739  0.065759  0.065897  0.065897   \n",
       "3  0.066213  0.066131  0.066132  ...  0.064590  0.064624  0.064771  0.064825   \n",
       "4  0.066290  0.066246  0.066379  ...  0.066385  0.066330  0.066602  0.066572   \n",
       "\n",
       "       5994      5995      5996      5997      5998      5999  \n",
       "0  0.065411  0.065395  0.065646  0.065653  0.065826  0.065845  \n",
       "1  0.065596  0.065529  0.065525  0.065469  0.065442  0.065414  \n",
       "2  0.065995  0.066005  0.066081  0.066081  0.066126  0.066146  \n",
       "3  0.064961  0.065071  0.065214  0.065338  0.065446  0.065556  \n",
       "4  0.066813  0.066765  0.067035  0.066999  0.067227  0.067189  \n",
       "\n",
       "[5 rows x 6000 columns]"
      ]
     },
     "execution_count": 11,
     "metadata": {},
     "output_type": "execute_result"
    }
   ],
   "source": [
    "# son 100 ventanas (columnas) con 6.000 datos (filas)\n",
    "df_phase = pd.DataFrame(window_phase)#.transpose()\n",
    "df_phase.head()"
   ]
  },
  {
   "cell_type": "markdown",
   "metadata": {},
   "source": [
    "### **clustering**\n",
    "\n",
    "Primero intentamos con kmeans y un scaler (MaxAbsScaler) para normalizar los datos, tengo nque probar con otro tipo de scalers tmbn (buscar los mejores)"
   ]
  },
  {
   "cell_type": "markdown",
   "metadata": {},
   "source": [
    "#### **Static clustering con kmeans**"
   ]
  },
  {
   "cell_type": "code",
   "execution_count": 12,
   "metadata": {},
   "outputs": [],
   "source": [
    "from sklearn.cluster import KMeans\n",
    "from sklearn.preprocessing import StandardScaler, MinMaxScaler, MaxAbsScaler\n",
    "\n",
    "norm =  MinMaxScaler()\n",
    "kmeans =  KMeans(n_clusters=5, random_state=0)"
   ]
  },
  {
   "cell_type": "code",
   "execution_count": 13,
   "metadata": {},
   "outputs": [],
   "source": [
    "#scaled = norm.fit_transform(df_phase)\n",
    "#kmeans.fit(scaled)\n",
    "kmeans.fit(df_phase)\n",
    "labels = kmeans.predict(df_phase)"
   ]
  },
  {
   "cell_type": "code",
   "execution_count": 14,
   "metadata": {},
   "outputs": [
    {
     "data": {
      "text/plain": [
       "labels\n",
       "0         96\n",
       "1          1\n",
       "2          1\n",
       "3          1\n",
       "4          1\n",
       "dtype: int64"
      ]
     },
     "execution_count": 14,
     "metadata": {},
     "output_type": "execute_result"
    }
   ],
   "source": [
    "labels = pd.DataFrame(labels, columns = ['labels'])\n",
    "labels.value_counts()"
   ]
  },
  {
   "cell_type": "code",
   "execution_count": 15,
   "metadata": {},
   "outputs": [
    {
     "name": "stdout",
     "output_type": "stream",
     "text": [
      "Cluster 0\n",
      "0\n",
      "1\n",
      "2\n",
      "3\n",
      "4\n",
      "\n",
      "Cluster 1\n",
      "14\n",
      "\n",
      "Cluster 2\n",
      "50\n",
      "\n",
      "Cluster 3\n",
      "10\n",
      "\n",
      "Cluster 4\n",
      "79\n",
      "\n"
     ]
    }
   ],
   "source": [
    "for cluster in range(kmeans.n_clusters):\n",
    "    print(f\"Cluster {cluster}\")\n",
    "    cluster_data = df_phase[kmeans.labels_ == cluster]\n",
    "    for i in range(min(5, cluster_data.shape[0])):\n",
    "        print(cluster_data.index[i])\n",
    "    print()"
   ]
  },
  {
   "cell_type": "code",
   "execution_count": 16,
   "metadata": {},
   "outputs": [
    {
     "name": "stdout",
     "output_type": "stream",
     "text": [
      "2 0.6249714582326689\n",
      "3 0.6204833655941735\n",
      "4 0.48466295667094145\n",
      "5 0.5225738018865959\n",
      "6 0.5268241391691708\n",
      "7 0.40865215205242045\n",
      "8 0.5271038482502624\n",
      "9 0.5275655618029333\n"
     ]
    }
   ],
   "source": [
    "from sklearn.metrics import silhouette_score\n",
    "for n_cluster in range(2, 10):\n",
    "    kmeans = KMeans(n_clusters=n_cluster, random_state=0)\n",
    "    kmeans.fit(df_phase)\n",
    "    print(n_cluster, silhouette_score(df_phase, kmeans.labels_))"
   ]
  },
  {
   "cell_type": "markdown",
   "metadata": {},
   "source": [
    "conclusion: no es bueno, realmente."
   ]
  },
  {
   "cell_type": "markdown",
   "metadata": {},
   "source": [
    "#### **dinamic time-warping**"
   ]
  },
  {
   "cell_type": "code",
   "execution_count": 18,
   "metadata": {},
   "outputs": [
    {
     "ename": "MemoryError",
     "evalue": "Unable to allocate 275. MiB for an array with shape (6000, 6000) and data type float64",
     "output_type": "error",
     "traceback": [
      "\u001b[1;31m---------------------------------------------------------------------------\u001b[0m",
      "\u001b[1;31mMemoryError\u001b[0m                               Traceback (most recent call last)",
      "\u001b[1;32mc:\\Users\\consu\\OneDrive\\Documentos\\GitHub\\Tesis\\Notebooks\\dframes.ipynb Cell 23\u001b[0m line \u001b[0;36m<cell line: 4>\u001b[1;34m()\u001b[0m\n\u001b[0;32m      <a href='vscode-notebook-cell:/c%3A/Users/consu/OneDrive/Documentos/GitHub/Tesis/Notebooks/dframes.ipynb#X31sZmlsZQ%3D%3D?line=0'>1</a>\u001b[0m \u001b[39mfrom\u001b[39;00m \u001b[39mtslearn\u001b[39;00m\u001b[39m.\u001b[39;00m\u001b[39mclustering\u001b[39;00m \u001b[39mimport\u001b[39;00m TimeSeriesKMeans\n\u001b[0;32m      <a href='vscode-notebook-cell:/c%3A/Users/consu/OneDrive/Documentos/GitHub/Tesis/Notebooks/dframes.ipynb#X31sZmlsZQ%3D%3D?line=2'>3</a>\u001b[0m km \u001b[39m=\u001b[39m TimeSeriesKMeans(n_clusters\u001b[39m=\u001b[39m\u001b[39m3\u001b[39m, metric\u001b[39m=\u001b[39m\u001b[39m\"\u001b[39m\u001b[39mdtw\u001b[39m\u001b[39m\"\u001b[39m, max_iter\u001b[39m=\u001b[39m\u001b[39m5\u001b[39m, random_state\u001b[39m=\u001b[39m\u001b[39m0\u001b[39m)\n\u001b[1;32m----> <a href='vscode-notebook-cell:/c%3A/Users/consu/OneDrive/Documentos/GitHub/Tesis/Notebooks/dframes.ipynb#X31sZmlsZQ%3D%3D?line=3'>4</a>\u001b[0m km\u001b[39m.\u001b[39;49mfit(df_phase)\n",
      "File \u001b[1;32mc:\\Users\\consu\\AppData\\Local\\Programs\\Python\\Python310\\lib\\site-packages\\tslearn\\clustering\\kmeans.py:821\u001b[0m, in \u001b[0;36mTimeSeriesKMeans.fit\u001b[1;34m(self, X, y)\u001b[0m\n\u001b[0;32m    819\u001b[0m     \u001b[39mprint\u001b[39m(\u001b[39m\"\u001b[39m\u001b[39mInit \u001b[39m\u001b[39m%d\u001b[39;00m\u001b[39m\"\u001b[39m \u001b[39m%\u001b[39m (n_successful \u001b[39m+\u001b[39m \u001b[39m1\u001b[39m))\n\u001b[0;32m    820\u001b[0m n_attempts \u001b[39m+\u001b[39m\u001b[39m=\u001b[39m \u001b[39m1\u001b[39m\n\u001b[1;32m--> 821\u001b[0m \u001b[39mself\u001b[39;49m\u001b[39m.\u001b[39;49m_fit_one_init(X_, x_squared_norms, rs)\n\u001b[0;32m    822\u001b[0m \u001b[39mif\u001b[39;00m \u001b[39mself\u001b[39m\u001b[39m.\u001b[39minertia_ \u001b[39m<\u001b[39m min_inertia:\n\u001b[0;32m    823\u001b[0m     best_correct_centroids \u001b[39m=\u001b[39m \u001b[39mself\u001b[39m\u001b[39m.\u001b[39mcluster_centers_\u001b[39m.\u001b[39mcopy()\n",
      "File \u001b[1;32mc:\\Users\\consu\\AppData\\Local\\Programs\\Python\\Python310\\lib\\site-packages\\tslearn\\clustering\\kmeans.py:690\u001b[0m, in \u001b[0;36mTimeSeriesKMeans._fit_one_init\u001b[1;34m(self, X, x_squared_norms, rs)\u001b[0m\n\u001b[0;32m    688\u001b[0m \u001b[39mif\u001b[39;00m \u001b[39mself\u001b[39m\u001b[39m.\u001b[39mverbose:\n\u001b[0;32m    689\u001b[0m     \u001b[39mprint\u001b[39m(\u001b[39m\"\u001b[39m\u001b[39m%.3f\u001b[39;00m\u001b[39m\"\u001b[39m \u001b[39m%\u001b[39m \u001b[39mself\u001b[39m\u001b[39m.\u001b[39minertia_, end\u001b[39m=\u001b[39m\u001b[39m\"\u001b[39m\u001b[39m --> \u001b[39m\u001b[39m\"\u001b[39m)\n\u001b[1;32m--> 690\u001b[0m \u001b[39mself\u001b[39;49m\u001b[39m.\u001b[39;49m_update_centroids(X)\n\u001b[0;32m    692\u001b[0m \u001b[39mif\u001b[39;00m numpy\u001b[39m.\u001b[39mabs(old_inertia \u001b[39m-\u001b[39m \u001b[39mself\u001b[39m\u001b[39m.\u001b[39minertia_) \u001b[39m<\u001b[39m \u001b[39mself\u001b[39m\u001b[39m.\u001b[39mtol:\n\u001b[0;32m    693\u001b[0m     \u001b[39mbreak\u001b[39;00m\n",
      "File \u001b[1;32mc:\\Users\\consu\\AppData\\Local\\Programs\\Python\\Python310\\lib\\site-packages\\tslearn\\clustering\\kmeans.py:747\u001b[0m, in \u001b[0;36mTimeSeriesKMeans._update_centroids\u001b[1;34m(self, X)\u001b[0m\n\u001b[0;32m    745\u001b[0m \u001b[39mfor\u001b[39;00m k \u001b[39min\u001b[39;00m \u001b[39mrange\u001b[39m(\u001b[39mself\u001b[39m\u001b[39m.\u001b[39mn_clusters):\n\u001b[0;32m    746\u001b[0m     \u001b[39mif\u001b[39;00m \u001b[39mself\u001b[39m\u001b[39m.\u001b[39mmetric \u001b[39m==\u001b[39m \u001b[39m\"\u001b[39m\u001b[39mdtw\u001b[39m\u001b[39m\"\u001b[39m:\n\u001b[1;32m--> 747\u001b[0m         \u001b[39mself\u001b[39m\u001b[39m.\u001b[39mcluster_centers_[k] \u001b[39m=\u001b[39m dtw_barycenter_averaging(\n\u001b[0;32m    748\u001b[0m             X\u001b[39m=\u001b[39;49mX[\u001b[39mself\u001b[39;49m\u001b[39m.\u001b[39;49mlabels_ \u001b[39m==\u001b[39;49m k],\n\u001b[0;32m    749\u001b[0m             barycenter_size\u001b[39m=\u001b[39;49m\u001b[39mNone\u001b[39;49;00m,\n\u001b[0;32m    750\u001b[0m             init_barycenter\u001b[39m=\u001b[39;49m\u001b[39mself\u001b[39;49m\u001b[39m.\u001b[39;49mcluster_centers_[k],\n\u001b[0;32m    751\u001b[0m             metric_params\u001b[39m=\u001b[39;49mmetric_params,\n\u001b[0;32m    752\u001b[0m             verbose\u001b[39m=\u001b[39;49m\u001b[39mFalse\u001b[39;49;00m,\n\u001b[0;32m    753\u001b[0m         )\n\u001b[0;32m    754\u001b[0m     \u001b[39melif\u001b[39;00m \u001b[39mself\u001b[39m\u001b[39m.\u001b[39mmetric \u001b[39m==\u001b[39m \u001b[39m\"\u001b[39m\u001b[39msoftdtw\u001b[39m\u001b[39m\"\u001b[39m:\n\u001b[0;32m    755\u001b[0m         \u001b[39mself\u001b[39m\u001b[39m.\u001b[39mcluster_centers_[k] \u001b[39m=\u001b[39m softdtw_barycenter(\n\u001b[0;32m    756\u001b[0m             X\u001b[39m=\u001b[39mX[\u001b[39mself\u001b[39m\u001b[39m.\u001b[39mlabels_ \u001b[39m==\u001b[39m k],\n\u001b[0;32m    757\u001b[0m             max_iter\u001b[39m=\u001b[39m\u001b[39mself\u001b[39m\u001b[39m.\u001b[39mmax_iter_barycenter,\n\u001b[0;32m    758\u001b[0m             init\u001b[39m=\u001b[39m\u001b[39mself\u001b[39m\u001b[39m.\u001b[39mcluster_centers_[k],\n\u001b[0;32m    759\u001b[0m             \u001b[39m*\u001b[39m\u001b[39m*\u001b[39mmetric_params\n\u001b[0;32m    760\u001b[0m         )\n",
      "File \u001b[1;32mc:\\Users\\consu\\AppData\\Local\\Programs\\Python\\Python310\\lib\\site-packages\\tslearn\\barycenters\\dba.py:498\u001b[0m, in \u001b[0;36mdtw_barycenter_averaging\u001b[1;34m(X, barycenter_size, init_barycenter, max_iter, tol, weights, metric_params, verbose, n_init)\u001b[0m\n\u001b[0;32m    496\u001b[0m \u001b[39mif\u001b[39;00m verbose:\n\u001b[0;32m    497\u001b[0m     \u001b[39mprint\u001b[39m(\u001b[39m\"\u001b[39m\u001b[39mAttempt \u001b[39m\u001b[39m{}\u001b[39;00m\u001b[39m\"\u001b[39m\u001b[39m.\u001b[39mformat(i \u001b[39m+\u001b[39m \u001b[39m1\u001b[39m))\n\u001b[1;32m--> 498\u001b[0m bary, loss \u001b[39m=\u001b[39m dtw_barycenter_averaging_one_init(\n\u001b[0;32m    499\u001b[0m     X\u001b[39m=\u001b[39;49mX,\n\u001b[0;32m    500\u001b[0m     barycenter_size\u001b[39m=\u001b[39;49mbarycenter_size,\n\u001b[0;32m    501\u001b[0m     init_barycenter\u001b[39m=\u001b[39;49minit_barycenter,\n\u001b[0;32m    502\u001b[0m     max_iter\u001b[39m=\u001b[39;49mmax_iter,\n\u001b[0;32m    503\u001b[0m     tol\u001b[39m=\u001b[39;49mtol,\n\u001b[0;32m    504\u001b[0m     weights\u001b[39m=\u001b[39;49mweights,\n\u001b[0;32m    505\u001b[0m     metric_params\u001b[39m=\u001b[39;49mmetric_params,\n\u001b[0;32m    506\u001b[0m     verbose\u001b[39m=\u001b[39;49mverbose\n\u001b[0;32m    507\u001b[0m )\n\u001b[0;32m    508\u001b[0m \u001b[39mif\u001b[39;00m loss \u001b[39m<\u001b[39m best_cost:\n\u001b[0;32m    509\u001b[0m     best_cost \u001b[39m=\u001b[39m loss\n",
      "File \u001b[1;32mc:\\Users\\consu\\AppData\\Local\\Programs\\Python\\Python310\\lib\\site-packages\\tslearn\\barycenters\\dba.py:591\u001b[0m, in \u001b[0;36mdtw_barycenter_averaging_one_init\u001b[1;34m(X, barycenter_size, init_barycenter, max_iter, tol, weights, metric_params, verbose)\u001b[0m\n\u001b[0;32m    589\u001b[0m \u001b[39mfor\u001b[39;00m it \u001b[39min\u001b[39;00m \u001b[39mrange\u001b[39m(max_iter):\n\u001b[0;32m    590\u001b[0m     list_p_k, cost \u001b[39m=\u001b[39m _mm_assignment(X_, barycenter, weights, metric_params)\n\u001b[1;32m--> 591\u001b[0m     diag_sum_v_k, list_w_k \u001b[39m=\u001b[39m _mm_valence_warping(list_p_k, barycenter_size,\n\u001b[0;32m    592\u001b[0m                                                  weights)\n\u001b[0;32m    593\u001b[0m     \u001b[39mif\u001b[39;00m verbose:\n\u001b[0;32m    594\u001b[0m         \u001b[39mprint\u001b[39m(\u001b[39m\"\u001b[39m\u001b[39m[DBA] epoch \u001b[39m\u001b[39m%d\u001b[39;00m\u001b[39m, cost: \u001b[39m\u001b[39m%.3f\u001b[39;00m\u001b[39m\"\u001b[39m \u001b[39m%\u001b[39m (it \u001b[39m+\u001b[39m \u001b[39m1\u001b[39m, cost))\n",
      "File \u001b[1;32mc:\\Users\\consu\\AppData\\Local\\Programs\\Python\\Python310\\lib\\site-packages\\tslearn\\barycenters\\dba.py:303\u001b[0m, in \u001b[0;36m_mm_valence_warping\u001b[1;34m(list_p_k, barycenter_size, weights)\u001b[0m\n\u001b[0;32m    268\u001b[0m \u001b[39mdef\u001b[39;00m \u001b[39m_mm_valence_warping\u001b[39m(list_p_k, barycenter_size, weights):\n\u001b[0;32m    269\u001b[0m     \u001b[39m\"\"\"Compute Valence and Warping matrices from paths.\u001b[39;00m\n\u001b[0;32m    270\u001b[0m \n\u001b[0;32m    271\u001b[0m \u001b[39m    Valence matrices are denoted :math:`V^{(k)}` and Warping matrices are\u001b[39;00m\n\u001b[1;32m   (...)\u001b[0m\n\u001b[0;32m    301\u001b[0m \u001b[39m       Pattern Recognition, 74, 340-358.\u001b[39;00m\n\u001b[0;32m    302\u001b[0m \u001b[39m    \"\"\"\u001b[39;00m\n\u001b[1;32m--> 303\u001b[0m     list_v_k, list_w_k \u001b[39m=\u001b[39m _subgradient_valence_warping(\n\u001b[0;32m    304\u001b[0m         list_p_k\u001b[39m=\u001b[39;49mlist_p_k,\n\u001b[0;32m    305\u001b[0m         barycenter_size\u001b[39m=\u001b[39;49mbarycenter_size,\n\u001b[0;32m    306\u001b[0m         weights\u001b[39m=\u001b[39;49mweights)\n\u001b[0;32m    307\u001b[0m     diag_sum_v_k \u001b[39m=\u001b[39m numpy\u001b[39m.\u001b[39mzeros(list_v_k[\u001b[39m0\u001b[39m]\u001b[39m.\u001b[39mshape)\n\u001b[0;32m    308\u001b[0m     \u001b[39mfor\u001b[39;00m v_k \u001b[39min\u001b[39;00m list_v_k:\n",
      "File \u001b[1;32mc:\\Users\\consu\\AppData\\Local\\Programs\\Python\\Python310\\lib\\site-packages\\tslearn\\barycenters\\dba.py:260\u001b[0m, in \u001b[0;36m_subgradient_valence_warping\u001b[1;34m(list_p_k, barycenter_size, weights)\u001b[0m\n\u001b[0;32m    258\u001b[0m \u001b[39mfor\u001b[39;00m k, p_k \u001b[39min\u001b[39;00m \u001b[39menumerate\u001b[39m(list_p_k):\n\u001b[0;32m    259\u001b[0m     sz_k \u001b[39m=\u001b[39m p_k[\u001b[39m-\u001b[39m\u001b[39m1\u001b[39m][\u001b[39m1\u001b[39m] \u001b[39m+\u001b[39m \u001b[39m1\u001b[39m\n\u001b[1;32m--> 260\u001b[0m     w_k \u001b[39m=\u001b[39m numpy\u001b[39m.\u001b[39;49mzeros((barycenter_size, sz_k))\n\u001b[0;32m    261\u001b[0m     \u001b[39mfor\u001b[39;00m i, j \u001b[39min\u001b[39;00m p_k:\n\u001b[0;32m    262\u001b[0m         w_k[i, j] \u001b[39m=\u001b[39m \u001b[39m1.\u001b[39m\n",
      "\u001b[1;31mMemoryError\u001b[0m: Unable to allocate 275. MiB for an array with shape (6000, 6000) and data type float64"
     ]
    }
   ],
   "source": [
    "from tslearn.clustering import TimeSeriesKMeans\n",
    "\n",
    "km = TimeSeriesKMeans(n_clusters=3, metric=\"dtw\", max_iter=5, random_state=0)\n",
    "km.fit(df_phase)"
   ]
  },
  {
   "cell_type": "code",
   "execution_count": null,
   "metadata": {},
   "outputs": [],
   "source": []
  }
 ],
 "metadata": {
  "kernelspec": {
   "display_name": "Python 3",
   "language": "python",
   "name": "python3"
  },
  "language_info": {
   "codemirror_mode": {
    "name": "ipython",
    "version": 3
   },
   "file_extension": ".py",
   "mimetype": "text/x-python",
   "name": "python",
   "nbconvert_exporter": "python",
   "pygments_lexer": "ipython3",
   "version": "3.10.8"
  }
 },
 "nbformat": 4,
 "nbformat_minor": 2
}
