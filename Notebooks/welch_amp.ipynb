{
 "cells": [
  {
   "cell_type": "code",
   "execution_count": null,
   "metadata": {},
   "outputs": [],
   "source": [
    "%%HTML\n",
    "<script src = \"require.js\"></script>"
   ]
  },
  {
   "cell_type": "code",
   "execution_count": null,
   "metadata": {},
   "outputs": [],
   "source": [
    "\n",
    "import sys\n",
    "sys.path.append('../data')\n",
    "sys.path.append('../Librerias')\n",
    "\n",
    "import dataset as ds\n",
    "import utils\n",
    "import caract as dc\n",
    "\n",
    "\n",
    "import numpy as np\n",
    "import matplotlib.pyplot as plt\n",
    "import plotly.express as px\n",
    "import plotly.graph_objects as go\n",
    "import pandas as pd\n",
    "import seaborn as sns\n",
    "import copy\n",
    "\n",
    "from os import listdir\n",
    "from os.path import isfile, join\n",
    "\n",
    "import scipy.signal as signal\n",
    "import plotly.graph_objects as go\n",
    "import plotly.io as pio\n",
    "pio.renderers.default = \"notebook\"\n",
    "\n",
    "sns.set_style(\"darkgrid\")"
   ]
  },
  {
   "cell_type": "code",
   "execution_count": null,
   "metadata": {},
   "outputs": [],
   "source": [
    "#fpath = \"/Users/granosftp/Documents/GitHub/Tesis/data/high/\"\n",
    "fpath =  \"/Users/consu/OneDrive/Documentos/GitHub/Tesis/data/low/\"\n",
    "onlyfiles = [f for f in listdir(fpath) if isfile(join(fpath, f))]\n",
    "\n",
    "cutoff = [8/1000, 11/1000]\n"
   ]
  },
  {
   "cell_type": "markdown",
   "metadata": {},
   "source": [
    "## **frames**"
   ]
  },
  {
   "cell_type": "code",
   "execution_count": null,
   "metadata": {},
   "outputs": [],
   "source": [
    "#load data\n",
    "frames = []\n",
    "for fname in onlyfiles:\n",
    "    if fname.endswith(\".mat\"):\n",
    "        set =  ds.MatFileToDataFrame(fpath, fname)\n",
    "        df = set.get_dataframe(cutoff)\n",
    "        frames.append(df)\n",
    "        print(fname)"
   ]
  },
  {
   "cell_type": "code",
   "execution_count": null,
   "metadata": {},
   "outputs": [],
   "source": [
    "defectos_frames = []\n",
    "taus = []\n",
    "for i, df in enumerate(frames):\n",
    "    aux = dc.CaractDefect(df)\n",
    "    defectos_frames.append(aux)\n",
    "    taus.append(aux.get_tau()[1])\n",
    "    sys.stdout.write(str(i) + '\\r')"
   ]
  },
  {
   "cell_type": "code",
   "execution_count": null,
   "metadata": {},
   "outputs": [],
   "source": [
    "hilbert_frames = []\n",
    "for i, df in enumerate(defectos_frames):\n",
    "    aux, _ = df.get_hilbert()\n",
    "    hilbert_frames.append(aux)\n",
    "    sys.stdout.write(str(i) + '\\r')"
   ]
  },
  {
   "cell_type": "code",
   "execution_count": null,
   "metadata": {},
   "outputs": [],
   "source": [
    "# all frames\n",
    "frames_cd = []\n",
    "\n",
    "for i in range(len(frames)):\n",
    "    frames_cd.append(pd.merge(frames[i], hilbert_frames[i], on='Hilbert Transform', how='outer'))\n",
    "\n",
    "frames_cd[0]"
   ]
  },
  {
   "cell_type": "markdown",
   "metadata": {},
   "source": [
    "## **extracción de amplitudes**"
   ]
  },
  {
   "cell_type": "code",
   "execution_count": null,
   "metadata": {},
   "outputs": [],
   "source": [
    "# test con 1 archivo\n",
    "x = frames_cd[0]\n",
    "\n",
    "max = x['Amplitude'].max()\n",
    "num = [2, 10, 15, 20, 25, 30, 35, 40, 45, 50]\n"
   ]
  },
  {
   "cell_type": "code",
   "execution_count": null,
   "metadata": {},
   "outputs": [],
   "source": [
    "max*2/100"
   ]
  },
  {
   "cell_type": "code",
   "execution_count": null,
   "metadata": {},
   "outputs": [],
   "source": [
    "all_indx = []\n",
    "for elem in num:\n",
    "    aux = []\n",
    "    for i, amp in enumerate(x['Amplitude']):\n",
    "        if amp <= max*elem/100:\n",
    "            aux.append(i)\n",
    "    all_indx.append(aux)"
   ]
  },
  {
   "cell_type": "code",
   "execution_count": null,
   "metadata": {},
   "outputs": [],
   "source": [
    "len(all_indx[-1])"
   ]
  },
  {
   "cell_type": "code",
   "execution_count": null,
   "metadata": {},
   "outputs": [],
   "source": [
    "amplitudes = pd.DataFrame()\n",
    "\n",
    "for i, indx in enumerate(all_indx):\n",
    "    aux = x.drop(indx)\n",
    "    amplitudes[f'amp_{num[i]}'] = aux['Amplitude']\n",
    "    "
   ]
  },
  {
   "cell_type": "code",
   "execution_count": null,
   "metadata": {},
   "outputs": [],
   "source": [
    "\n",
    "fig = go.Figure()\n",
    "fig.add_trace(go.Scatter(x=x['Amplitude'].index, y=x['Amplitude'], name='Amplitud OG'))\n",
    "#fig.add_trace(go.Scatter(x = x['Amplitude'].index, y = Sxx*f**(5), name = 'f^(5/2)'))\n",
    "for i, elem in enumerate(amplitudes.columns):\n",
    "    fig.add_trace(go.Scatter(x=x['Amplitude'].index, y=amplitudes[elem], name=f'amp_{num[i]}'))\n",
    "\n",
    "fig.update_layout(\n",
    "    title = 'PSD',\n",
    "    xaxis_title='Frequency [Hz]',\n",
    "    yaxis_title='Spectrum [V RMS]',\n",
    "    legend_title='Legend'\n",
    ")\n",
    "\n",
    "fig.show()"
   ]
  },
  {
   "cell_type": "code",
   "execution_count": null,
   "metadata": {},
   "outputs": [],
   "source": [
    "f, Sxx = signal.welch(x['Amplitude'], fs = 1000, nperseg = 2000, scaling='spectrum', window='hamming')"
   ]
  },
  {
   "cell_type": "code",
   "execution_count": null,
   "metadata": {},
   "outputs": [],
   "source": [
    "welch = pd.DataFrame()\n",
    "#welch['freq'] = f\n",
    "#welch['OG'] = Sxx\n",
    "freqs = []\n",
    "for i, elem in enumerate(amplitudes.columns):\n",
    "    xx = amplitudes[elem].dropna()\n",
    "    f, welch[f'welch_{num[i]}'] = signal.welch(xx, fs =1000, nperseg = 2000, scaling = 'spectrum', window='hamming')\n",
    "    freqs.append(f)\n",
    "\n"
   ]
  },
  {
   "cell_type": "code",
   "execution_count": null,
   "metadata": {},
   "outputs": [],
   "source": [
    "fig = go.Figure()\n",
    "\n",
    "fig.add_trace(go.Scatter(x=f, y=Sxx*f**5, name='Amplitud OG'))\n",
    "fig.add_trace(go.Scatter(x = f, y = Sxx*f**(5), name = 'f^(5)'))\n",
    "for i, elem in enumerate(welch.columns):\n",
    "    fig.add_trace(go.Scatter(x=freqs[i], y=welch[elem]*f**5, name=f'amp_{num[i]}'))\n",
    "\n",
    "\n",
    "fig.update_layout(\n",
    "    title = 'PSD señal por Welch archivo 0',\n",
    "    xaxis_title='Frequency [Hz]',\n",
    "    yaxis_title='Spectrum [V RMS]',\n",
    "    legend_title='Legend'\n",
    ")\n",
    "\n",
    "fig.update_xaxes(type = 'log')\n",
    "fig.update_yaxes(type = 'log')\n",
    "\n",
    "fig.show()"
   ]
  },
  {
   "cell_type": "code",
   "execution_count": null,
   "metadata": {},
   "outputs": [],
   "source": [
    "fig = go.Figure()\n",
    "\n",
    "fig.add_trace(go.Scatter(x=f, y=Sxx*f**4, name='Amplitud OG'))\n",
    "fig.add_trace(go.Scatter(x = f, y = Sxx*f**(4), name = 'f^(4)'))\n",
    "for i, elem in enumerate(welch.columns):\n",
    "    fig.add_trace(go.Scatter(x=freqs[i], y=welch[elem]*f**4, name=f'amp_{num[i]}'))\n",
    "\n",
    "\n",
    "fig.update_layout(\n",
    "    title = 'PSD señal por Welch archivo 0',\n",
    "    xaxis_title='Frequency [Hz]',\n",
    "    yaxis_title='Spectrum [V RMS]',\n",
    "    legend_title='Legend'\n",
    ")\n",
    "\n",
    "fig.update_xaxes(type = 'log')\n",
    "fig.update_yaxes(type = 'log')\n",
    "\n",
    "fig.show()"
   ]
  },
  {
   "cell_type": "code",
   "execution_count": null,
   "metadata": {},
   "outputs": [],
   "source": [
    "#welch.to_csv('welch_amplitudes.csv')"
   ]
  }
 ],
 "metadata": {
  "kernelspec": {
   "display_name": "Python 3",
   "language": "python",
   "name": "python3"
  },
  "language_info": {
   "codemirror_mode": {
    "name": "ipython",
    "version": 3
   },
   "file_extension": ".py",
   "mimetype": "text/x-python",
   "name": "python",
   "nbconvert_exporter": "python",
   "pygments_lexer": "ipython3",
   "version": "3.10.8"
  }
 },
 "nbformat": 4,
 "nbformat_minor": 2
}
