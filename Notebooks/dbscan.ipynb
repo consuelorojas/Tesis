{
 "cells": [
  {
   "cell_type": "code",
   "execution_count": 1,
   "metadata": {},
   "outputs": [],
   "source": [
    "# For data manipulation\n",
    "import numpy as np\n",
    "import pandas as pd\n",
    "\n",
    "# For visualizing the data\n",
    "import matplotlib.pyplot as plt\n",
    "import seaborn as sns\n",
    "sns.set_style('darkgrid')\n",
    "\n",
    "# For data preprocessing\n",
    "from sklearn.preprocessing import StandardScaler\n",
    "from sklearn.preprocessing import normalize\n",
    "\n",
    "# For building the model\n",
    "from sklearn.decomposition import PCA\n",
    "from sklearn.cluster import DBSCAN\n",
    "from sklearn import metrics\n",
    "\n",
    "import sys\n",
    "sys.path.append('../Librerias')\n",
    "import dataset as ds\n",
    "#no sé porqué no funciona cuando lo tengo en la carpeta de clusters\n",
    "#pero si funciona cuando esta solo en la de notebooks,,, raro."
   ]
  },
  {
   "cell_type": "code",
   "execution_count": 3,
   "metadata": {},
   "outputs": [
    {
     "data": {
      "text/html": [
       "<div>\n",
       "<style scoped>\n",
       "    .dataframe tbody tr th:only-of-type {\n",
       "        vertical-align: middle;\n",
       "    }\n",
       "\n",
       "    .dataframe tbody tr th {\n",
       "        vertical-align: top;\n",
       "    }\n",
       "\n",
       "    .dataframe thead th {\n",
       "        text-align: right;\n",
       "    }\n",
       "</style>\n",
       "<table border=\"1\" class=\"dataframe\">\n",
       "  <thead>\n",
       "    <tr style=\"text-align: right;\">\n",
       "      <th></th>\n",
       "      <th>Original Signal</th>\n",
       "      <th>Signal - Mean</th>\n",
       "      <th>Filtered Signal</th>\n",
       "      <th>Hilbert Transform</th>\n",
       "    </tr>\n",
       "  </thead>\n",
       "  <tbody>\n",
       "    <tr>\n",
       "      <th>599995</th>\n",
       "      <td>5.210999</td>\n",
       "      <td>-0.843661</td>\n",
       "      <td>0.069585</td>\n",
       "      <td>0.069585-0.132793j</td>\n",
       "    </tr>\n",
       "    <tr>\n",
       "      <th>599996</th>\n",
       "      <td>5.063692</td>\n",
       "      <td>-0.990968</td>\n",
       "      <td>0.060563</td>\n",
       "      <td>0.060563-0.138313j</td>\n",
       "    </tr>\n",
       "    <tr>\n",
       "      <th>599997</th>\n",
       "      <td>5.012726</td>\n",
       "      <td>-1.041933</td>\n",
       "      <td>0.051953</td>\n",
       "      <td>0.051953-0.184710j</td>\n",
       "    </tr>\n",
       "    <tr>\n",
       "      <th>599998</th>\n",
       "      <td>4.868050</td>\n",
       "      <td>-1.186610</td>\n",
       "      <td>0.043813</td>\n",
       "      <td>0.043813-0.194678j</td>\n",
       "    </tr>\n",
       "    <tr>\n",
       "      <th>599999</th>\n",
       "      <td>4.806563</td>\n",
       "      <td>-1.248097</td>\n",
       "      <td>0.036202</td>\n",
       "      <td>0.036202-0.326891j</td>\n",
       "    </tr>\n",
       "  </tbody>\n",
       "</table>\n",
       "</div>"
      ],
      "text/plain": [
       "        Original Signal  Signal - Mean  Filtered Signal   Hilbert Transform\n",
       "599995         5.210999      -0.843661         0.069585  0.069585-0.132793j\n",
       "599996         5.063692      -0.990968         0.060563  0.060563-0.138313j\n",
       "599997         5.012726      -1.041933         0.051953  0.051953-0.184710j\n",
       "599998         4.868050      -1.186610         0.043813  0.043813-0.194678j\n",
       "599999         4.806563      -1.248097         0.036202  0.036202-0.326891j"
      ]
     },
     "execution_count": 3,
     "metadata": {},
     "output_type": "execute_result"
    }
   ],
   "source": [
    "#load data\n",
    "\n",
    "fpath = \"/Users/granosftp/Documents/GitHub/Tesis/data/\"\n",
    "fname = \"datosconsu_021023_bajos.mat\"\n",
    "cutoff = [9/1000, 15/1000]\n",
    "\n",
    "set =  ds.MatFileToDataFrame(fpath, fname)\n",
    "df = set.get_dataframe(cutoff)\n",
    "df.tail()"
   ]
  }
 ],
 "metadata": {
  "kernelspec": {
   "display_name": "Python 3",
   "language": "python",
   "name": "python3"
  },
  "language_info": {
   "codemirror_mode": {
    "name": "ipython",
    "version": 3
   },
   "file_extension": ".py",
   "mimetype": "text/x-python",
   "name": "python",
   "nbconvert_exporter": "python",
   "pygments_lexer": "ipython3",
   "version": "3.12.0"
  }
 },
 "nbformat": 4,
 "nbformat_minor": 2
}
