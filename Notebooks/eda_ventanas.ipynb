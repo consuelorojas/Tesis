{
 "cells": [
  {
   "cell_type": "markdown",
   "metadata": {},
   "source": [
    "# **EDA defectos**"
   ]
  },
  {
   "cell_type": "code",
   "execution_count": null,
   "metadata": {},
   "outputs": [],
   "source": [
    "%%HTML\n",
    "<script src = \"require.js\"></script>"
   ]
  },
  {
   "cell_type": "code",
   "execution_count": null,
   "metadata": {},
   "outputs": [],
   "source": [
    "import numpy as np\n",
    "import matplotlib.pyplot as plt\n",
    "import plotly.express as px\n",
    "import plotly.io as pio\n",
    "import pandas as pd\n",
    "import seaborn as sns\n",
    "\n",
    "# scipy stuff \n",
    "import scipy.signal as signal\n",
    "from scipy.fft import fft, rfft\n",
    "from scipy.fft import fftfreq, rfftfreq\n",
    "\n",
    "import plotly.graph_objects as go\n",
    "\n",
    "pio.renderers.default = \"notebook\"\n",
    "\n",
    "# Librerias propias\n",
    "import sys\n",
    "sys.path.append('../Librerias')\n",
    "import dataset as ds\n",
    "import similaritymeasures\n",
    "\n",
    "\n",
    "sns.set_style(\"darkgrid\")"
   ]
  },
  {
   "cell_type": "code",
   "execution_count": null,
   "metadata": {},
   "outputs": [],
   "source": [
    "\n",
    "fpath = \"/Users/granosftp/Documents/GitHub/Tesis/data/\"\n",
    "#fpath = \"/Users/consu/OneDrive/Documentos/GitHub/Tesis/data/\"\n",
    "fname = \"datosconsu_021023_bajos.mat\"\n",
    "cutoff = [8/1000, 11/1000]\n",
    "\n",
    "set =  ds.MatFileToDataFrame(fpath, fname)\n",
    "df = set.get_dataframe(cutoff)\n",
    "df.tail()"
   ]
  },
  {
   "cell_type": "code",
   "execution_count": null,
   "metadata": {},
   "outputs": [],
   "source": [
    "amplitude_env = np.abs(df['Hilbert Transform'])\n",
    "inst_phase =  np.unwrap(np.angle(df['Hilbert Transform']))\n",
    "inst_freq = (np.diff(inst_phase)/(2.0*np.pi)*1000)\n",
    "diff_phase =  np.diff(inst_phase)\n",
    "mean_phase = np.mean(diff_phase)\n",
    "diff_phase = np.insert(diff_phase, 0, 0)  "
   ]
  },
  {
   "cell_type": "code",
   "execution_count": null,
   "metadata": {},
   "outputs": [],
   "source": [
    "df['Amplitude Envelope'] = amplitude_env\n",
    "df['Instantaneous Phase'] = inst_phase"
   ]
  },
  {
   "cell_type": "code",
   "execution_count": null,
   "metadata": {},
   "outputs": [],
   "source": [
    "# filtro gradiente de fase\n",
    "\n",
    "cutoff = 0.1\n",
    "order = 4\n",
    "\n",
    "b,a = signal.butter(order, cutoff, btype='low')\n",
    "grad_phase = signal.filtfilt(b, a, diff_phase-mean_phase)\n",
    "\n",
    "df['Gradient Phase'] = grad_phase"
   ]
  },
  {
   "cell_type": "code",
   "execution_count": null,
   "metadata": {},
   "outputs": [],
   "source": [
    "df.head()"
   ]
  },
  {
   "cell_type": "markdown",
   "metadata": {},
   "source": [
    "### **Señal Original**\n",
    "\n",
    "Se buscan las frecuencias características de la señal. Se sabe que la fuente vibra a 20Hz y que la frecuencia más predominante será su sub-armonico a 10 Hz. Buscamos corroborar esto y ver si hay otras frecuencias interesantes."
   ]
  },
  {
   "cell_type": "code",
   "execution_count": null,
   "metadata": {},
   "outputs": [],
   "source": [
    "mean_signal = df['Signal - Mean'].values\n",
    "sig_fft = fft(mean_signal)\n",
    "N = len(mean_signal)\n",
    "sampling_rate = 1000.0\n",
    "normalize =  N/2.0\n",
    "\n",
    "freq_axis = fftfreq(N, d=1.0/sampling_rate)\n",
    "norm_amplitude = np.abs(sig_fft)/normalize"
   ]
  },
  {
   "cell_type": "code",
   "execution_count": null,
   "metadata": {},
   "outputs": [],
   "source": [
    "fig = go.Figure()\n",
    "fig.add_trace(go.Scatter(x = freq_axis, y = norm_amplitude, mode = 'lines'))\n",
    "fig.update_layout(title = 'Espectro de amplitud', xaxis_title = 'Frecuencia [Hz]', yaxis_title = 'Amplitud')\n",
    "fig.update_xaxes(range=[0, 50])\n",
    "fig.show()"
   ]
  },
  {
   "cell_type": "code",
   "execution_count": null,
   "metadata": {},
   "outputs": [],
   "source": [
    "fig = go.Figure()\n",
    "fig.add_trace(go.Scatter(x=freq_axis, y=norm_amplitude, mode='lines'))\n",
    "fig.update_xaxes(type = 'log')\n",
    "fig.update_yaxes(type = 'log')\n",
    "fig.update_layout(title='Signal Spectrum', xaxis_title='Frequency [Hz]', yaxis_title='Amplitude')\n",
    "fig.show()\n"
   ]
  },
  {
   "cell_type": "markdown",
   "metadata": {},
   "source": [
    "Se ve claramente el sub-armonico seguido por el peak del armonico. Por lo que se puede decir que la señal tiene dos frecuencias características que corresponden \n",
    "a 0.1s y 0.05s respectivamente, en periodos, esto implica que la señal principal se presenta cada 100 muestras y la secundaria cada 50."
   ]
  },
  {
   "cell_type": "markdown",
   "metadata": {},
   "source": [
    "## **Señal Filtrada**\n",
    "\n",
    "Para hacer los calculos de Hilbert, se filtra la señal con un cutoff especificado al momento de generar el dataframe. En este caso es de [8Hz, 11Hz]. Esto se hace para eliminar el ruido de alta frecuencia que no nos interesa. Por lo mismo, en esta señal se debería encontrar el subarmonico que corresponde a los 10Hz como componente principal.\n"
   ]
  },
  {
   "cell_type": "code",
   "execution_count": null,
   "metadata": {},
   "outputs": [],
   "source": [
    "filtered_signal = df['Filtered Signal'].values\n",
    "\n",
    "sig_fft = np.fft.fft(filtered_signal)\n",
    "N = len(filtered_signal)\n",
    "normalize = N/2.0\n",
    "\n",
    "freq_axis = fftfreq(N, d=1.0/sampling_rate)\n",
    "norm_amplitude = np.abs(sig_fft)/normalize"
   ]
  },
  {
   "cell_type": "code",
   "execution_count": null,
   "metadata": {},
   "outputs": [],
   "source": [
    "fig = go.Figure()\n",
    "fig.add_trace(go.Scatter(x = freq_axis, y = norm_amplitude, mode = 'lines'))\n",
    "fig.update_layout(title = 'Espectro de amplitud', xaxis_title = 'Frecuencia [Hz]', yaxis_title = 'Amplitud')\n",
    "fig.update_xaxes(range=[0, 15])\n",
    "fig.show()"
   ]
  },
  {
   "cell_type": "code",
   "execution_count": null,
   "metadata": {},
   "outputs": [],
   "source": [
    "fig = go.Figure()\n",
    "fig.add_trace(go.Scatter(x=freq_axis, y=norm_amplitude, mode='lines'))\n",
    "fig.update_xaxes(type = 'log')\n",
    "fig.update_yaxes(type = 'log')\n",
    "fig.update_layout(title='Signal Spectrum', xaxis_title='Frequency [Hz]', yaxis_title='Amplitude')\n",
    "fig.show()"
   ]
  },
  {
   "cell_type": "markdown",
   "metadata": {},
   "source": [
    "Se ve el peak de la onda de faraday  alos 10Hz y se puede ver que existe ruido a una frecuencia cercana a los 4.5Hz."
   ]
  },
  {
   "cell_type": "markdown",
   "metadata": {},
   "source": [
    "## **Onda Envolvente**"
   ]
  },
  {
   "cell_type": "code",
   "execution_count": null,
   "metadata": {},
   "outputs": [],
   "source": [
    "print(f'Mínima amplitude envolventes: \\t{np.min(np.abs(df[\"Amplitude Envelope\"]))}')\n",
    "print(f'Máxima amplitude envolventes: \\t{np.max(np.abs(df[\"Amplitude Envelope\"]))}')\n",
    "print(f'STD amplitude envolventes: \\t{np.std(np.abs(df[\"Amplitude Envelope\"]))} \\n')\n",
    "\n",
    "print(f'Mínima gradiente de fase: \\t{np.min(df[\"Gradient Phase\"])}')\n",
    "print(f'Máxima gradiente de fase: \\t{np.max(df[\"Gradient Phase\"])}')\n",
    "print(f'STD gradiente de fase: \\t{np.std(df[\"Gradient Phase\"])} \\n')"
   ]
  },
  {
   "cell_type": "code",
   "execution_count": null,
   "metadata": {},
   "outputs": [],
   "source": [
    "# Fourier Transform for AE\n",
    "fourier = fft(df['Amplitude Envelope'].values)\n",
    "N = len(df['Amplitude Envelope'])\n",
    "sampling_rate = 1000.0\n",
    "normalize = N/2.0\n",
    "\n",
    "frequency_axis = fftfreq(N, d=1.0/sampling_rate)\n",
    "norm_amplitude = np.abs(fourier)/normalize"
   ]
  },
  {
   "cell_type": "code",
   "execution_count": null,
   "metadata": {},
   "outputs": [],
   "source": [
    "fig = go.Figure()\n",
    "fig.add_trace(go.Scatter(x=frequency_axis, y=norm_amplitude, mode='lines'))\n",
    "fig.update_xaxes(range=[-2, 2])\n",
    "fig.update_layout(title='Close Up spectrum for AE', xaxis_title='Frequency [Hz]', yaxis_title='Amplitude')\n",
    "fig.show()"
   ]
  },
  {
   "cell_type": "code",
   "execution_count": null,
   "metadata": {},
   "outputs": [],
   "source": [
    "# loglog plot for AE spectrum\n",
    "\n",
    "fig = go.Figure()\n",
    "fig.add_trace(go.Scatter(x=frequency_axis, y=norm_amplitude, mode='lines'))\n",
    "fig.update_xaxes(type = 'log')\n",
    "fig.update_yaxes(type = 'log')\n",
    "fig.update_layout(title='Close Up spectrum for AE', xaxis_title='Frequency [Hz]', yaxis_title='Amplitude')\n",
    "fig.show()\n"
   ]
  },
  {
   "cell_type": "markdown",
   "metadata": {},
   "source": [
    "Peaks de frecuencia se encuentran en los 10Hz, que es residuo de Faraday. Presenta otro peak cerca de los 4.8Hz, residual del ruido no eliminado de Faraday y componentes entre los 0.01 y 0.1Hz."
   ]
  },
  {
   "cell_type": "code",
   "execution_count": null,
   "metadata": {},
   "outputs": [],
   "source": [
    "#filtro pasa baja de 4Hz\n",
    "cutoff_amp = 7/1000\n",
    "a, b = signal.butter(4, cutoff_amp , btype='high')\n",
    "c, d = signal.butter(4, cutoff_amp, btype = 'low')\n",
    "amp_filtered =  signal.filtfilt(a, b, df['Amplitude Envelope'].values)\n",
    "amp_filtered2 = signal.filtfilt(c, d, df['Amplitude Envelope'].values)"
   ]
  },
  {
   "cell_type": "code",
   "execution_count": null,
   "metadata": {},
   "outputs": [],
   "source": [
    "fourier = fft(amp_filtered)\n",
    "N = len(amp_filtered)\n",
    "sampling_rate = 1000.0\n",
    "normalize = N/2.0\n",
    "\n",
    "frequency_axis = fftfreq(N, d=1.0/sampling_rate)\n",
    "norm_amplitude = np.abs(fourier)/normalize"
   ]
  },
  {
   "cell_type": "code",
   "execution_count": null,
   "metadata": {},
   "outputs": [],
   "source": [
    "fig = go.Figure()\n",
    "fig.add_trace(go.Scatter(x=frequency_axis, y=norm_amplitude, mode='lines'))\n",
    "#fig.update_xaxes(range=[-1, 1])\n",
    "fig.update_xaxes(type = 'log')\n",
    "fig.update_yaxes(type = 'log')\n",
    "fig.update_layout(title='Espectro AE filtrado', xaxis_title='Frequency [Hz]', yaxis_title='Amplitude')\n",
    "fig.show()"
   ]
  },
  {
   "cell_type": "markdown",
   "metadata": {},
   "source": [
    "En caso de estos puntos ser significativos, indican que la señal presenta un componente con frecuencias entre 0.001 a 0.1Hz que corresponden a periodos de 1000 a 10 segundos. Esto implica que tienen ciclos cada $10^6$ y $10^4$ muestras respectivamente.\n"
   ]
  },
  {
   "cell_type": "markdown",
   "metadata": {},
   "source": [
    "### **amplitud mínima**"
   ]
  },
  {
   "cell_type": "code",
   "execution_count": null,
   "metadata": {},
   "outputs": [],
   "source": [
    "min_amp = np.min(np.abs(df[\"Amplitude Envelope\"]))\n",
    "\n",
    "#30 es un valor arbitrario dado que esa es la cantidad de señales que sé que puedo reconocer a simple vista\n",
    "indices = df[df['Amplitude Envelope'] < min_amp*30].index\n",
    "len(indices)"
   ]
  },
  {
   "cell_type": "code",
   "execution_count": null,
   "metadata": {},
   "outputs": [],
   "source": [
    "#función para eliminar los indices consecutivos de un arreglo\n",
    "def delete_consecutivos(array):\n",
    "    output = []\n",
    "    for i in range(len(array)):\n",
    "        if i == 0:\n",
    "            output.append(array[i])\n",
    "        else:\n",
    "            if array[i] != array[i-1]+1:\n",
    "                output.append(array[i])\n",
    "    return output\n"
   ]
  },
  {
   "cell_type": "code",
   "execution_count": null,
   "metadata": {},
   "outputs": [],
   "source": [
    "#indices = delete_consecutivos(indices)\n",
    "len(indices)"
   ]
  },
  {
   "cell_type": "markdown",
   "metadata": {},
   "source": [
    "## **peaks en gradiente fase**"
   ]
  },
  {
   "cell_type": "code",
   "execution_count": null,
   "metadata": {},
   "outputs": [],
   "source": [
    "peaks, peak_info = signal.find_peaks(np.abs(diff_phase-mean_phase), [0, 5.0], threshold = 0, width = [0, 100] , prominence = 0,\n",
    "                                     plateau_size=None, distance=100)\n",
    "\n",
    "print(f'Nº de peaks: \\t {len(peaks)}')\n",
    "print(f'Amplitud promedio: \\t {np.mean(peak_info[\"peak_heights\"])}')\n",
    "print(f'Amplitud máxima: \\t {np.max(peak_info[\"peak_heights\"])}')\n",
    "print(f'Amplitud mínima: \\t {np.min(peak_info[\"peak_heights\"])}')\n",
    "print(f'Amplitud STD: \\t {np.std(peak_info[\"peak_heights\"])}')"
   ]
  },
  {
   "cell_type": "markdown",
   "metadata": {},
   "source": [
    "notar que la desviación estándar es muy grande, es cercano al 200 veces la amplitud mínima. Por lo que no es un buen indicador en como estan repartidos los peaks."
   ]
  },
  {
   "cell_type": "markdown",
   "metadata": {},
   "source": [
    "Argumentos:\n",
    "\n",
    "* **Threshold** de 0, es la distancia vertical a al vecino vertical más cercano. Se elije este número porque es el mínimo posible y con esto, se puede acceder a la información que da esta opción.\n",
    "* **Width** de 0 a 100 es el ancho de la ventana de búsqueda de picos. Se elijen estos números por la frecuencia de sampleo.\n",
    "* **Distance** de 0 a 100 es la distancia mínima entre picos. Se elijen estos números por la frecuencia de sampleo.\n",
    "* **Prominence** de 0, prominencia de pico. Es el valor mínimo posible y se elije para acceder a la información que da esta opción.\n",
    "* **Height** de 0.01 a 5.0, altura en la que se encuentran los picos. La gran mayoría de los defectos reconocibles a simplevista tienen alturas superiores a 0.01.\n",
    "* **Plateau size** no se utiliza, dado que no se buscan plataformas en la señal."
   ]
  },
  {
   "cell_type": "code",
   "execution_count": null,
   "metadata": {},
   "outputs": [],
   "source": [
    "peak_info.keys()"
   ]
  },
  {
   "cell_type": "markdown",
   "metadata": {},
   "source": [
    "### **intersección amplitud y peaks**"
   ]
  },
  {
   "cell_type": "code",
   "execution_count": null,
   "metadata": {},
   "outputs": [],
   "source": [
    "intersection = np.intersect1d(indices, peaks, assume_unique=False, return_indices=False)\n",
    "len(intersection)"
   ]
  },
  {
   "cell_type": "code",
   "execution_count": null,
   "metadata": {},
   "outputs": [],
   "source": [
    "for k, i in enumerate(intersection[:3]):\n",
    "   fig =  go.Figure()\n",
    "   fig.add_trace(go.Scatter(x = df.index[i-500:i+500], y = amp_filtered[i-500:i+500], name='AE Filtrada'))#, line_shape='linear'))\n",
    "   fig.add_trace(go.Scatter(x = df.index[i-500:i+500], y = np.abs(df['Gradient Phase'][i-500:i+500]), name='Instantaneous Phase'))#, line_shape = 'linear'))\n",
    "   fig.add_trace(go.Scatter(x = df.index[i-500:i+500], y = (df['Filtered Signal'][i-500:i+500]), name='Filtered Signal'))#, line_shape = 'linear'))']))\n",
    "   fig.add_trace(go.Scatter(x = df.index[i-500:i+500], y = df['Amplitude Envelope'][i-500:i+500], name='AE'))#, line_shape='linear'))\n",
    "   fig.add_trace(go.Scatter(x = df.index[i-500:i+500], y = amp_filtered2[i-500:i+500], name='AE Filtrada2'))\n",
    "   fig.update_layout(title = f'Peak indice {i}, curva {k}')\n",
    "   fig.show()\n"
   ]
  },
  {
   "cell_type": "markdown",
   "metadata": {},
   "source": [
    "Componente de 10Hz genera los pasos por cero. Las frecuencias menores tienen efectos en la amplitud de la envolvente y que esta vaya oscilando lejos del origen."
   ]
  },
  {
   "cell_type": "code",
   "execution_count": null,
   "metadata": {},
   "outputs": [],
   "source": [
    "for k, i in enumerate(intersection):\n",
    "   fig =  go.Figure()\n",
    "   fig.add_trace(go.Scatter(x = df.index[i-500:i+500], y = df['Amplitude Envelope'][i-500:i+500], name='Amplitude Envelope'))#, line_shape='linear'))\n",
    "   fig.add_trace(go.Scatter(x = df.index[i-500:i+500], y = np.abs(df['Gradient Phase'][i-500:i+500]), name='Instantaneous Phase'))#, line_shape = 'linear'))\n",
    "   fig.add_trace(go.Scatter(x = df.index[i-500:i+500], y = (df['Filtered Signal'][i-500:i+500]), name='Filtered Signal'))#, line_shape = 'linear'))']))\n",
    "   fig.update_layout(title = f'Peak indice {i}, curva {k}')\n",
    "   fig.show()"
   ]
  },
  {
   "cell_type": "markdown",
   "metadata": {},
   "source": [
    "#### **prominence**"
   ]
  },
  {
   "cell_type": "code",
   "execution_count": null,
   "metadata": {},
   "outputs": [],
   "source": [
    "# busco prominences de los peaks que salieron de la intersección\n",
    "info_prominence = signal.peak_prominences(np.abs(diff_phase-mean_phase), intersection, wlen=None)[0]\n",
    "contour_heights = np.abs(info_prominence - df['Gradient Phase'][intersection])\n"
   ]
  },
  {
   "cell_type": "code",
   "execution_count": null,
   "metadata": {},
   "outputs": [],
   "source": [
    "plt.figure(figsize=(20, 6))\n",
    "plt.plot(df.index, np.abs(df['Gradient Phase']), label='Gradient Phase')\n",
    "plt.scatter(intersection, np.abs(df['Gradient Phase'][intersection]), marker='x', label='defectos', color = 'violet', alpha = 0.5)\n",
    "#plt.plot(df.index, df['Amplitude Envelope'], label='Amplitude Envelope')\n",
    "plt.vlines(intersection, ymin = contour_heights, ymax = df['Gradient Phase'][intersection], label='Contour Heights', color = 'grey', linestyles='dashed', alpha = 0.5)\n",
    "plt.title('Prominences')\n",
    "plt.legend()\n",
    "plt.show()\n",
    "\n"
   ]
  },
  {
   "cell_type": "code",
   "execution_count": null,
   "metadata": {},
   "outputs": [],
   "source": [
    "fig = go.Figure()\n",
    "fig.add_trace(go.Scatter(x=df.index, y=df['Gradient Phase'], name='Gradient Phase'))\n",
    "fig.add_trace(go.Scatter(x=intersection, y=df['Gradient Phase'][intersection], mode='markers', name = 'defectos'))\n",
    "fig.add_trace(go.Scatter(x = df.index, y = df['Amplitude Envelope'], name = 'Amplitude Envelope'))\n",
    "fig.add_trace(go.Scatter(x=intersection, y=contour_heights, mode='markers', name='Contour Heights'))\n",
    "fig.update_layout(title='Prominences')\n",
    "fig.show()\n",
    "\n"
   ]
  },
  {
   "cell_type": "markdown",
   "metadata": {},
   "source": [
    "#### **width**"
   ]
  },
  {
   "cell_type": "code",
   "execution_count": null,
   "metadata": {},
   "outputs": [],
   "source": [
    "widths = signal.peak_widths(np.abs(diff_phase-mean_phase), intersection, rel_height=0.5)\n",
    "\n",
    "print(f'Ancho promedio: \\t {np.mean(widths[0])}')\n",
    "print(f'Media anchos: \\t {np.median(widths[0])}')\n",
    "print(f'Ancho máximo: \\t {np.max(widths[0])}')\n",
    "print(f'Ancho mínimo: \\t {np.min(widths[0])}')\n",
    "print(f'Ancho STD: \\t {np.std(widths[0])}')\n"
   ]
  },
  {
   "cell_type": "code",
   "execution_count": null,
   "metadata": {},
   "outputs": [],
   "source": [
    "min_width_index = np.argmin(widths[0])\n",
    "max_width_index = np.argmax(widths[0])\n",
    "\n",
    "min_width_peak = intersection[min_width_index]\n",
    "max_width_peak = intersection[max_width_index]\n",
    "\n",
    "print(\"Peak with minimum width:\", min_width_peak)\n",
    "print(\"Peak with maximum width:\", max_width_peak)\n"
   ]
  },
  {
   "cell_type": "markdown",
   "metadata": {},
   "source": [
    "### **ventanas con peaks**"
   ]
  },
  {
   "cell_type": "code",
   "execution_count": null,
   "metadata": {},
   "outputs": [],
   "source": [
    "defectos = []\n",
    "for i in intersection:\n",
    "    defectos.append(df.iloc[i-25:i+25])\n",
    "\n",
    "defectos[-1].tail()"
   ]
  },
  {
   "cell_type": "code",
   "execution_count": null,
   "metadata": {},
   "outputs": [],
   "source": [
    "anchos = []\n",
    "for elem in defectos:\n",
    "\n",
    "    subset = np.abs(elem['Gradient Phase'].values)\n",
    "    min1 = np.min(subset[:25])\n",
    "    index1 = np.where(subset[:25] == min1)[0][0]\n",
    "\n",
    "    min2 =  np.min(subset[25:])\n",
    "    index2 = np.where(subset[25:] == min2)[0][0]\n",
    "    index2 = index2+24\n",
    "    anchos.append([index1, index2])"
   ]
  },
  {
   "cell_type": "code",
   "execution_count": null,
   "metadata": {},
   "outputs": [],
   "source": [
    "#HACER A MANO.\n",
    "anchos"
   ]
  },
  {
   "cell_type": "markdown",
   "metadata": {},
   "source": [
    "#### **tiempos**\n"
   ]
  },
  {
   "cell_type": "markdown",
   "metadata": {},
   "source": [
    "Para obtener el ancho se hace de manera manual. Los siguientes indices presentan curvas fuera de lo normal para defectos, por lo que estos seran revisados a parte.\n",
    "* Indices: [10, 22, 24, 26, 27, 28, 33, 34]\n"
   ]
  },
  {
   "cell_type": "code",
   "execution_count": null,
   "metadata": {},
   "outputs": [],
   "source": [
    "manual_width = [\n",
    "    [275, 310],\n",
    "    [723, 748],\n",
    "    [514, 550],\n",
    "    [566, 589],\n",
    "    [359, 388],\n",
    "    [104, 130],\n",
    "    [938, 965],\n",
    "    [942, 962],\n",
    "    [286, 311],\n",
    "    [638, 664],\n",
    "    [0,0], #defecto 10, será eliminado\n",
    "    [224, 246],\n",
    "    [383, 409],\n",
    "    [118, 151], #posible no defecto\n",
    "    [800, 835],\n",
    "    [267, 296],\n",
    "    [968, 993],\n",
    "    [700, 733],\n",
    "    [884, 905],\n",
    "    [915, 938],\n",
    "    [604, 633],\n",
    "    [319, 339],\n",
    "    [410, 450], #no defecto? solo muy simetrica,,,\n",
    "    [543, 566],\n",
    "    [670, 750], #no defecto\n",
    "    [207, 229],\n",
    "    [650, 700], #no defecto\n",
    "    [477930, 478000], #no defecto\n",
    "    [120, 157], #no defecto\n",
    "    [870, 891],\n",
    "    [120, 153],\n",
    "    [857, 887],\n",
    "    [200, 236],\n",
    "    [130, 200], #no defecto\n",
    "    [880, 947], #no defecto\n",
    "    [990, 1014], #defecto doble\n",
    "    [748, 771] #defecto doble\n",
    "]\n",
    "\n",
    "no_defectos = [10, 22, 27, 30,33]\n",
    "copy_manual_width = manual_width.copy()\n",
    "manual_width = np.delete(manual_width, no_defectos, axis=0)"
   ]
  },
  {
   "cell_type": "code",
   "execution_count": null,
   "metadata": {},
   "outputs": [],
   "source": [
    "manual_width = np.array(manual_width)\n",
    "manual_width.shape"
   ]
  },
  {
   "cell_type": "code",
   "execution_count": null,
   "metadata": {},
   "outputs": [],
   "source": [
    "# se revisan los elementos de manual_width que no son defectos\n",
    "for indice in no_defectos:\n",
    "    fig = go.Figure()\n",
    "    fig.add_trace(go.Scatter(x=defectos[indice].index, y=defectos[indice]['Gradient Phase'], name='Gradient Phase'))\n",
    "    fig.add_trace(go.Scatter(x=defectos[indice].index, y=defectos[indice]['Amplitude Envelope'], name='Amplitude Envelope'))\n",
    "    fig.add_trace(go.Scatter(x=defectos[indice].index, y=defectos[indice]['Filtered Signal'], name='Filtered Signal'))\n",
    "    fig.update_layout(title=f'Curva {indice}')\n",
    "    fig.show()\n",
    "    \n"
   ]
  },
  {
   "cell_type": "code",
   "execution_count": null,
   "metadata": {},
   "outputs": [],
   "source": [
    "width_df = pd.DataFrame(manual_width, columns=['start', 'end'])\n",
    "width_df['samples'] = width_df['end'] - width_df['start']\n",
    "width_df['duration'] = width_df['samples']/1000"
   ]
  },
  {
   "cell_type": "code",
   "execution_count": null,
   "metadata": {},
   "outputs": [],
   "source": [
    "width_df[['samples','duration']].describe()"
   ]
  },
  {
   "cell_type": "markdown",
   "metadata": {},
   "source": [
    "De los defectos encontrados, que se pueden apreciar como defectos. El 75% tiene una duración de 0.03 segundos, lo que significa que particionando la señal en ventanas de 0.03 segundos, se podrían aislar los defectos."
   ]
  },
  {
   "cell_type": "markdown",
   "metadata": {},
   "source": [
    "### **tiempos**\n",
    "\n",
    "Para los tiempos carácteristicos por defecto, se toma el indice del peak y luego a mitad de la curva descendente se toma el indice. El doble de la cantidad de muestras es representativo del tau del defecto. Notar que este valor tiene que ser menor a la duración total (cerca de 0.03s) de los defectos."
   ]
  },
  {
   "cell_type": "code",
   "execution_count": null,
   "metadata": {},
   "outputs": [],
   "source": [
    "def find_nearest(array, value):\n",
    "    array = np.asarray(array)\n",
    "    idx = (np.abs(array - value)).argmin()\n",
    "    return array[idx]"
   ]
  },
  {
   "cell_type": "code",
   "execution_count": null,
   "metadata": {},
   "outputs": [],
   "source": [
    "indices_tau = []\n",
    "for elem in defectos:\n",
    "    x = np.max(np.abs(elem['Gradient Phase']))\n",
    "    indice1 = elem[np.abs(elem['Gradient Phase']) == x].index[0]\n",
    "\n",
    "    y = x/2\n",
    "    subset = elem[1000:-700]\n",
    "    z = find_nearest(np.abs(subset['Gradient Phase']), y)\n",
    "\n",
    "    indice2 = subset[np.abs(subset['Gradient Phase']) == z].index[0]\n",
    "\n",
    "    indices_tau.append([indice1, indice2])\n",
    "\n"
   ]
  },
  {
   "cell_type": "code",
   "execution_count": null,
   "metadata": {},
   "outputs": [],
   "source": [
    "manual_tau = [\n",
    "    [20293, 20301],\n",
    "    [31735, 31742],\n",
    "    [32531, 32539],\n",
    "    [52578, 52584],\n",
    "    [55374, 55381],\n",
    "    [64117, 64124],\n",
    "    [68952, 68958],\n",
    "    [98952, 98958],\n",
    "    [113298, 113305],\n",
    "    [116651, 116658],\n",
    "    [118529, 118556], #10, no defecto\n",
    "    [143235, 143241],\n",
    "    [172396, 172402],\n",
    "    [173134, 173141],\n",
    "    [179818, 179826],\n",
    "    [240281, 240289],\n",
    "    [244981, 244987],\n",
    "    [247717, 247724],\n",
    "    [336895, 336901],\n",
    "    [344927, 344933],\n",
    "    [371619, 371626], #nº20\n",
    "    [387329, 387335],\n",
    "    [399429, 399440], #nº 22 posible no defecto\n",
    "    [403555, 403561],\n",
    "    [408709, 408725],\n",
    "    [426218, 426224],\n",
    "    [447676, 447684],\n",
    "    [477968, 477984],\n",
    "    [486140, 486147],\n",
    "    [501881, 501887],\n",
    "    [525136, 525143], #nº30\n",
    "    [539873, 539880],\n",
    "    [561220, 561227],\n",
    "    [565167, 565175],\n",
    "    [573902, 573921],\n",
    "    [574002, 574008],\n",
    "    [574760, 574766]\n",
    "]"
   ]
  },
  {
   "cell_type": "code",
   "execution_count": null,
   "metadata": {},
   "outputs": [],
   "source": [
    "copy_manual_tau = manual_tau.copy()\n",
    "manual_tau = np.delete(manual_tau, no_defectos, axis=0)"
   ]
  },
  {
   "cell_type": "code",
   "execution_count": null,
   "metadata": {},
   "outputs": [],
   "source": [
    "tau_df = pd.DataFrame(manual_tau, columns=['peak_idx', 'median_idx'])\n",
    "tau_df['tau_samples'] = (tau_df['median_idx'] - tau_df['peak_idx'])*2\n",
    "tau_df['tau'] = tau_df['tau_samples']/1000\n",
    "tau_df.head()"
   ]
  },
  {
   "cell_type": "code",
   "execution_count": null,
   "metadata": {},
   "outputs": [],
   "source": [
    "tau_df"
   ]
  },
  {
   "cell_type": "code",
   "execution_count": null,
   "metadata": {},
   "outputs": [],
   "source": [
    "14/33.5"
   ]
  },
  {
   "cell_type": "code",
   "execution_count": null,
   "metadata": {},
   "outputs": [],
   "source": [
    "tau_df[['tau', 'tau_samples']].describe()"
   ]
  },
  {
   "cell_type": "markdown",
   "metadata": {},
   "source": [
    "### **correlación con el resto de la señal**"
   ]
  },
  {
   "cell_type": "code",
   "execution_count": null,
   "metadata": {},
   "outputs": [],
   "source": [
    "#tomo 100 pts antes y después del defecto nº 1 y saco la correlación con el resto de la señal\n",
    "\n",
    "defecto_1 = defectos[0][400:-400]\n",
    "\n",
    "plt.figure(figsize=(7,5))\n",
    "plt.plot(np.abs(defecto_1['Gradient Phase']))\n",
    "plt.title('Defecto nº 1')\n",
    "plt.show()"
   ]
  },
  {
   "cell_type": "code",
   "execution_count": null,
   "metadata": {},
   "outputs": [],
   "source": [
    "#señal a la que le vamos a hacer correlación\n",
    "\n",
    "signal_grad = np.abs(df['Gradient Phase'])\n",
    "plt.figure(figsize=(15,5))\n",
    "plt.plot(signal_grad)\n",
    "plt.title('Gradiente de fase, señal completa')\n",
    "plt.show()"
   ]
  },
  {
   "cell_type": "code",
   "execution_count": null,
   "metadata": {},
   "outputs": [],
   "source": [
    "correlation = signal.correlate(np.abs(defecto_1['Gradient Phase']), signal_grad, mode = 'full')\n",
    "\n",
    "fig = go.Figure()\n",
    "fig.add_trace(go.Scatter(y = correlation, name = 'Correlación'))\n",
    "fig.add_trace(go.Scatter(y = signal_grad, opacity=0.5, name = 'Gradiente de fase'))\n",
    "fig.update_layout(title = 'Correlación defecto nº 1 con señal completa')\n",
    "fig.show()\n",
    "\n"
   ]
  },
  {
   "cell_type": "markdown",
   "metadata": {},
   "source": [
    "no se puede ver de manera clara que los puntos de más alta correlación sean los peaks de la señal. Se descarta para el análisis."
   ]
  }
 ],
 "metadata": {
  "kernelspec": {
   "display_name": "Python 3",
   "language": "python",
   "name": "python3"
  },
  "language_info": {
   "codemirror_mode": {
    "name": "ipython",
    "version": 3
   },
   "file_extension": ".py",
   "mimetype": "text/x-python",
   "name": "python",
   "nbconvert_exporter": "python",
   "pygments_lexer": "ipython3",
   "version": "3.12.0"
  }
 },
 "nbformat": 4,
 "nbformat_minor": 2
}
