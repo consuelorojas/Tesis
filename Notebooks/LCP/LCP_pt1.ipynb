{
 "cells": [
  {
   "cell_type": "code",
   "execution_count": null,
   "metadata": {},
   "outputs": [],
   "source": [
    "#librerias\n",
    "import numpy as np\n",
    "import matplotlib.pyplot as plt\n",
    "import scipy.signal as sig\n",
    "import scipy.fftpack as fourier\n",
    "import seaborn as sns\n",
    "\n",
    "\n",
    "sns.set_style(\"darkgrid\")"
   ]
  },
  {
   "cell_type": "markdown",
   "metadata": {},
   "source": [
    "## **LCP**\n",
    "Se segmenta la onda en partes iguales, dependiendo de la frecuencia de la onda y la frecuencia de sampleo.\n",
    "Se ve si se puede carácterizar por LCP y luego aplicas algún método de clustering."
   ]
  },
  {
   "cell_type": "code",
   "execution_count": null,
   "metadata": {},
   "outputs": [],
   "source": []
  }
 ],
 "metadata": {
  "language_info": {
   "name": "python"
  },
  "orig_nbformat": 4
 },
 "nbformat": 4,
 "nbformat_minor": 2
}
