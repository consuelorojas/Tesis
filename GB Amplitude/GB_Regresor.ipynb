{
 "cells": [
  {
   "cell_type": "code",
   "execution_count": 1,
   "metadata": {},
   "outputs": [],
   "source": [
    "#files\n",
    "import sys\n",
    "#from os import listdir\n",
    "sys.path.append('../data')\n",
    "sys.path.append('../Librerias')\n",
    "#from os.path import isfile, join\n",
    "\n",
    "#own libs\n",
    "import utils\n",
    "import caract as dc\n",
    "import dataset as ds\n",
    "from models import SimpleRNN, LSTM\n",
    "#from lstm_models import LSTM\n",
    "import utils_2 as ut2\n",
    "from traindata import trainData\n",
    "\n",
    "\n",
    "\n",
    "#data and visualization\n",
    "import numpy as np\n",
    "import pandas as pd\n",
    "import seaborn as sns\n",
    "import plotly.express as px\n",
    "import matplotlib.pyplot as plt\n",
    "import plotly.graph_objects as go\n",
    "from sklearn.preprocessing import MinMaxScaler\n",
    "from sklearn.ensemble import RandomForestRegressor\n",
    "from sklearn.ensemble import HistGradientBoostingRegressor, GradientBoostingRegressor\n",
    "from sklearn.ensemble import AdaBoostRegressor\n",
    "from sklearn.model_selection import PredefinedSplit\n",
    "from sklearn.model_selection import GridSearchCV\n",
    "\n",
    "sns.set_style(\"darkgrid\")\n",
    "\n",
    "\n",
    "import numpy as np\n",
    "from tqdm import tqdm\n",
    "\n",
    "\n",
    "\n",
    "np.random.seed(seed=77)"
   ]
  },
  {
   "cell_type": "markdown",
   "metadata": {},
   "source": [
    "## **data**"
   ]
  },
  {
   "cell_type": "code",
   "execution_count": 2,
   "metadata": {},
   "outputs": [
    {
     "name": "stdout",
     "output_type": "stream",
     "text": [
      "0         0.006094\n",
      "1         0.006132\n",
      "2         0.006056\n",
      "3         0.006018\n",
      "4         0.006170\n",
      "            ...   \n",
      "599995    0.007766\n",
      "599996    0.007741\n",
      "599997    0.007761\n",
      "599998    0.007748\n",
      "599999    0.007755\n",
      "Name: Amplitude, Length: 600000, dtype: float64\n",
      "0         0.006094\n",
      "1         0.006132\n",
      "2         0.006056\n",
      "3         0.006018\n",
      "4         0.006170\n",
      "            ...   \n",
      "599995    0.007766\n",
      "599996    0.007741\n",
      "599997    0.007761\n",
      "599998    0.007748\n",
      "599999    0.007755\n",
      "Name: Amplitude, Length: 600000, dtype: float64\n",
      "0         0.006094\n",
      "1         0.006132\n",
      "2         0.006056\n",
      "3         0.006018\n",
      "4         0.006170\n",
      "            ...   \n",
      "599995    0.007766\n",
      "599996    0.007741\n",
      "599997    0.007761\n",
      "599998    0.007748\n",
      "599999    0.007755\n",
      "Name: Amplitude, Length: 600000, dtype: float64\n",
      "0         0.006094\n",
      "1         0.006132\n",
      "2         0.006056\n",
      "3         0.006018\n",
      "4         0.006170\n",
      "            ...   \n",
      "599995    0.007766\n",
      "599996    0.007741\n",
      "599997    0.007761\n",
      "599998    0.007748\n",
      "599999    0.007755\n",
      "Name: Amplitude, Length: 600000, dtype: float64\n"
     ]
    }
   ],
   "source": [
    "#fpath = \"/Users/consu/OneDrive/Documentos/GitHub/Tesis/data/low/\"\n",
    "#fpath = \"/Users/granosftp/Documents/GitHub/Tesis/data/low/\"\n",
    "fpath = '/Users/consuelo/Documents/GitHub/Tesis/data/low/'\n",
    "fname = \"file1_080124.mat\"\n",
    "#cutoff = [8/1000, 11/1000]\n",
    "\n",
    "data = trainData(fpath, fname, 'Amplitude')\n",
    "train, val, test = data.split_data('Amplitude')"
   ]
  },
  {
   "cell_type": "code",
   "execution_count": 3,
   "metadata": {},
   "outputs": [],
   "source": [
    "# sub sampleo\n",
    "\n",
    "train = utils.subsample(train, 2)\n",
    "val = utils.subsample(val, 2)\n",
    "test = utils.subsample(test, 2)"
   ]
  },
  {
   "cell_type": "code",
   "execution_count": 4,
   "metadata": {},
   "outputs": [],
   "source": [
    "scaler = MinMaxScaler()\n",
    "train_scaled = scaler.fit_transform(train.reshape(-1, 1))\n",
    "val_scaled = scaler.transform(val.reshape(-1, 1))\n",
    "test_scaled = scaler.transform(test.reshape(-1, 1))"
   ]
  },
  {
   "cell_type": "code",
   "execution_count": 5,
   "metadata": {},
   "outputs": [
    {
     "data": {
      "text/plain": [
       "((209000, 1000), (209000,), (44000, 1000), (44000,), (2000, 1000), (2000,))"
      ]
     },
     "execution_count": 5,
     "metadata": {},
     "output_type": "execute_result"
    }
   ],
   "source": [
    "x_train, y_train = ut2.create_sequences(train_scaled, 1000, 1)\n",
    "x_train = x_train.squeeze()\n",
    "y_train = y_train.squeeze()\n",
    "\n",
    "x_val, y_val = ut2.create_sequences(val_scaled, 1000, 1)\n",
    "x_val = x_val.squeeze()\n",
    "y_val = y_val.squeeze()\n",
    "\n",
    "x_test, y_test = ut2.create_sequences(test_scaled[:3000], 1000, 1)\n",
    "x_test = x_test.squeeze()\n",
    "y_test = y_test.squeeze()\n",
    "\n",
    "x_train.shape, y_train.shape, x_val.shape, y_val.shape, x_test.shape, y_test.shape"
   ]
  },
  {
   "cell_type": "markdown",
   "metadata": {},
   "source": [
    "## **Gradient Boosting**"
   ]
  },
  {
   "cell_type": "code",
   "execution_count": 9,
   "metadata": {},
   "outputs": [
    {
     "data": {
      "text/plain": [
       "\"model = HistGradientBoostingRegressor()\\nparam = {'learning_rate': [0.001, 0.01, 0.1],\\n         'loss': ['squared_error', 'absolute_error', 'gamma', 'poisson'],\\n         'min_samples_leaf': [10, 20, 30],\\n         'scoring' : ['neg_mean_squared_error', 'neg_mean_percentage_absolute_error', 'neg_mean_absolute_error']\\n         }\""
      ]
     },
     "execution_count": 9,
     "metadata": {},
     "output_type": "execute_result"
    }
   ],
   "source": [
    "'''model = HistGradientBoostingRegressor()\n",
    "param = {'learning_rate': [0.001, 0.01, 0.1],\n",
    "         'loss': ['squared_error', 'absolute_error', 'gamma', 'poisson'],\n",
    "         'min_samples_leaf': [10, 20, 30],\n",
    "         'scoring' : ['neg_mean_squared_error', 'neg_mean_percentage_absolute_error', 'neg_mean_absolute_error']\n",
    "         }'''"
   ]
  },
  {
   "cell_type": "code",
   "execution_count": 10,
   "metadata": {},
   "outputs": [],
   "source": [
    "model = GradientBoostingRegressor()\n",
    "\n",
    "param = {'n_estimators': [10, 50, 100],\n",
    "         'learning_rate': [0.001, 0.01, 0.1],\n",
    "         'subsample': [0.5, 0.7, 1.0],\n",
    "         'max_depth': [3, 7, 9]\n",
    "         }"
   ]
  },
  {
   "cell_type": "code",
   "execution_count": 11,
   "metadata": {},
   "outputs": [
    {
     "name": "stdout",
     "output_type": "stream",
     "text": [
      "Fitting 5 folds for each of 81 candidates, totalling 405 fits\n"
     ]
    },
    {
     "name": "stdout",
     "output_type": "stream",
     "text": [
      "[CV] END learning_rate=0.001, max_depth=3, n_estimators=10, subsample=0.5; total time=   9.0s\n",
      "[CV] END learning_rate=0.001, max_depth=3, n_estimators=10, subsample=0.5; total time=   9.1s\n",
      "[CV] END learning_rate=0.001, max_depth=3, n_estimators=10, subsample=0.5; total time=   9.1s\n",
      "[CV] END learning_rate=0.001, max_depth=3, n_estimators=10, subsample=0.5; total time=   9.3s\n",
      "[CV] END learning_rate=0.001, max_depth=3, n_estimators=10, subsample=0.5; total time=   9.7s\n",
      "[CV] END learning_rate=0.001, max_depth=3, n_estimators=10, subsample=0.7; total time=  13.0s\n",
      "[CV] END learning_rate=0.001, max_depth=3, n_estimators=10, subsample=0.7; total time=  13.2s\n",
      "[CV] END learning_rate=0.001, max_depth=3, n_estimators=10, subsample=0.7; total time=  13.2s\n",
      "[CV] END learning_rate=0.001, max_depth=3, n_estimators=10, subsample=0.7; total time=  13.4s\n",
      "[CV] END learning_rate=0.001, max_depth=3, n_estimators=10, subsample=0.7; total time=  13.4s\n",
      "[CV] END learning_rate=0.001, max_depth=3, n_estimators=10, subsample=1.0; total time=  19.9s\n",
      "[CV] END learning_rate=0.001, max_depth=3, n_estimators=10, subsample=1.0; total time=  20.0s\n",
      "[CV] END learning_rate=0.001, max_depth=3, n_estimators=10, subsample=1.0; total time=  20.3s\n",
      "[CV] END learning_rate=0.001, max_depth=3, n_estimators=10, subsample=1.0; total time=  20.4s\n",
      "[CV] END learning_rate=0.001, max_depth=3, n_estimators=10, subsample=1.0; total time=  20.6s\n"
     ]
    }
   ],
   "source": [
    "test_fold = [-1 for _ in range(x_train[:5000].shape[0])] + [0 for _ in range(x_val[:3000].shape[0])]\n",
    "ps = PredefinedSplit(test_fold)\n",
    "\n",
    "#concateno matrices de training y validación\n",
    "xTrainVal = np.concatenate((x_train[:5000],x_val[:3000]),axis=0)\n",
    "yTrainVal = np.concatenate((y_train[:5000],y_val[:3000]),axis = 0)\n",
    "\n",
    "\n",
    "grid=GridSearchCV(model, param, n_jobs = -1, verbose = 2)\n",
    "grid.fit(xTrainVal,yTrainVal)\n",
    "\n",
    "print('Mejor Estimator: ', grid.best_estimator_)\n",
    "print('Mejores Parametros: ', grid.best_params_)\n"
   ]
  },
  {
   "cell_type": "code",
   "execution_count": null,
   "metadata": {},
   "outputs": [],
   "source": [
    "model = grid.best_estimator_"
   ]
  },
  {
   "cell_type": "code",
   "execution_count": null,
   "metadata": {},
   "outputs": [],
   "source": [
    "model.fit(x_train, y_train)"
   ]
  },
  {
   "cell_type": "code",
   "execution_count": null,
   "metadata": {},
   "outputs": [],
   "source": [
    "import pickle\n",
    "# save the model to disk\n",
    "filename = 'GBHist_model.sav'\n",
    "pickle.dump(model, open(filename, 'wb'))"
   ]
  },
  {
   "cell_type": "markdown",
   "metadata": {},
   "source": [
    "## **testeo**"
   ]
  },
  {
   "cell_type": "code",
   "execution_count": null,
   "metadata": {},
   "outputs": [],
   "source": [
    "def rollingWindowPrediction_SVR(model, x_test, steps=50):\n",
    "    output = []\n",
    "    N = x_test.shape[-1]\n",
    "\n",
    "    for elem in tqdm(x_test):\n",
    "        elem = elem.reshape(1, -1)\n",
    "        #print(elem)\n",
    "        test_aux = []\n",
    "        count = 0\n",
    "        while count < steps:\n",
    "            #print(count)\n",
    "            pred = model.predict(elem)\n",
    "            test_aux.append(pred[0])\n",
    "            elem = np.append(elem, pred)[1:].reshape(1,-1)\n",
    "            #print(elem.shape)\n",
    "            count += 1\n",
    "\n",
    "        output.append(test_aux)\n",
    "    return output"
   ]
  },
  {
   "cell_type": "code",
   "execution_count": null,
   "metadata": {},
   "outputs": [],
   "source": [
    "import pickle\n",
    "filename = 'SVR_model.sav'\n",
    "# load model\n",
    "model = pickle.load(open(filename, 'rb'))"
   ]
  },
  {
   "cell_type": "code",
   "execution_count": null,
   "metadata": {},
   "outputs": [],
   "source": [
    "test_pred = rollingWindowPrediction_SVR(model, x_test, steps = 50)"
   ]
  },
  {
   "cell_type": "code",
   "execution_count": null,
   "metadata": {},
   "outputs": [],
   "source": [
    "i = 65\n",
    "\n",
    "plt.plot(test_pred[i],'-+', label='Prediction')\n",
    "plt.plot(y_test[i:i+50], '-*',label='Real')\n",
    "plt.legend()\n",
    "plt.show()"
   ]
  }
 ],
 "metadata": {
  "kernelspec": {
   "display_name": "Python 3",
   "language": "python",
   "name": "python3"
  },
  "language_info": {
   "codemirror_mode": {
    "name": "ipython",
    "version": 3
   },
   "file_extension": ".py",
   "mimetype": "text/x-python",
   "name": "python",
   "nbconvert_exporter": "python",
   "pygments_lexer": "ipython3",
   "version": "3.12.0"
  }
 },
 "nbformat": 4,
 "nbformat_minor": 2
}
